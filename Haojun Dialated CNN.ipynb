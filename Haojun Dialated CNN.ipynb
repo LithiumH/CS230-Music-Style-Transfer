{
 "cells": [
  {
   "cell_type": "markdown",
   "metadata": {},
   "source": [
    "# Realizing Velocity Prediction with CNN\n",
    "\n",
    "This part of the notebook attempts to realize the velocity prediction with CNN as opposed to the LSTM models used in the original [paper](https://arxiv.org/pdf/1708.03535.pdf). "
   ]
  },
  {
   "cell_type": "code",
   "execution_count": null,
   "metadata": {},
   "outputs": [],
   "source": [
    "import os\n",
    "import mido\n",
    "import keras\n",
    "import numpy as np\n",
    "import sklearn.model_selection as ms\n",
    "import matplotlib.pyplot as plt"
   ]
  },
  {
   "cell_type": "code",
   "execution_count": null,
   "metadata": {},
   "outputs": [],
   "source": [
    "import tensorflow as tf\n",
    "from keras.backend.tensorflow_backend import set_session\n",
    "\n",
    "config = tf.ConfigProto()\n",
    "config.gpu_options.allow_growth = True\n",
    "session = tf.Session(config=config)\n",
    "set_session(session)"
   ]
  },
  {
   "cell_type": "code",
   "execution_count": null,
   "metadata": {},
   "outputs": [],
   "source": [
    "from keras import backend as K\n",
    "K.tensorflow_backend._get_available_gpus()"
   ]
  },
  {
   "cell_type": "markdown",
   "metadata": {},
   "source": [
    "###  Modeling\n",
    "Now we have represented our data, we would like to see if we can build a model that predicts the velocities through the 3D matrix we generated"
   ]
  },
  {
   "cell_type": "code",
   "execution_count": null,
   "metadata": {},
   "outputs": [],
   "source": [
    "X = np.load('matricies/notes.npy')\n",
    "Y = np.load('matricies/velocities.npy')\n",
    "labels = np.load('matricies/labels.npy')"
   ]
  },
  {
   "cell_type": "code",
   "execution_count": null,
   "metadata": {},
   "outputs": [],
   "source": [
    "X_classical = X[(labels == 1).ravel()]\n",
    "Y_classical = Y[(labels == 1).ravel()]\n",
    "# X_classical = X_classical[:,:,:,1]"
   ]
  },
  {
   "cell_type": "code",
   "execution_count": null,
   "metadata": {},
   "outputs": [],
   "source": [
    "X_train, X_test, Y_train, Y_test = ms.train_test_split(X_classical, Y_classical, test_size=0.1, random_state=43)\n",
    "print(X_train.shape, X_test.shape, Y_train.shape, Y_test.shape)"
   ]
  },
  {
   "cell_type": "markdown",
   "metadata": {},
   "source": [
    "#### 2.1 Attempt to use a CNN \n",
    "\n",
    "The code block below will split the dataset into train and test datasets."
   ]
  },
  {
   "cell_type": "code",
   "execution_count": null,
   "metadata": {},
   "outputs": [],
   "source": [
    "def model1(input_shape):\n",
    "    X_input = keras.layers.Input(input_shape)\n",
    "    X_on_off = keras.layers.Lambda(lambda X:X[:,:,:,0])(X_input)\n",
    "    X_sustain = keras.layers.Lambda(lambda X:X[:,:,:,1])(X_input)\n",
    "    X = X_sustain\n",
    "    X = keras.layers.ZeroPadding1D((185, 0))(X)\n",
    "    X = keras.layers.Conv1D(filters=input_shape[-2], kernel_size=64, dilation_rate=1, name='Conv0',\n",
    "                            kernel_initializer=keras.initializers.glorot_normal(seed=None),\n",
    "                            bias_initializer=keras.initializers.glorot_normal(seed=None),\n",
    "                            data_format=\"channels_last\")(X)\n",
    "    X = keras.layers.BatchNormalization(axis = 2, name = 'bn0')(X)\n",
    "    X = keras.layers.Conv1D(filters=input_shape[-2], kernel_size=32, dilation_rate=2, padding='valid', name='Conv1',\n",
    "                            kernel_initializer=keras.initializers.glorot_normal(seed=None),\n",
    "                            bias_initializer=keras.initializers.glorot_normal(seed=None),\n",
    "                            data_format=\"channels_last\")(X)\n",
    "    X = keras.layers.BatchNormalization(axis = 2, name = 'bn1')(X)\n",
    "    X = keras.layers.Conv1D(filters=input_shape[-2], kernel_size=16, dilation_rate=4, padding='valid', name='Conv2',\n",
    "                            kernel_initializer=keras.initializers.glorot_normal(seed=None),\n",
    "                            bias_initializer=keras.initializers.glorot_normal(seed=None),\n",
    "                            data_format=\"channels_last\")(X)\n",
    "    X = keras.layers.BatchNormalization(axis = 2, name = 'bn2')(X)\n",
    "    X = keras.layers.Activation('relu')(X)\n",
    "    print(X.shape)\n",
    "    print(X_on_off.shape)\n",
    "    X = keras.layers.Multiply()([X, X_on_off])\n",
    "#     X = keras.layers.Flatten()(X)\n",
    "    model = keras.models.Model(inputs=X_input, outputs=X, name='basic')\n",
    "    return model"
   ]
  },
  {
   "cell_type": "code",
   "execution_count": null,
   "metadata": {},
   "outputs": [],
   "source": [
    "m1 = model1(input_shape=X_train.shape[1:])\n",
    "m1.compile(optimizer='adam', loss='mean_squared_error', metrics=['accuracy'])"
   ]
  },
  {
   "cell_type": "code",
   "execution_count": null,
   "metadata": {},
   "outputs": [],
   "source": [
    "m1.summary()"
   ]
  },
  {
   "cell_type": "code",
   "execution_count": null,
   "metadata": {},
   "outputs": [],
   "source": [
    "m1.fit(X_train, Y_train, epochs = 20, batch_size=8) # Run multiple times to train further!"
   ]
  },
  {
   "cell_type": "code",
   "execution_count": null,
   "metadata": {},
   "outputs": [],
   "source": [
    "m1.save('classical.h5')"
   ]
  },
  {
   "cell_type": "code",
   "execution_count": null,
   "metadata": {},
   "outputs": [],
   "source": [
    "m1 = keras.models.load_model('m1_conv.h5')"
   ]
  },
  {
   "cell_type": "code",
   "execution_count": null,
   "metadata": {},
   "outputs": [],
   "source": [
    "preds = m1.evaluate(X_test, Y_test)\n",
    "print (\"Loss = \" + str(preds[0]))\n",
    "print (\"Test Accuracy = \" + str(preds[1]))"
   ]
  },
  {
   "cell_type": "code",
   "execution_count": null,
   "metadata": {},
   "outputs": [],
   "source": [
    "Y_0_hat = m1.predict(np.expand_dims(X_test[0], axis=0))\n",
    "Y_0_hat = Y_0_hat.reshape(-1, X_test.shape[-2])"
   ]
  },
  {
   "cell_type": "code",
   "execution_count": null,
   "metadata": {},
   "outputs": [],
   "source": [
    "Y_0_hat.shape"
   ]
  },
  {
   "cell_type": "code",
   "execution_count": null,
   "metadata": {},
   "outputs": [],
   "source": [
    "plt.figure(figsize = (200,10))\n",
    "plt.imshow(Y_0_hat)"
   ]
  },
  {
   "cell_type": "code",
   "execution_count": null,
   "metadata": {},
   "outputs": [],
   "source": [
    "plt.figure(figsize = (200,10))\n",
    "plt.imshow(Y_test[0].reshape(-1, X_test.shape[-2]))"
   ]
  },
  {
   "cell_type": "markdown",
   "metadata": {},
   "source": [
    "It doesn't look bad!!! IM HAPPY\n",
    "\n",
    "# Jazz\n",
    "\n",
    "Now we need to move on to train another velocity generator for jazz. We will be using the same architecture"
   ]
  },
  {
   "cell_type": "code",
   "execution_count": null,
   "metadata": {},
   "outputs": [],
   "source": [
    "X_jazz = X[(labels == 0).ravel()]\n",
    "Y_jazz = Y[(labels == 0).ravel()]\n",
    "# X_classical = X_classical[:,:,:,1]"
   ]
  },
  {
   "cell_type": "code",
   "execution_count": null,
   "metadata": {},
   "outputs": [],
   "source": [
    "X_train, X_test, Y_train, Y_test = ms.train_test_split(X_jazz, Y_jazz, test_size=0.1, random_state=43)\n",
    "print(X_train.shape, X_test.shape, Y_train.shape, Y_test.shape)"
   ]
  },
  {
   "cell_type": "code",
   "execution_count": null,
   "metadata": {},
   "outputs": [],
   "source": [
    "m2 = model1(input_shape=X_train.shape[1:])\n",
    "m2.compile(optimizer='adam', loss='mean_squared_error', metrics=['accuracy'])"
   ]
  },
  {
   "cell_type": "code",
   "execution_count": null,
   "metadata": {},
   "outputs": [],
   "source": [
    "m2.summary()"
   ]
  },
  {
   "cell_type": "code",
   "execution_count": null,
   "metadata": {
    "scrolled": true
   },
   "outputs": [],
   "source": [
    "m2.fit(X_train, Y_train, epochs = 50, batch_size=16) # Run multiple times to train further!"
   ]
  },
  {
   "cell_type": "code",
   "execution_count": null,
   "metadata": {},
   "outputs": [],
   "source": [
    "m2.save('jazz.h5')"
   ]
  },
  {
   "cell_type": "code",
   "execution_count": null,
   "metadata": {},
   "outputs": [],
   "source": [
    "m2 = keras.models.load_mode('jazz.h5')"
   ]
  },
  {
   "cell_type": "code",
   "execution_count": null,
   "metadata": {},
   "outputs": [],
   "source": [
    "Y_0_hat = m1.predict(np.expand_dims(X_test[0], axis=0))\n",
    "Y_0_hat = Y_0_hat.reshape(-1, X_test.shape[-2])\n",
    "Y_0_hat.shape\n",
    "plt.figure(figsize = (200,10))\n",
    "plt.imshow(Y_0_hat)"
   ]
  },
  {
   "cell_type": "code",
   "execution_count": null,
   "metadata": {},
   "outputs": [],
   "source": [
    "plt.figure(figsize = (200,10))\n",
    "plt.imshow(Y_test[0].reshape(-1, X_test.shape[-2]))"
   ]
  },
  {
   "cell_type": "markdown",
   "metadata": {},
   "source": [
    "# Generate\n",
    "\n",
    "Now let us generate some music with this."
   ]
  },
  {
   "cell_type": "code",
   "execution_count": null,
   "metadata": {},
   "outputs": [],
   "source": [
    "target_ticks_per_beat = 8\n",
    "notes_to_keep_down = 32\n",
    "def generate(notes_mat, velocity_mat, bpm, seconds):\n",
    "    new_midi = mido.MidiFile(type=0)\n",
    "    new_midi.ticks_per_beat = target_ticks_per_beat\n",
    "    track = mido.MidiTrack()\n",
    "    new_midi.tracks.append(track)\n",
    "\n",
    "    track.append(mido.MetaMessage('set_tempo', tempo=mido.bpm2tempo(bpm), time=0))\n",
    "    track.append(mido.MetaMessage('time_signature', numerator=4, denominator=4, \n",
    "                             clocks_per_click=24, notated_32nd_notes_per_beat=8, time=0))\n",
    "    track.append(mido.MetaMessage('track_name', name='Test Track', time=0))\n",
    "\n",
    "    T, N, D = notes_mat.shape\n",
    "    notes_on = [False] * N\n",
    "    prev_event_t = 0\n",
    "    Ty = seconds * bpm // 60 * target_ticks_per_beat\n",
    "    print('generating {0} ticks of music'.format(Ty))\n",
    "    for t in range(Ty):\n",
    "        for n in range(N-2):\n",
    "            if notes_mat[t, n, 0] > 0:\n",
    "                velocity = velocity_mat[t, n]\n",
    "                track.append(mido.Message('note_on', note=n + notes_to_keep_down, velocity=velocity, time=t-prev_event_t))\n",
    "                prev_event_t = t\n",
    "                notes_on[n] = True\n",
    "            if notes_on[n] and notes_mat[t, n, 1] == 0:\n",
    "                track.append(mido.Message('note_on', note=n + notes_to_keep_down, velocity=0, time=t-prev_event_t))\n",
    "                prev_event_t = t\n",
    "                notes_on[n] = False\n",
    "        if notes_mat[t, N-2, 0] == 1:\n",
    "            track.append(mido.Message('control_change', control=64, value=127, time=t-prev_event_t))\n",
    "            prev_event_t = t\n",
    "            notes_on[N-2] = True\n",
    "        if notes_mat[t, N-1, 0] == 1:\n",
    "            track.append(mido.Message('control_change', control=67, value=127, time=t-prev_event_t))\n",
    "            prev_event_t = t\n",
    "            notes_on[N-2] = True\n",
    "        if notes_on[N-2] and notes_mat[t, N-2, 1] == 0:\n",
    "            track.append(mido.Message('control_change', control=64, value=0, time=t-prev_event_t))\n",
    "            prev_event_t = t\n",
    "            notes_on[N-2] = False\n",
    "        if notes_on[N-1] and notes_mat[t, N-1, 1] == 0:\n",
    "            track.append(mido.Message('control_change', control=67, value=0, time=t-prev_event_t))\n",
    "            prev_event_t = t\n",
    "            notes_on[N-1] = False\n",
    "    return new_midi"
   ]
  },
  {
   "cell_type": "code",
   "execution_count": null,
   "metadata": {},
   "outputs": [],
   "source": [
    "new_midi = generate(X_test[0], np.round(Y_0_hat).astype(np.int32), 120, 30)\n",
    "old_midi = generate(X_test[0], Y_test[0], 120, 30)\n",
    "new_midi.save('vel_generate.midi')\n",
    "old_midi.save('vel_original.midi')"
   ]
  },
  {
   "cell_type": "markdown",
   "metadata": {},
   "source": [
    "# Cross Generate\n",
    "\n",
    "Now let us see if music play style transfer will work by generating a velocity matrix from a jazz music with the classical music model.\n"
   ]
  },
  {
   "cell_type": "code",
   "execution_count": null,
   "metadata": {},
   "outputs": [],
   "source": [
    "X_classical.shape"
   ]
  },
  {
   "cell_type": "code",
   "execution_count": null,
   "metadata": {},
   "outputs": [],
   "source": [
    "Y_0_hat = m2.predict(np.expand_dims(X_classical[100], axis=0))\n",
    "Y_0_hat = Y_0_hat.reshape(-1, X_test.shape[-2])\n",
    "Y_0_hat.shape\n",
    "# plt.figure(figsize = (200,10))\n",
    "# plt.imshow(Y_0_hat)"
   ]
  },
  {
   "cell_type": "code",
   "execution_count": null,
   "metadata": {},
   "outputs": [],
   "source": [
    "# plt.figure(figsize = (200,10))\n",
    "# plt.imshow(Y_classical[100])"
   ]
  },
  {
   "cell_type": "code",
   "execution_count": null,
   "metadata": {},
   "outputs": [],
   "source": [
    "new_midi = generate(X_classical[100], np.round(Y_0_hat).astype(np.int32), 110, 30)\n",
    "old_midi = generate(X_classical[100], Y_classical[100], 110, 30)\n",
    "new_midi.save('vel_generate_c2j.midi')\n",
    "old_midi.save('vel_original_c2j.midi')"
   ]
  },
  {
   "cell_type": "code",
   "execution_count": null,
   "metadata": {},
   "outputs": [],
   "source": [
    "Y_0_hat = m1.predict(np.expand_dims(X_jazz[64], axis=0))\n",
    "Y_0_hat = Y_0_hat.reshape(-1, X_test.shape[-2])\n",
    "Y_0_hat.shape\n",
    "new_midi = generate(X_jazz[64], np.round(Y_0_hat).astype(np.int32), 110, 30)\n",
    "old_midi = generate(X_jazz[64], Y_jazz[64], 110, 30)\n",
    "new_midi.save('vel_generate_j2c.midi')\n",
    "old_midi.save('vel_original_j2c.midi')\n"
   ]
  },
  {
   "cell_type": "code",
   "execution_count": null,
   "metadata": {},
   "outputs": [],
   "source": [
    "plt.figure(figsize = (200,10))\n",
    "plt.imshow(Y_0_hat)"
   ]
  },
  {
   "cell_type": "code",
   "execution_count": null,
   "metadata": {},
   "outputs": [],
   "source": [
    "plt.figure(figsize = (200,10))\n",
    "plt.imshow(Y_jazz[64])"
   ]
  },
  {
   "cell_type": "code",
   "execution_count": null,
   "metadata": {},
   "outputs": [],
   "source": []
  }
 ],
 "metadata": {
  "kernelspec": {
   "display_name": "Python 3",
   "language": "python",
   "name": "python3"
  },
  "language_info": {
   "codemirror_mode": {
    "name": "ipython",
    "version": 3
   },
   "file_extension": ".py",
   "mimetype": "text/x-python",
   "name": "python",
   "nbconvert_exporter": "python",
   "pygments_lexer": "ipython3",
   "version": "3.6.5"
  }
 },
 "nbformat": 4,
 "nbformat_minor": 2
}
