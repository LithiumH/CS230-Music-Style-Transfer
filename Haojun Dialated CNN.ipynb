{
 "cells": [
  {
   "cell_type": "markdown",
   "metadata": {},
   "source": [
    "# Realizing Velocity Prediction with CNN\n",
    "\n",
    "This part of the notebook attempts to realize the velocity prediction with CNN as opposed to the LSTM models used in the original [paper](https://arxiv.org/pdf/1708.03535.pdf). "
   ]
  },
  {
   "cell_type": "code",
   "execution_count": 3,
   "metadata": {},
   "outputs": [
    {
     "name": "stderr",
     "output_type": "stream",
     "text": [
      "Using TensorFlow backend.\n"
     ]
    }
   ],
   "source": [
    "import os\n",
    "import mido\n",
    "import keras\n",
    "import numpy as np\n",
    "import sklearn.model_selection as ms\n",
    "import matplotlib.pyplot as plt"
   ]
  },
  {
   "cell_type": "code",
   "execution_count": 4,
   "metadata": {},
   "outputs": [],
   "source": [
    "import tensorflow as tf\n",
    "from keras.backend.tensorflow_backend import set_session\n",
    "\n",
    "config = tf.ConfigProto()\n",
    "config.gpu_options.allow_growth = True\n",
    "session = tf.Session(config=config)\n",
    "set_session(session)"
   ]
  },
  {
   "cell_type": "code",
   "execution_count": 5,
   "metadata": {},
   "outputs": [
    {
     "data": {
      "text/plain": [
       "[]"
      ]
     },
     "execution_count": 5,
     "metadata": {},
     "output_type": "execute_result"
    }
   ],
   "source": [
    "from keras import backend as K\n",
    "K.tensorflow_backend._get_available_gpus()"
   ]
  },
  {
   "cell_type": "markdown",
   "metadata": {},
   "source": [
    "###  Modeling\n",
    "Now we have represented our data, we would like to see if we can build a model that predicts the velocities through the 3D matrix we generated"
   ]
  },
  {
   "cell_type": "code",
   "execution_count": 6,
   "metadata": {},
   "outputs": [],
   "source": [
    "X = np.load('matricies/notes.npy')\n",
    "Y = np.load('matricies/velocities.npy')\n",
    "labels = np.load('matricies/labels.npy')"
   ]
  },
  {
   "cell_type": "code",
   "execution_count": 7,
   "metadata": {},
   "outputs": [],
   "source": [
    "X_classical = X[(labels == 1).ravel()]\n",
    "Y_classical = Y[(labels == 1).ravel()]\n",
    "# X_classical = X_classical[:,:,:,1]"
   ]
  },
  {
   "cell_type": "code",
   "execution_count": 15,
   "metadata": {},
   "outputs": [
    {
     "name": "stdout",
     "output_type": "stream",
     "text": [
      "(3750, 480, 59, 2) (417, 480, 59, 2) (3750, 480, 59) (417, 480, 59)\n"
     ]
    }
   ],
   "source": [
    "X_train, X_test, Y_train, Y_test = ms.train_test_split(X_classical, Y_classical, test_size=0.1, random_state=43)\n",
    "print(X_train.shape, X_test.shape, Y_train.shape, Y_test.shape)"
   ]
  },
  {
   "cell_type": "markdown",
   "metadata": {},
   "source": [
    "#### 2.1 Attempt to use a CNN of filter size (100, 1)\n",
    "\n",
    "First we will try to use a CNN of filter size (100, 1) and see if we can correctly fit the velocity data.\n",
    "The code block below will split the dataset into train and test datasets."
   ]
  },
  {
   "cell_type": "code",
   "execution_count": 16,
   "metadata": {},
   "outputs": [],
   "source": [
    "def model1(input_shape):\n",
    "    X_input = keras.layers.Input(input_shape)\n",
    "    X_on_off = keras.layers.Lambda(lambda X:X[:,:,:,0])(X_input)\n",
    "    X_sustain = keras.layers.Lambda(lambda X:X[:,:,:,1])(X_input)\n",
    "    X = X_sustain\n",
    "    X = keras.layers.ZeroPadding1D((185, 0))(X)\n",
    "    X = keras.layers.Conv1D(filters=input_shape[-2], kernel_size=64, dilation_rate=1, name='Conv0',\n",
    "                            kernel_initializer=keras.initializers.glorot_normal(seed=None),\n",
    "                            bias_initializer=keras.initializers.glorot_normal(seed=None),\n",
    "                            data_format=\"channels_last\")(X)\n",
    "    X = keras.layers.BatchNormalization(axis = 2, name = 'bn0')(X)\n",
    "    X = keras.layers.Conv1D(filters=input_shape[-2], kernel_size=32, dilation_rate=2, padding='valid', name='Conv1',\n",
    "                            kernel_initializer=keras.initializers.glorot_normal(seed=None),\n",
    "                            bias_initializer=keras.initializers.glorot_normal(seed=None),\n",
    "                            data_format=\"channels_last\")(X)\n",
    "    X = keras.layers.BatchNormalization(axis = 2, name = 'bn1')(X)\n",
    "    X = keras.layers.Conv1D(filters=input_shape[-2], kernel_size=16, dilation_rate=4, padding='valid', name='Conv2',\n",
    "                            kernel_initializer=keras.initializers.glorot_normal(seed=None),\n",
    "                            bias_initializer=keras.initializers.glorot_normal(seed=None),\n",
    "                            data_format=\"channels_last\")(X)\n",
    "    X = keras.layers.BatchNormalization(axis = 2, name = 'bn2')(X)\n",
    "    X = keras.layers.Activation('relu')(X)\n",
    "    print(X.shape)\n",
    "    print(X_on_off.shape)\n",
    "    X = keras.layers.Multiply()([X, X_on_off])\n",
    "#     X = keras.layers.Flatten()(X)\n",
    "    model = keras.models.Model(inputs=X_input, outputs=X, name='basic')\n",
    "    return model"
   ]
  },
  {
   "cell_type": "code",
   "execution_count": 17,
   "metadata": {},
   "outputs": [
    {
     "name": "stdout",
     "output_type": "stream",
     "text": [
      "(?, 480, 59)\n",
      "(?, 480, 59)\n"
     ]
    }
   ],
   "source": [
    "m1 = model1(input_shape=X_train.shape[1:])\n",
    "m1.compile(optimizer='adam', loss='mean_squared_error', metrics=['accuracy'])"
   ]
  },
  {
   "cell_type": "code",
   "execution_count": 18,
   "metadata": {},
   "outputs": [
    {
     "name": "stdout",
     "output_type": "stream",
     "text": [
      "__________________________________________________________________________________________________\n",
      "Layer (type)                    Output Shape         Param #     Connected to                     \n",
      "==================================================================================================\n",
      "input_1 (InputLayer)            (None, 480, 59, 2)   0                                            \n",
      "__________________________________________________________________________________________________\n",
      "lambda_2 (Lambda)               (None, 480, 59)      0           input_1[0][0]                    \n",
      "__________________________________________________________________________________________________\n",
      "zero_padding1d_1 (ZeroPadding1D (None, 665, 59)      0           lambda_2[0][0]                   \n",
      "__________________________________________________________________________________________________\n",
      "Conv0 (Conv1D)                  (None, 602, 59)      222843      zero_padding1d_1[0][0]           \n",
      "__________________________________________________________________________________________________\n",
      "bn0 (BatchNormalization)        (None, 602, 59)      236         Conv0[0][0]                      \n",
      "__________________________________________________________________________________________________\n",
      "Conv1 (Conv1D)                  (None, 540, 59)      111451      bn0[0][0]                        \n",
      "__________________________________________________________________________________________________\n",
      "bn1 (BatchNormalization)        (None, 540, 59)      236         Conv1[0][0]                      \n",
      "__________________________________________________________________________________________________\n",
      "Conv2 (Conv1D)                  (None, 480, 59)      55755       bn1[0][0]                        \n",
      "__________________________________________________________________________________________________\n",
      "bn2 (BatchNormalization)        (None, 480, 59)      236         Conv2[0][0]                      \n",
      "__________________________________________________________________________________________________\n",
      "activation_1 (Activation)       (None, 480, 59)      0           bn2[0][0]                        \n",
      "__________________________________________________________________________________________________\n",
      "lambda_1 (Lambda)               (None, 480, 59)      0           input_1[0][0]                    \n",
      "__________________________________________________________________________________________________\n",
      "multiply_1 (Multiply)           (None, 480, 59)      0           activation_1[0][0]               \n",
      "                                                                 lambda_1[0][0]                   \n",
      "==================================================================================================\n",
      "Total params: 390,757\n",
      "Trainable params: 390,403\n",
      "Non-trainable params: 354\n",
      "__________________________________________________________________________________________________\n"
     ]
    }
   ],
   "source": [
    "m1.summary()"
   ]
  },
  {
   "cell_type": "code",
   "execution_count": 19,
   "metadata": {},
   "outputs": [
    {
     "name": "stdout",
     "output_type": "stream",
     "text": [
      "Epoch 1/20\n",
      "1472/3750 [==========>...................] - ETA: 30s - loss: 45.3958 - acc: 0.8096"
     ]
    },
    {
     "ename": "KeyboardInterrupt",
     "evalue": "",
     "output_type": "error",
     "traceback": [
      "\u001b[0;31m---------------------------------------------------------------------------\u001b[0m",
      "\u001b[0;31mKeyboardInterrupt\u001b[0m                         Traceback (most recent call last)",
      "\u001b[0;32m<ipython-input-19-86702a66b890>\u001b[0m in \u001b[0;36m<module>\u001b[0;34m\u001b[0m\n\u001b[0;32m----> 1\u001b[0;31m \u001b[0mm1\u001b[0m\u001b[0;34m.\u001b[0m\u001b[0mfit\u001b[0m\u001b[0;34m(\u001b[0m\u001b[0mX_train\u001b[0m\u001b[0;34m,\u001b[0m \u001b[0mY_train\u001b[0m\u001b[0;34m,\u001b[0m \u001b[0mepochs\u001b[0m \u001b[0;34m=\u001b[0m \u001b[0;36m20\u001b[0m\u001b[0;34m,\u001b[0m \u001b[0mbatch_size\u001b[0m\u001b[0;34m=\u001b[0m\u001b[0;36m16\u001b[0m\u001b[0;34m)\u001b[0m \u001b[0;31m# Run multiple times to train further!\u001b[0m\u001b[0;34m\u001b[0m\u001b[0m\n\u001b[0m",
      "\u001b[0;32m/Library/Frameworks/Python.framework/Versions/3.6/lib/python3.6/site-packages/keras/engine/training.py\u001b[0m in \u001b[0;36mfit\u001b[0;34m(self, x, y, batch_size, epochs, verbose, callbacks, validation_split, validation_data, shuffle, class_weight, sample_weight, initial_epoch, steps_per_epoch, validation_steps, **kwargs)\u001b[0m\n\u001b[1;32m   1037\u001b[0m                                         \u001b[0minitial_epoch\u001b[0m\u001b[0;34m=\u001b[0m\u001b[0minitial_epoch\u001b[0m\u001b[0;34m,\u001b[0m\u001b[0;34m\u001b[0m\u001b[0m\n\u001b[1;32m   1038\u001b[0m                                         \u001b[0msteps_per_epoch\u001b[0m\u001b[0;34m=\u001b[0m\u001b[0msteps_per_epoch\u001b[0m\u001b[0;34m,\u001b[0m\u001b[0;34m\u001b[0m\u001b[0m\n\u001b[0;32m-> 1039\u001b[0;31m                                         validation_steps=validation_steps)\n\u001b[0m\u001b[1;32m   1040\u001b[0m \u001b[0;34m\u001b[0m\u001b[0m\n\u001b[1;32m   1041\u001b[0m     def evaluate(self, x=None, y=None,\n",
      "\u001b[0;32m/Library/Frameworks/Python.framework/Versions/3.6/lib/python3.6/site-packages/keras/engine/training_arrays.py\u001b[0m in \u001b[0;36mfit_loop\u001b[0;34m(model, f, ins, out_labels, batch_size, epochs, verbose, callbacks, val_f, val_ins, shuffle, callback_metrics, initial_epoch, steps_per_epoch, validation_steps)\u001b[0m\n\u001b[1;32m    197\u001b[0m                     \u001b[0mins_batch\u001b[0m\u001b[0;34m[\u001b[0m\u001b[0mi\u001b[0m\u001b[0;34m]\u001b[0m \u001b[0;34m=\u001b[0m \u001b[0mins_batch\u001b[0m\u001b[0;34m[\u001b[0m\u001b[0mi\u001b[0m\u001b[0;34m]\u001b[0m\u001b[0;34m.\u001b[0m\u001b[0mtoarray\u001b[0m\u001b[0;34m(\u001b[0m\u001b[0;34m)\u001b[0m\u001b[0;34m\u001b[0m\u001b[0m\n\u001b[1;32m    198\u001b[0m \u001b[0;34m\u001b[0m\u001b[0m\n\u001b[0;32m--> 199\u001b[0;31m                 \u001b[0mouts\u001b[0m \u001b[0;34m=\u001b[0m \u001b[0mf\u001b[0m\u001b[0;34m(\u001b[0m\u001b[0mins_batch\u001b[0m\u001b[0;34m)\u001b[0m\u001b[0;34m\u001b[0m\u001b[0m\n\u001b[0m\u001b[1;32m    200\u001b[0m                 \u001b[0mouts\u001b[0m \u001b[0;34m=\u001b[0m \u001b[0mto_list\u001b[0m\u001b[0;34m(\u001b[0m\u001b[0mouts\u001b[0m\u001b[0;34m)\u001b[0m\u001b[0;34m\u001b[0m\u001b[0m\n\u001b[1;32m    201\u001b[0m                 \u001b[0;32mfor\u001b[0m \u001b[0ml\u001b[0m\u001b[0;34m,\u001b[0m \u001b[0mo\u001b[0m \u001b[0;32min\u001b[0m \u001b[0mzip\u001b[0m\u001b[0;34m(\u001b[0m\u001b[0mout_labels\u001b[0m\u001b[0;34m,\u001b[0m \u001b[0mouts\u001b[0m\u001b[0;34m)\u001b[0m\u001b[0;34m:\u001b[0m\u001b[0;34m\u001b[0m\u001b[0m\n",
      "\u001b[0;32m/Library/Frameworks/Python.framework/Versions/3.6/lib/python3.6/site-packages/keras/backend/tensorflow_backend.py\u001b[0m in \u001b[0;36m__call__\u001b[0;34m(self, inputs)\u001b[0m\n\u001b[1;32m   2713\u001b[0m                 \u001b[0;32mreturn\u001b[0m \u001b[0mself\u001b[0m\u001b[0;34m.\u001b[0m\u001b[0m_legacy_call\u001b[0m\u001b[0;34m(\u001b[0m\u001b[0minputs\u001b[0m\u001b[0;34m)\u001b[0m\u001b[0;34m\u001b[0m\u001b[0m\n\u001b[1;32m   2714\u001b[0m \u001b[0;34m\u001b[0m\u001b[0m\n\u001b[0;32m-> 2715\u001b[0;31m             \u001b[0;32mreturn\u001b[0m \u001b[0mself\u001b[0m\u001b[0;34m.\u001b[0m\u001b[0m_call\u001b[0m\u001b[0;34m(\u001b[0m\u001b[0minputs\u001b[0m\u001b[0;34m)\u001b[0m\u001b[0;34m\u001b[0m\u001b[0m\n\u001b[0m\u001b[1;32m   2716\u001b[0m         \u001b[0;32melse\u001b[0m\u001b[0;34m:\u001b[0m\u001b[0;34m\u001b[0m\u001b[0m\n\u001b[1;32m   2717\u001b[0m             \u001b[0;32mif\u001b[0m \u001b[0mpy_any\u001b[0m\u001b[0;34m(\u001b[0m\u001b[0mis_tensor\u001b[0m\u001b[0;34m(\u001b[0m\u001b[0mx\u001b[0m\u001b[0;34m)\u001b[0m \u001b[0;32mfor\u001b[0m \u001b[0mx\u001b[0m \u001b[0;32min\u001b[0m \u001b[0minputs\u001b[0m\u001b[0;34m)\u001b[0m\u001b[0;34m:\u001b[0m\u001b[0;34m\u001b[0m\u001b[0m\n",
      "\u001b[0;32m/Library/Frameworks/Python.framework/Versions/3.6/lib/python3.6/site-packages/keras/backend/tensorflow_backend.py\u001b[0m in \u001b[0;36m_call\u001b[0;34m(self, inputs)\u001b[0m\n\u001b[1;32m   2673\u001b[0m             \u001b[0mfetched\u001b[0m \u001b[0;34m=\u001b[0m \u001b[0mself\u001b[0m\u001b[0;34m.\u001b[0m\u001b[0m_callable_fn\u001b[0m\u001b[0;34m(\u001b[0m\u001b[0;34m*\u001b[0m\u001b[0marray_vals\u001b[0m\u001b[0;34m,\u001b[0m \u001b[0mrun_metadata\u001b[0m\u001b[0;34m=\u001b[0m\u001b[0mself\u001b[0m\u001b[0;34m.\u001b[0m\u001b[0mrun_metadata\u001b[0m\u001b[0;34m)\u001b[0m\u001b[0;34m\u001b[0m\u001b[0m\n\u001b[1;32m   2674\u001b[0m         \u001b[0;32melse\u001b[0m\u001b[0;34m:\u001b[0m\u001b[0;34m\u001b[0m\u001b[0m\n\u001b[0;32m-> 2675\u001b[0;31m             \u001b[0mfetched\u001b[0m \u001b[0;34m=\u001b[0m \u001b[0mself\u001b[0m\u001b[0;34m.\u001b[0m\u001b[0m_callable_fn\u001b[0m\u001b[0;34m(\u001b[0m\u001b[0;34m*\u001b[0m\u001b[0marray_vals\u001b[0m\u001b[0;34m)\u001b[0m\u001b[0;34m\u001b[0m\u001b[0m\n\u001b[0m\u001b[1;32m   2676\u001b[0m         \u001b[0;32mreturn\u001b[0m \u001b[0mfetched\u001b[0m\u001b[0;34m[\u001b[0m\u001b[0;34m:\u001b[0m\u001b[0mlen\u001b[0m\u001b[0;34m(\u001b[0m\u001b[0mself\u001b[0m\u001b[0;34m.\u001b[0m\u001b[0moutputs\u001b[0m\u001b[0;34m)\u001b[0m\u001b[0;34m]\u001b[0m\u001b[0;34m\u001b[0m\u001b[0m\n\u001b[1;32m   2677\u001b[0m \u001b[0;34m\u001b[0m\u001b[0m\n",
      "\u001b[0;32m/Library/Frameworks/Python.framework/Versions/3.6/lib/python3.6/site-packages/tensorflow/python/client/session.py\u001b[0m in \u001b[0;36m__call__\u001b[0;34m(self, *args, **kwargs)\u001b[0m\n\u001b[1;32m   1437\u001b[0m           ret = tf_session.TF_SessionRunCallable(\n\u001b[1;32m   1438\u001b[0m               \u001b[0mself\u001b[0m\u001b[0;34m.\u001b[0m\u001b[0m_session\u001b[0m\u001b[0;34m.\u001b[0m\u001b[0m_session\u001b[0m\u001b[0;34m,\u001b[0m \u001b[0mself\u001b[0m\u001b[0;34m.\u001b[0m\u001b[0m_handle\u001b[0m\u001b[0;34m,\u001b[0m \u001b[0margs\u001b[0m\u001b[0;34m,\u001b[0m \u001b[0mstatus\u001b[0m\u001b[0;34m,\u001b[0m\u001b[0;34m\u001b[0m\u001b[0m\n\u001b[0;32m-> 1439\u001b[0;31m               run_metadata_ptr)\n\u001b[0m\u001b[1;32m   1440\u001b[0m         \u001b[0;32mif\u001b[0m \u001b[0mrun_metadata\u001b[0m\u001b[0;34m:\u001b[0m\u001b[0;34m\u001b[0m\u001b[0m\n\u001b[1;32m   1441\u001b[0m           \u001b[0mproto_data\u001b[0m \u001b[0;34m=\u001b[0m \u001b[0mtf_session\u001b[0m\u001b[0;34m.\u001b[0m\u001b[0mTF_GetBuffer\u001b[0m\u001b[0;34m(\u001b[0m\u001b[0mrun_metadata_ptr\u001b[0m\u001b[0;34m)\u001b[0m\u001b[0;34m\u001b[0m\u001b[0m\n",
      "\u001b[0;31mKeyboardInterrupt\u001b[0m: "
     ]
    }
   ],
   "source": [
    "m1.fit(X_train, Y_train, epochs = 20, batch_size=16) # Run multiple times to train further!"
   ]
  },
  {
   "cell_type": "code",
   "execution_count": 12,
   "metadata": {},
   "outputs": [],
   "source": [
    "m1.save('m1_conv.h5')"
   ]
  },
  {
   "cell_type": "code",
   "execution_count": 8,
   "metadata": {},
   "outputs": [],
   "source": [
    "m1 = keras.models.load_model('m1_conv.h5')"
   ]
  },
  {
   "cell_type": "code",
   "execution_count": 13,
   "metadata": {},
   "outputs": [
    {
     "name": "stdout",
     "output_type": "stream",
     "text": [
      "417/417 [==============================] - 2s 5ms/step\n",
      "Loss = 3.340212339405819\n",
      "Test Accuracy = 0.9335431650959902\n"
     ]
    }
   ],
   "source": [
    "preds = m1.evaluate(X_test, Y_test)\n",
    "print (\"Loss = \" + str(preds[0]))\n",
    "print (\"Test Accuracy = \" + str(preds[1]))"
   ]
  },
  {
   "cell_type": "code",
   "execution_count": 14,
   "metadata": {},
   "outputs": [],
   "source": [
    "Y_0_hat = m1.predict(np.expand_dims(X_test[0], axis=0))\n",
    "Y_0_hat = Y_0_hat.reshape(-1, X_test.shape[-2])"
   ]
  },
  {
   "cell_type": "code",
   "execution_count": 15,
   "metadata": {},
   "outputs": [
    {
     "data": {
      "text/plain": [
       "(480, 59)"
      ]
     },
     "execution_count": 15,
     "metadata": {},
     "output_type": "execute_result"
    }
   ],
   "source": [
    "Y_0_hat.shape"
   ]
  },
  {
   "cell_type": "code",
   "execution_count": 16,
   "metadata": {},
   "outputs": [
    {
     "data": {
      "text/plain": [
       "<matplotlib.image.AxesImage at 0x15ebdf4a390>"
      ]
     },
     "execution_count": 16,
     "metadata": {},
     "output_type": "execute_result"
    },
    {
     "data": {
      "image/png": "[encoded data removed]",
      "text/plain": [
       "<Figure size 14400x720 with 1 Axes>"
      ]
     },
     "metadata": {
      "needs_background": "light"
     },
     "output_type": "display_data"
    }
   ],
   "source": [
    "plt.figure(figsize = (200,10))\n",
    "plt.imshow(Y_0_hat)"
   ]
  },
  {
   "cell_type": "code",
   "execution_count": 17,
   "metadata": {},
   "outputs": [
    {
     "data": {
      "text/plain": [
       "<matplotlib.image.AxesImage at 0x15ebe264940>"
      ]
     },
     "execution_count": 17,
     "metadata": {},
     "output_type": "execute_result"
    },
    {
     "data": {
      "image/png": "[encoded data removed]",
      "text/plain": [
       "<Figure size 14400x720 with 1 Axes>"
      ]
     },
     "metadata": {
      "needs_background": "light"
     },
     "output_type": "display_data"
    }
   ],
   "source": [
    "plt.figure(figsize = (200,10))\n",
    "plt.imshow(Y_test[0].reshape(-1, X_test.shape[-2]))"
   ]
  },
  {
   "cell_type": "markdown",
   "metadata": {},
   "source": [
    "It doesn't look bad!!! IM HAPPY\n",
    "\n",
    "# Jazz\n",
    "\n",
    "Now we need to move on to train another velocity generator for jazz. We will be using the same architecture"
   ]
  },
  {
   "cell_type": "code",
   "execution_count": 9,
   "metadata": {},
   "outputs": [],
   "source": [
    "X_jazz = X[(labels == 0).ravel()]\n",
    "Y_jazz = Y[(labels == 0).ravel()]\n",
    "# X_classical = X_classical[:,:,:,1]"
   ]
  },
  {
   "cell_type": "code",
   "execution_count": 23,
   "metadata": {},
   "outputs": [
    {
     "name": "stdout",
     "output_type": "stream",
     "text": [
      "(2580, 480, 59, 2) (287, 480, 59, 2) (2580, 480, 59) (287, 480, 59)\n"
     ]
    }
   ],
   "source": [
    "X_train, X_test, Y_train, Y_test = ms.train_test_split(X_jazz, Y_jazz, test_size=0.1, random_state=43)\n",
    "print(X_train.shape, X_test.shape, Y_train.shape, Y_test.shape)"
   ]
  },
  {
   "cell_type": "code",
   "execution_count": 24,
   "metadata": {},
   "outputs": [
    {
     "name": "stdout",
     "output_type": "stream",
     "text": [
      "(?, 480, 59)\n",
      "(?, 480, 59)\n"
     ]
    }
   ],
   "source": [
    "m2 = model1(input_shape=X_train.shape[1:])\n",
    "m2.compile(optimizer='adam', loss='mean_squared_error', metrics=['accuracy'])"
   ]
  },
  {
   "cell_type": "code",
   "execution_count": 25,
   "metadata": {},
   "outputs": [
    {
     "name": "stdout",
     "output_type": "stream",
     "text": [
      "__________________________________________________________________________________________________\n",
      "Layer (type)                    Output Shape         Param #     Connected to                     \n",
      "==================================================================================================\n",
      "input_3 (InputLayer)            (None, 480, 59, 2)   0                                            \n",
      "__________________________________________________________________________________________________\n",
      "lambda_6 (Lambda)               (None, 480, 59)      0           input_3[0][0]                    \n",
      "__________________________________________________________________________________________________\n",
      "zero_padding1d_3 (ZeroPadding1D (None, 665, 59)      0           lambda_6[0][0]                   \n",
      "__________________________________________________________________________________________________\n",
      "Conv0 (Conv1D)                  (None, 602, 59)      222843      zero_padding1d_3[0][0]           \n",
      "__________________________________________________________________________________________________\n",
      "bn0 (BatchNormalization)        (None, 602, 59)      236         Conv0[0][0]                      \n",
      "__________________________________________________________________________________________________\n",
      "Conv1 (Conv1D)                  (None, 540, 59)      111451      bn0[0][0]                        \n",
      "__________________________________________________________________________________________________\n",
      "bn1 (BatchNormalization)        (None, 540, 59)      236         Conv1[0][0]                      \n",
      "__________________________________________________________________________________________________\n",
      "Conv2 (Conv1D)                  (None, 480, 59)      55755       bn1[0][0]                        \n",
      "__________________________________________________________________________________________________\n",
      "bn2 (BatchNormalization)        (None, 480, 59)      236         Conv2[0][0]                      \n",
      "__________________________________________________________________________________________________\n",
      "activation_3 (Activation)       (None, 480, 59)      0           bn2[0][0]                        \n",
      "__________________________________________________________________________________________________\n",
      "lambda_5 (Lambda)               (None, 480, 59)      0           input_3[0][0]                    \n",
      "__________________________________________________________________________________________________\n",
      "multiply_3 (Multiply)           (None, 480, 59)      0           activation_3[0][0]               \n",
      "                                                                 lambda_5[0][0]                   \n",
      "==================================================================================================\n",
      "Total params: 390,757\n",
      "Trainable params: 390,403\n",
      "Non-trainable params: 354\n",
      "__________________________________________________________________________________________________\n"
     ]
    }
   ],
   "source": [
    "m2.summary()"
   ]
  },
  {
   "cell_type": "code",
   "execution_count": 26,
   "metadata": {
    "scrolled": true
   },
   "outputs": [
    {
     "name": "stdout",
     "output_type": "stream",
     "text": [
      "Epoch 1/50\n",
      "2580/2580 [==============================] - 23s 9ms/step - loss: 27.7294 - acc: 0.8827\n",
      "Epoch 2/50\n",
      "2580/2580 [==============================] - 22s 9ms/step - loss: 25.5618 - acc: 0.9222\n",
      "Epoch 3/50\n",
      "2580/2580 [==============================] - 23s 9ms/step - loss: 23.0529 - acc: 0.9332\n",
      "Epoch 4/50\n",
      "2580/2580 [==============================] - 24s 9ms/step - loss: 21.0963 - acc: 0.9370\n",
      "Epoch 5/50\n",
      "2580/2580 [==============================] - 25s 10ms/step - loss: 19.5063 - acc: 0.9394\n",
      "Epoch 6/50\n",
      "2580/2580 [==============================] - 24s 9ms/step - loss: 18.1756 - acc: 0.9411\n",
      "Epoch 7/50\n",
      "2580/2580 [==============================] - 24s 9ms/step - loss: 17.0510 - acc: 0.9417\n",
      "Epoch 8/50\n",
      "2580/2580 [==============================] - 24s 9ms/step - loss: 16.1544 - acc: 0.9422\n",
      "Epoch 9/50\n",
      "2580/2580 [==============================] - 24s 9ms/step - loss: 15.2651 - acc: 0.9419\n",
      "Epoch 10/50\n",
      "2580/2580 [==============================] - 25s 10ms/step - loss: 14.4792 - acc: 0.9420\n",
      "Epoch 11/50\n",
      "2580/2580 [==============================] - 25s 10ms/step - loss: 13.7632 - acc: 0.9422\n",
      "Epoch 12/50\n",
      "2580/2580 [==============================] - 24s 9ms/step - loss: 13.1191 - acc: 0.9422\n",
      "Epoch 13/50\n",
      "2580/2580 [==============================] - 24s 9ms/step - loss: 12.4972 - acc: 0.9422\n",
      "Epoch 14/50\n",
      "2580/2580 [==============================] - 24s 9ms/step - loss: 11.9577 - acc: 0.9422\n",
      "Epoch 15/50\n",
      "2580/2580 [==============================] - 24s 9ms/step - loss: 11.4279 - acc: 0.9424\n",
      "Epoch 16/50\n",
      "2580/2580 [==============================] - 25s 10ms/step - loss: 10.9231 - acc: 0.9423\n",
      "Epoch 17/50\n",
      "2580/2580 [==============================] - 25s 10ms/step - loss: 10.4622 - acc: 0.9426\n",
      "Epoch 18/50\n",
      "2580/2580 [==============================] - 25s 10ms/step - loss: 10.0275 - acc: 0.9424\n",
      "Epoch 19/50\n",
      "2580/2580 [==============================] - 24s 9ms/step - loss: 9.6010 - acc: 0.9427\n",
      "Epoch 20/50\n",
      "2580/2580 [==============================] - 25s 10ms/step - loss: 9.2324 - acc: 0.9424\n",
      "Epoch 21/50\n",
      "2580/2580 [==============================] - 25s 10ms/step - loss: 8.8848 - acc: 0.9426\n",
      "Epoch 22/50\n",
      "2580/2580 [==============================] - 24s 9ms/step - loss: 8.5135 - acc: 0.9427\n",
      "Epoch 23/50\n",
      "2580/2580 [==============================] - 25s 10ms/step - loss: 8.1924 - acc: 0.9429\n",
      "Epoch 24/50\n",
      "2580/2580 [==============================] - 25s 10ms/step - loss: 7.8906 - acc: 0.9432\n",
      "Epoch 25/50\n",
      "2580/2580 [==============================] - 26s 10ms/step - loss: 7.6158 - acc: 0.9432\n",
      "Epoch 26/50\n",
      "2580/2580 [==============================] - 25s 10ms/step - loss: 7.3402 - acc: 0.9434\n",
      "Epoch 27/50\n",
      "2580/2580 [==============================] - 25s 10ms/step - loss: 7.0788 - acc: 0.9436\n",
      "Epoch 28/50\n",
      "2580/2580 [==============================] - 25s 10ms/step - loss: 6.8189 - acc: 0.9437\n",
      "Epoch 29/50\n",
      "2580/2580 [==============================] - 25s 10ms/step - loss: 6.5661 - acc: 0.9439\n",
      "Epoch 30/50\n",
      "2580/2580 [==============================] - 25s 10ms/step - loss: 6.3628 - acc: 0.9440\n",
      "Epoch 31/50\n",
      "2580/2580 [==============================] - 25s 10ms/step - loss: 6.1447 - acc: 0.9443\n",
      "Epoch 32/50\n",
      "2580/2580 [==============================] - 24s 9ms/step - loss: 5.9335 - acc: 0.9445\n",
      "Epoch 33/50\n",
      "2580/2580 [==============================] - 25s 10ms/step - loss: 5.7565 - acc: 0.9446\n",
      "Epoch 34/50\n",
      "2580/2580 [==============================] - 25s 10ms/step - loss: 5.5729 - acc: 0.9449\n",
      "Epoch 35/50\n",
      "2580/2580 [==============================] - 26s 10ms/step - loss: 5.4004 - acc: 0.9451\n",
      "Epoch 36/50\n",
      "2580/2580 [==============================] - 26s 10ms/step - loss: 5.2416 - acc: 0.9453\n",
      "Epoch 37/50\n",
      "2580/2580 [==============================] - 24s 9ms/step - loss: 5.0942 - acc: 0.9456\n",
      "Epoch 38/50\n",
      "2580/2580 [==============================] - 25s 10ms/step - loss: 4.9523 - acc: 0.9458\n",
      "Epoch 39/50\n",
      "2580/2580 [==============================] - 25s 10ms/step - loss: 4.8304 - acc: 0.9461\n",
      "Epoch 40/50\n",
      "2580/2580 [==============================] - 25s 10ms/step - loss: 4.6674 - acc: 0.9465\n",
      "Epoch 41/50\n",
      "2580/2580 [==============================] - 24s 9ms/step - loss: 4.5777 - acc: 0.9463\n",
      "Epoch 42/50\n",
      "2580/2580 [==============================] - 24s 9ms/step - loss: 4.4347 - acc: 0.9468\n",
      "Epoch 43/50\n",
      "2580/2580 [==============================] - 25s 9ms/step - loss: 4.3392 - acc: 0.9470\n",
      "Epoch 44/50\n",
      "2580/2580 [==============================] - 25s 10ms/step - loss: 4.2473 - acc: 0.9472\n",
      "Epoch 45/50\n",
      "2580/2580 [==============================] - 24s 9ms/step - loss: 4.1328 - acc: 0.9474\n",
      "Epoch 46/50\n",
      "2580/2580 [==============================] - 25s 10ms/step - loss: 4.0523 - acc: 0.9477\n",
      "Epoch 47/50\n",
      "2580/2580 [==============================] - 25s 10ms/step - loss: 3.9756 - acc: 0.9478\n",
      "Epoch 48/50\n",
      "2580/2580 [==============================] - 25s 10ms/step - loss: 3.9141 - acc: 0.9481\n",
      "Epoch 49/50\n",
      "2580/2580 [==============================] - 25s 10ms/step - loss: 3.8164 - acc: 0.9486\n",
      "Epoch 50/50\n",
      "2580/2580 [==============================] - 24s 9ms/step - loss: 3.7532 - acc: 0.9485\n"
     ]
    },
    {
     "data": {
      "text/plain": [
       "<keras.callbacks.History at 0x15ebdefd160>"
      ]
     },
     "execution_count": 26,
     "metadata": {},
     "output_type": "execute_result"
    }
   ],
   "source": [
    "m2.fit(X_train, Y_train, epochs = 50, batch_size=16) # Run multiple times to train further!"
   ]
  },
  {
   "cell_type": "code",
   "execution_count": 32,
   "metadata": {},
   "outputs": [
    {
     "data": {
      "text/plain": [
       "<matplotlib.image.AxesImage at 0x15ea9e7d550>"
      ]
     },
     "execution_count": 32,
     "metadata": {},
     "output_type": "execute_result"
    },
    {
     "data": {
      "image/png": "[encoded data removed]",
      "text/plain": [
       "<Figure size 14400x720 with 1 Axes>"
      ]
     },
     "metadata": {
      "needs_background": "light"
     },
     "output_type": "display_data"
    }
   ],
   "source": [
    "Y_0_hat = m1.predict(np.expand_dims(X_test[0], axis=0))\n",
    "Y_0_hat = Y_0_hat.reshape(-1, X_test.shape[-2])\n",
    "Y_0_hat.shape\n",
    "plt.figure(figsize = (200,10))\n",
    "plt.imshow(Y_0_hat)"
   ]
  },
  {
   "cell_type": "code",
   "execution_count": 33,
   "metadata": {},
   "outputs": [
    {
     "data": {
      "text/plain": [
       "<matplotlib.image.AxesImage at 0x15ea9ecd160>"
      ]
     },
     "execution_count": 33,
     "metadata": {},
     "output_type": "execute_result"
    },
    {
     "data": {
      "image/png": "[encoded data removed]",
      "text/plain": [
       "<Figure size 14400x720 with 1 Axes>"
      ]
     },
     "metadata": {
      "needs_background": "light"
     },
     "output_type": "display_data"
    }
   ],
   "source": [
    "plt.figure(figsize = (200,10))\n",
    "plt.imshow(Y_test[0].reshape(-1, X_test.shape[-2]))"
   ]
  },
  {
   "cell_type": "markdown",
   "metadata": {},
   "source": [
    "# Generate\n",
    "\n",
    "Now let us generate some music with this."
   ]
  },
  {
   "cell_type": "code",
   "execution_count": 39,
   "metadata": {},
   "outputs": [],
   "source": [
    "target_ticks_per_beat = 8\n",
    "notes_to_keep_down = 32\n",
    "def generate(notes_mat, velocity_mat, bpm, seconds):\n",
    "    new_midi = mido.MidiFile(type=0)\n",
    "    new_midi.ticks_per_beat = target_ticks_per_beat\n",
    "    track = mido.MidiTrack()\n",
    "    new_midi.tracks.append(track)\n",
    "\n",
    "    track.append(mido.MetaMessage('set_tempo', tempo=mido.bpm2tempo(bpm), time=0))\n",
    "    track.append(mido.MetaMessage('time_signature', numerator=4, denominator=4, \n",
    "                             clocks_per_click=24, notated_32nd_notes_per_beat=8, time=0))\n",
    "    track.append(mido.MetaMessage('track_name', name='Test Track', time=0))\n",
    "\n",
    "    T, N, D = notes_mat.shape\n",
    "    notes_on = [False] * N\n",
    "    prev_event_t = 0\n",
    "    Ty = seconds * bpm // 60 * target_ticks_per_beat\n",
    "    print('generating {0} ticks of music'.format(Ty))\n",
    "    for t in range(Ty):\n",
    "        for n in range(N-2):\n",
    "            if notes_mat[t, n, 0] > 0:\n",
    "                velocity = velocity_mat[t, n]\n",
    "                track.append(mido.Message('note_on', note=n + notes_to_keep_down, velocity=velocity, time=t-prev_event_t))\n",
    "                prev_event_t = t\n",
    "                notes_on[n] = True\n",
    "            if notes_on[n] and notes_mat[t, n, 1] == 0:\n",
    "                track.append(mido.Message('note_on', note=n + notes_to_keep_down, velocity=0, time=t-prev_event_t))\n",
    "                prev_event_t = t\n",
    "                notes_on[n] = False\n",
    "        if notes_mat[t, N-2, 0] == 1:\n",
    "            track.append(mido.Message('control_change', control=64, value=127, time=t-prev_event_t))\n",
    "            prev_event_t = t\n",
    "            notes_on[N-2] = True\n",
    "        if notes_mat[t, N-1, 0] == 1:\n",
    "            track.append(mido.Message('control_change', control=67, value=127, time=t-prev_event_t))\n",
    "            prev_event_t = t\n",
    "            notes_on[N-2] = True\n",
    "        if notes_on[N-2] and notes_mat[t, N-2, 1] == 0:\n",
    "            track.append(mido.Message('control_change', control=64, value=0, time=t-prev_event_t))\n",
    "            prev_event_t = t\n",
    "            notes_on[N-2] = False\n",
    "        if notes_on[N-1] and notes_mat[t, N-1, 1] == 0:\n",
    "            track.append(mido.Message('control_change', control=67, value=0, time=t-prev_event_t))\n",
    "            prev_event_t = t\n",
    "            notes_on[N-1] = False\n",
    "    return new_midi"
   ]
  },
  {
   "cell_type": "code",
   "execution_count": 48,
   "metadata": {},
   "outputs": [
    {
     "name": "stdout",
     "output_type": "stream",
     "text": [
      "generating 480 ticks of music\n",
      "generating 480 ticks of music\n"
     ]
    }
   ],
   "source": [
    "new_midi = generate(X_test[0], np.round(Y_0_hat).astype(np.int32), 120, 30)\n",
    "old_midi = generate(X_test[0], Y_test[0], 120, 30)\n",
    "new_midi.save('vel_generate.midi')\n",
    "old_midi.save('vel_original.midi')"
   ]
  },
  {
   "cell_type": "markdown",
   "metadata": {},
   "source": [
    "# Cross Generate\n",
    "\n",
    "Now let us see if music play style transfer will work by generating a velocity matrix from a jazz music with the classical music model.\n"
   ]
  },
  {
   "cell_type": "code",
   "execution_count": 10,
   "metadata": {},
   "outputs": [
    {
     "data": {
      "text/plain": [
       "(4167, 480, 59, 2)"
      ]
     },
     "execution_count": 10,
     "metadata": {},
     "output_type": "execute_result"
    }
   ],
   "source": [
    "X_classical.shape"
   ]
  },
  {
   "cell_type": "code",
   "execution_count": 83,
   "metadata": {},
   "outputs": [
    {
     "data": {
      "text/plain": [
       "(480, 59)"
      ]
     },
     "execution_count": 83,
     "metadata": {},
     "output_type": "execute_result"
    }
   ],
   "source": [
    "Y_0_hat = m2.predict(np.expand_dims(X_classical[100], axis=0))\n",
    "Y_0_hat = Y_0_hat.reshape(-1, X_test.shape[-2])\n",
    "Y_0_hat.shape\n",
    "# plt.figure(figsize = (200,10))\n",
    "# plt.imshow(Y_0_hat)"
   ]
  },
  {
   "cell_type": "code",
   "execution_count": 84,
   "metadata": {},
   "outputs": [],
   "source": [
    "# plt.figure(figsize = (200,10))\n",
    "# plt.imshow(Y_classical[100])"
   ]
  },
  {
   "cell_type": "code",
   "execution_count": 92,
   "metadata": {},
   "outputs": [
    {
     "name": "stdout",
     "output_type": "stream",
     "text": [
      "generating 440 ticks of music\n",
      "generating 440 ticks of music\n"
     ]
    }
   ],
   "source": [
    "new_midi = generate(X_classical[100], np.round(Y_0_hat).astype(np.int32), 110, 30)\n",
    "old_midi = generate(X_classical[100], Y_classical[100], 110, 30)\n",
    "new_midi.save('vel_generate_c2j.midi')\n",
    "old_midi.save('vel_original_c2j.midi')"
   ]
  },
  {
   "cell_type": "code",
   "execution_count": 11,
   "metadata": {},
   "outputs": [
    {
     "ename": "ValueError",
     "evalue": "Error when checking input: expected input_1 to have shape (1024, 88, 2) but got array with shape (480, 59, 2)",
     "output_type": "error",
     "traceback": [
      "\u001b[0;31m---------------------------------------------------------------------------\u001b[0m",
      "\u001b[0;31mValueError\u001b[0m                                Traceback (most recent call last)",
      "\u001b[0;32m<ipython-input-11-ed08bf5e8997>\u001b[0m in \u001b[0;36m<module>\u001b[0;34m\u001b[0m\n\u001b[0;32m----> 1\u001b[0;31m \u001b[0mY_0_hat\u001b[0m \u001b[0;34m=\u001b[0m \u001b[0mm1\u001b[0m\u001b[0;34m.\u001b[0m\u001b[0mpredict\u001b[0m\u001b[0;34m(\u001b[0m\u001b[0mnp\u001b[0m\u001b[0;34m.\u001b[0m\u001b[0mexpand_dims\u001b[0m\u001b[0;34m(\u001b[0m\u001b[0mX_jazz\u001b[0m\u001b[0;34m[\u001b[0m\u001b[0;36m64\u001b[0m\u001b[0;34m]\u001b[0m\u001b[0;34m,\u001b[0m \u001b[0maxis\u001b[0m\u001b[0;34m=\u001b[0m\u001b[0;36m0\u001b[0m\u001b[0;34m)\u001b[0m\u001b[0;34m)\u001b[0m\u001b[0;34m\u001b[0m\u001b[0m\n\u001b[0m\u001b[1;32m      2\u001b[0m \u001b[0mY_0_hat\u001b[0m \u001b[0;34m=\u001b[0m \u001b[0mY_0_hat\u001b[0m\u001b[0;34m.\u001b[0m\u001b[0mreshape\u001b[0m\u001b[0;34m(\u001b[0m\u001b[0;34m-\u001b[0m\u001b[0;36m1\u001b[0m\u001b[0;34m,\u001b[0m \u001b[0mX_test\u001b[0m\u001b[0;34m.\u001b[0m\u001b[0mshape\u001b[0m\u001b[0;34m[\u001b[0m\u001b[0;34m-\u001b[0m\u001b[0;36m2\u001b[0m\u001b[0;34m]\u001b[0m\u001b[0;34m)\u001b[0m\u001b[0;34m\u001b[0m\u001b[0m\n\u001b[1;32m      3\u001b[0m \u001b[0mY_0_hat\u001b[0m\u001b[0;34m.\u001b[0m\u001b[0mshape\u001b[0m\u001b[0;34m\u001b[0m\u001b[0m\n\u001b[1;32m      4\u001b[0m \u001b[0mnew_midi\u001b[0m \u001b[0;34m=\u001b[0m \u001b[0mgenerate\u001b[0m\u001b[0;34m(\u001b[0m\u001b[0mX_jazz\u001b[0m\u001b[0;34m[\u001b[0m\u001b[0;36m64\u001b[0m\u001b[0;34m]\u001b[0m\u001b[0;34m,\u001b[0m \u001b[0mnp\u001b[0m\u001b[0;34m.\u001b[0m\u001b[0mround\u001b[0m\u001b[0;34m(\u001b[0m\u001b[0mY_0_hat\u001b[0m\u001b[0;34m)\u001b[0m\u001b[0;34m.\u001b[0m\u001b[0mastype\u001b[0m\u001b[0;34m(\u001b[0m\u001b[0mnp\u001b[0m\u001b[0;34m.\u001b[0m\u001b[0mint32\u001b[0m\u001b[0;34m)\u001b[0m\u001b[0;34m,\u001b[0m \u001b[0;36m110\u001b[0m\u001b[0;34m,\u001b[0m \u001b[0;36m30\u001b[0m\u001b[0;34m)\u001b[0m\u001b[0;34m\u001b[0m\u001b[0m\n\u001b[1;32m      5\u001b[0m \u001b[0mold_midi\u001b[0m \u001b[0;34m=\u001b[0m \u001b[0mgenerate\u001b[0m\u001b[0;34m(\u001b[0m\u001b[0mX_jazz\u001b[0m\u001b[0;34m[\u001b[0m\u001b[0;36m64\u001b[0m\u001b[0;34m]\u001b[0m\u001b[0;34m,\u001b[0m \u001b[0mY_jazz\u001b[0m\u001b[0;34m[\u001b[0m\u001b[0;36m64\u001b[0m\u001b[0;34m]\u001b[0m\u001b[0;34m,\u001b[0m \u001b[0;36m110\u001b[0m\u001b[0;34m,\u001b[0m \u001b[0;36m30\u001b[0m\u001b[0;34m)\u001b[0m\u001b[0;34m\u001b[0m\u001b[0m\n",
      "\u001b[0;32m/Library/Frameworks/Python.framework/Versions/3.6/lib/python3.6/site-packages/keras/engine/training.py\u001b[0m in \u001b[0;36mpredict\u001b[0;34m(self, x, batch_size, verbose, steps)\u001b[0m\n\u001b[1;32m   1147\u001b[0m                              'argument.')\n\u001b[1;32m   1148\u001b[0m         \u001b[0;31m# Validate user data.\u001b[0m\u001b[0;34m\u001b[0m\u001b[0;34m\u001b[0m\u001b[0m\n\u001b[0;32m-> 1149\u001b[0;31m         \u001b[0mx\u001b[0m\u001b[0;34m,\u001b[0m \u001b[0m_\u001b[0m\u001b[0;34m,\u001b[0m \u001b[0m_\u001b[0m \u001b[0;34m=\u001b[0m \u001b[0mself\u001b[0m\u001b[0;34m.\u001b[0m\u001b[0m_standardize_user_data\u001b[0m\u001b[0;34m(\u001b[0m\u001b[0mx\u001b[0m\u001b[0;34m)\u001b[0m\u001b[0;34m\u001b[0m\u001b[0m\n\u001b[0m\u001b[1;32m   1150\u001b[0m         \u001b[0;32mif\u001b[0m \u001b[0mself\u001b[0m\u001b[0;34m.\u001b[0m\u001b[0mstateful\u001b[0m\u001b[0;34m:\u001b[0m\u001b[0;34m\u001b[0m\u001b[0m\n\u001b[1;32m   1151\u001b[0m             \u001b[0;32mif\u001b[0m \u001b[0mx\u001b[0m\u001b[0;34m[\u001b[0m\u001b[0;36m0\u001b[0m\u001b[0;34m]\u001b[0m\u001b[0;34m.\u001b[0m\u001b[0mshape\u001b[0m\u001b[0;34m[\u001b[0m\u001b[0;36m0\u001b[0m\u001b[0;34m]\u001b[0m \u001b[0;34m>\u001b[0m \u001b[0mbatch_size\u001b[0m \u001b[0;32mand\u001b[0m \u001b[0mx\u001b[0m\u001b[0;34m[\u001b[0m\u001b[0;36m0\u001b[0m\u001b[0;34m]\u001b[0m\u001b[0;34m.\u001b[0m\u001b[0mshape\u001b[0m\u001b[0;34m[\u001b[0m\u001b[0;36m0\u001b[0m\u001b[0;34m]\u001b[0m \u001b[0;34m%\u001b[0m \u001b[0mbatch_size\u001b[0m \u001b[0;34m!=\u001b[0m \u001b[0;36m0\u001b[0m\u001b[0;34m:\u001b[0m\u001b[0;34m\u001b[0m\u001b[0m\n",
      "\u001b[0;32m/Library/Frameworks/Python.framework/Versions/3.6/lib/python3.6/site-packages/keras/engine/training.py\u001b[0m in \u001b[0;36m_standardize_user_data\u001b[0;34m(self, x, y, sample_weight, class_weight, check_array_lengths, batch_size)\u001b[0m\n\u001b[1;32m    749\u001b[0m             \u001b[0mfeed_input_shapes\u001b[0m\u001b[0;34m,\u001b[0m\u001b[0;34m\u001b[0m\u001b[0m\n\u001b[1;32m    750\u001b[0m             \u001b[0mcheck_batch_axis\u001b[0m\u001b[0;34m=\u001b[0m\u001b[0;32mFalse\u001b[0m\u001b[0;34m,\u001b[0m  \u001b[0;31m# Don't enforce the batch size.\u001b[0m\u001b[0;34m\u001b[0m\u001b[0m\n\u001b[0;32m--> 751\u001b[0;31m             exception_prefix='input')\n\u001b[0m\u001b[1;32m    752\u001b[0m \u001b[0;34m\u001b[0m\u001b[0m\n\u001b[1;32m    753\u001b[0m         \u001b[0;32mif\u001b[0m \u001b[0my\u001b[0m \u001b[0;32mis\u001b[0m \u001b[0;32mnot\u001b[0m \u001b[0;32mNone\u001b[0m\u001b[0;34m:\u001b[0m\u001b[0;34m\u001b[0m\u001b[0m\n",
      "\u001b[0;32m/Library/Frameworks/Python.framework/Versions/3.6/lib/python3.6/site-packages/keras/engine/training_utils.py\u001b[0m in \u001b[0;36mstandardize_input_data\u001b[0;34m(data, names, shapes, check_batch_axis, exception_prefix)\u001b[0m\n\u001b[1;32m    136\u001b[0m                             \u001b[0;34m': expected '\u001b[0m \u001b[0;34m+\u001b[0m \u001b[0mnames\u001b[0m\u001b[0;34m[\u001b[0m\u001b[0mi\u001b[0m\u001b[0;34m]\u001b[0m \u001b[0;34m+\u001b[0m \u001b[0;34m' to have shape '\u001b[0m \u001b[0;34m+\u001b[0m\u001b[0;34m\u001b[0m\u001b[0m\n\u001b[1;32m    137\u001b[0m                             \u001b[0mstr\u001b[0m\u001b[0;34m(\u001b[0m\u001b[0mshape\u001b[0m\u001b[0;34m)\u001b[0m \u001b[0;34m+\u001b[0m \u001b[0;34m' but got array with shape '\u001b[0m \u001b[0;34m+\u001b[0m\u001b[0;34m\u001b[0m\u001b[0m\n\u001b[0;32m--> 138\u001b[0;31m                             str(data_shape))\n\u001b[0m\u001b[1;32m    139\u001b[0m     \u001b[0;32mreturn\u001b[0m \u001b[0mdata\u001b[0m\u001b[0;34m\u001b[0m\u001b[0m\n\u001b[1;32m    140\u001b[0m \u001b[0;34m\u001b[0m\u001b[0m\n",
      "\u001b[0;31mValueError\u001b[0m: Error when checking input: expected input_1 to have shape (1024, 88, 2) but got array with shape (480, 59, 2)"
     ]
    }
   ],
   "source": [
    "Y_0_hat = m1.predict(np.expand_dims(X_jazz[64], axis=0))\n",
    "Y_0_hat = Y_0_hat.reshape(-1, X_test.shape[-2])\n",
    "Y_0_hat.shape\n",
    "new_midi = generate(X_jazz[64], np.round(Y_0_hat).astype(np.int32), 110, 30)\n",
    "old_midi = generate(X_jazz[64], Y_jazz[64], 110, 30)\n",
    "new_midi.save('vel_generate_j2c.midi')\n",
    "old_midi.save('vel_original_j2c.midi')\n"
   ]
  },
  {
   "cell_type": "code",
   "execution_count": 1,
   "metadata": {},
   "outputs": [
    {
     "ename": "NameError",
     "evalue": "name 'plt' is not defined",
     "output_type": "error",
     "traceback": [
      "\u001b[0;31m---------------------------------------------------------------------------\u001b[0m",
      "\u001b[0;31mNameError\u001b[0m                                 Traceback (most recent call last)",
      "\u001b[0;32m<ipython-input-1-7137a5deffe3>\u001b[0m in \u001b[0;36m<module>\u001b[0;34m\u001b[0m\n\u001b[0;32m----> 1\u001b[0;31m \u001b[0mplt\u001b[0m\u001b[0;34m.\u001b[0m\u001b[0mfigure\u001b[0m\u001b[0;34m(\u001b[0m\u001b[0mfigsize\u001b[0m \u001b[0;34m=\u001b[0m \u001b[0;34m(\u001b[0m\u001b[0;36m200\u001b[0m\u001b[0;34m,\u001b[0m\u001b[0;36m10\u001b[0m\u001b[0;34m)\u001b[0m\u001b[0;34m)\u001b[0m\u001b[0;34m\u001b[0m\u001b[0m\n\u001b[0m\u001b[1;32m      2\u001b[0m \u001b[0mplt\u001b[0m\u001b[0;34m.\u001b[0m\u001b[0mimshow\u001b[0m\u001b[0;34m(\u001b[0m\u001b[0mY_0_hat\u001b[0m\u001b[0;34m)\u001b[0m\u001b[0;34m\u001b[0m\u001b[0m\n",
      "\u001b[0;31mNameError\u001b[0m: name 'plt' is not defined"
     ]
    }
   ],
   "source": [
    "plt.figure(figsize = (200,10))\n",
    "plt.imshow(Y_0_hat)"
   ]
  },
  {
   "cell_type": "code",
   "execution_count": 96,
   "metadata": {},
   "outputs": [
    {
     "data": {
      "text/plain": [
       "<matplotlib.image.AxesImage at 0x15ea99f29e8>"
      ]
     },
     "execution_count": 96,
     "metadata": {},
     "output_type": "execute_result"
    },
    {
     "data": {
      "image/png": "[encoded data removed]",
      "text/plain": [
       "<Figure size 14400x720 with 1 Axes>"
      ]
     },
     "metadata": {
      "needs_background": "light"
     },
     "output_type": "display_data"
    }
   ],
   "source": [
    "plt.figure(figsize = (200,10))\n",
    "plt.imshow(Y_jazz[64])"
   ]
  },
  {
   "cell_type": "code",
   "execution_count": null,
   "metadata": {},
   "outputs": [],
   "source": []
  }
 ],
 "metadata": {
  "kernelspec": {
   "display_name": "Python 3",
   "language": "python",
   "name": "python3"
  },
  "language_info": {
   "codemirror_mode": {
    "name": "ipython",
    "version": 3
   },
   "file_extension": ".py",
   "mimetype": "text/x-python",
   "name": "python",
   "nbconvert_exporter": "python",
   "pygments_lexer": "ipython3",
   "version": "3.6.5"
  }
 },
 "nbformat": 4,
 "nbformat_minor": 2
}
