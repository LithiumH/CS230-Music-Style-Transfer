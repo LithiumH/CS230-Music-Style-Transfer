{
 "cells": [
  {
   "cell_type": "markdown",
   "metadata": {},
   "source": [
    "# Preprocessing\n",
    "\n",
    "Here we define useful methods that preprocess the MIDI data into the form that we want. There are mainly 2 way we want to represent the data. One way is a 3D matrix of notes and whether it was sustained or not and a 2D matrix of velocity. Another way is a 3D matrix of (notes, duration, velocity). These two representation of the MIDI data will be used differently in 2 different style transfer tasks that we want to explore. We will definitely use representation 1 first and then try to see if representation 2 has merits"
   ]
  },
  {
   "cell_type": "code",
   "execution_count": 1,
   "metadata": {},
   "outputs": [],
   "source": [
    "import os\n",
    "import mido\n",
    "import numpy as np\n",
    "import matplotlib.pyplot as plt"
   ]
  },
  {
   "cell_type": "code",
   "execution_count": 2,
   "metadata": {},
   "outputs": [],
   "source": [
    "def load_midis(base_fpath):\n",
    "    fpaths = []\n",
    "    for (root, dirnames, filenames) in os.walk(base_fpath):\n",
    "        fpaths += [os.path.join(root, filename) for filename in filenames]\n",
    "    return [mido.MidiFile(fpath) for fpath in fpaths]\n",
    "classicals = load_midis('TPD/classical/')\n",
    "jazzs = load_midis('TPD/jazz/')"
   ]
  },
  {
   "cell_type": "markdown",
   "metadata": {},
   "source": [
    "## Representation 1\n",
    "\n",
    "We will have a 3D matrix of notes and whether it was sustatined from the previous note or not, as well as a 2D matrix of velocity."
   ]
  },
  {
   "cell_type": "code",
   "execution_count": null,
   "metadata": {},
   "outputs": [],
   "source": [
    "fpath = \"TPD/classical/beethoven_opus22_1_format0.mid\"\n",
    "midi = mido.MidiFile(fpath)"
   ]
  },
  {
   "cell_type": "markdown",
   "metadata": {},
   "source": [
    "### Gather MIDI information \n",
    "\n",
    "Before we dive into the representation of MIDI we need to gather basic information and determine whether the MIDI file that we are getting can be used. "
   ]
  },
  {
   "cell_type": "code",
   "execution_count": null,
   "metadata": {},
   "outputs": [],
   "source": [
    "good_midi = midi.type == 0\n",
    "tempo = -1\n",
    "numerator = 4\n",
    "denominator = 4\n",
    "for msg in midi.tracks[0]:\n",
    "    if msg.is_meta and msg.type == 'time_signature':\n",
    "        numerator = msg.numerator\n",
    "        denominator = msg.denominator\n",
    "        good_midi = denominator == 4\n",
    "    if msg.is_meta and msg.type == 'set_tempo' and tempo == -1:\n",
    "        tempo = msg.tempo\n",
    "print(good_midi)\n",
    "print(tempo)\n",
    "print(midi.ticks_per_beat)\n",
    "print(midi.type)\n",
    "print(numerator, denominator)"
   ]
  },
  {
   "cell_type": "markdown",
   "metadata": {},
   "source": [
    "### Generate time matrix\n",
    "\n",
    "Here we will generate the matrix to represent out midi file. This matrix will first be blank. Depending on the size of the music we are getting we will have different sized matricies. the matrix follows the following order\n",
    "\n",
    "Each row is a timestamp. We will tolerate only 8 ticks per beat (this is a 1/32 note). Each timestamp is $\\frac{1}{8}$ beat.  Thus we will shove ticks_per_beat / 8 ticks into one tick. Any notes played between them will be considered as played on the same time.\n",
    "\n",
    "First we need to find the duration in terms of beats of the midi file.\n"
   ]
  },
  {
   "cell_type": "code",
   "execution_count": null,
   "metadata": {},
   "outputs": [],
   "source": [
    "list(midi)"
   ]
  },
  {
   "cell_type": "code",
   "execution_count": 3,
   "metadata": {},
   "outputs": [],
   "source": [
    "# Ignore all non-timed messages\n",
    "target_ticks_per_beat = 8\n",
    "notes_to_keep_up = 88\n",
    "notes_to_keep_down = 32\n",
    "notes_range = notes_to_keep_up - notes_to_keep_down + 3\n",
    "# cleaned_midi = [msg for msg in midi.tracks[0] if not msg.is_meta and hasattr(msg, 'time')]\n"
   ]
  },
  {
   "cell_type": "code",
   "execution_count": null,
   "metadata": {},
   "outputs": [],
   "source": [
    "cumsum = np.floor(np.cumsum(np.array([msg.time for msg in midi])) \\\n",
    "                  / (tempo / target_ticks_per_beat * 1e-6)).astype(np.int32)"
   ]
  },
  {
   "cell_type": "code",
   "execution_count": null,
   "metadata": {},
   "outputs": [],
   "source": [
    "cumsum"
   ]
  },
  {
   "cell_type": "markdown",
   "metadata": {},
   "source": [
    "Now we can create our music matrix"
   ]
  },
  {
   "cell_type": "code",
   "execution_count": null,
   "metadata": {},
   "outputs": [],
   "source": [
    "def process_msg(time, msg, last_on, notes_mat, velocity_mat):\n",
    "    time = int(time)\n",
    "    if msg.type == 'control_change':\n",
    "        if msg.control == 64:\n",
    "            note = notes_mat.shape[1] - 2\n",
    "        elif msg.control == 67:\n",
    "            note = notes_mat.shape[1] - 1\n",
    "        else:\n",
    "            return\n",
    "        if msg.value <= 63 and last_on[note] >= 0:\n",
    "            duration = time - last_on[note]\n",
    "            if duration > 0:\n",
    "                notes_mat[last_on[note]:time, note, 1] = 1\n",
    "            last_on[note] = -1\n",
    "        elif msg.value >= 64 and last_on[note] == -1:\n",
    "            notes_mat[time, note, 0] = 1\n",
    "            velocity_mat[time, note] = 0\n",
    "            last_on[note] = time\n",
    "    if msg.type == 'note_on' and msg.velocity > 0:\n",
    "        note = int(msg.note) - notes_to_keep_down\n",
    "        if note > notes_to_keep_up - notes_to_keep_down or note < 0:\n",
    "            return \n",
    "        notes_mat[time, note, 0] = 1\n",
    "        velocity_mat[time, note] = int(msg.velocity)\n",
    "        last_on[note] = time\n",
    "    elif (msg.type == 'note_off' or (msg.type == 'note_on' and msg.velocity == 0)):\n",
    "        note = int(msg.note) - notes_to_keep_down\n",
    "        if note > notes_to_keep_up - notes_to_keep_down or note < 0 or last_on[note] < 0:\n",
    "            return\n",
    "        duration = time - last_on[note]\n",
    "        if duration > 0:\n",
    "            notes_mat[last_on[note]:time, note, 1] = 1\n",
    "        if duration == 0:\n",
    "            notes_mat[time, note, 1] = 1\n",
    "        last_on[note] = -1\n",
    "        \n",
    "\n",
    "notes_mat = np.zeros((int(cumsum[-1]), notes_range, 2), dtype=np.int8)\n",
    "velocity_mat = np.zeros((int(cumsum[-1]), notes_range), dtype=np.int16)\n",
    "last_on = -np.ones(notes_range, dtype=np.int32)\n",
    "midi_list = list(midi)\n",
    "assert len(midi_list) == len(cumsum)\n",
    "for i in range(len(midi_list)):\n",
    "    time = cumsum[i]\n",
    "    msg = midi_list[i]\n",
    "    process_msg(time, msg, last_on, notes_mat, velocity_mat)\n",
    "        \n",
    "plt.figure(figsize=(8, 8))\n",
    "plt.imshow(notes_mat[:300,:,0])"
   ]
  },
  {
   "cell_type": "code",
   "execution_count": null,
   "metadata": {},
   "outputs": [],
   "source": [
    "plt.figure(figsize=(8, 8))\n",
    "plt.imshow(velocity_mat[:300,:])"
   ]
  },
  {
   "cell_type": "markdown",
   "metadata": {},
   "source": [
    "### Generate MIDI from music matrix\n",
    "\n",
    "Now we can reliably generate a music matrix from a midi file. Instead of doing that, now we try to see if we can generate a midi music file from the music matrix. This is also to verify that our matrix representation contains enough information to recreate a music"
   ]
  },
  {
   "cell_type": "code",
   "execution_count": null,
   "metadata": {},
   "outputs": [],
   "source": [
    "new_midi = mido.MidiFile(type=0)\n",
    "new_midi.ticks_per_beat = target_ticks_per_beat\n",
    "track = mido.MidiTrack()\n",
    "new_midi.tracks.append(track)\n",
    "\n",
    "track.append(mido.MetaMessage('set_tempo', tempo=tempo, time=0))\n",
    "track.append(mido.MetaMessage('time_signature', numerator=numerator, denominator=denominator, \n",
    "                         clocks_per_click=24, notated_32nd_notes_per_beat=8, time=0))\n",
    "track.append(mido.MetaMessage('track_name', name='Test Track', time=0))\n",
    "\n",
    "T, N, D = notes_mat.shape\n",
    "notes_on = [False] * N\n",
    "prev_event_t = 0\n",
    "for t in range(200):\n",
    "    for n in range(N-2):\n",
    "        if notes_mat[t, n, 0] > 0:\n",
    "            velocity = velocity_mat[t, n]\n",
    "            track.append(mido.Message('note_on', note=n + notes_to_keep_down, velocity=velocity, time=t-prev_event_t))\n",
    "            prev_event_t = t\n",
    "            notes_on[n] = True\n",
    "        if notes_on[n] and notes_mat[t, n, 1] == 0:\n",
    "            track.append(mido.Message('note_on', note=n + notes_to_keep_down, velocity=0, time=t-prev_event_t))\n",
    "            prev_event_t = t\n",
    "            notes_on[n] = False\n",
    "    if notes_mat[t, N-2, 0] == 1:\n",
    "        track.append(mido.Message('control_change', control=64, value=127, time=t-prev_event_t))\n",
    "        prev_event_t = t\n",
    "        notes_on[N-2] = True\n",
    "    if notes_mat[t, N-1, 0] == 1:\n",
    "        track.append(mido.Message('control_change', control=67, value=127, time=t-prev_event_t))\n",
    "        prev_event_t = t\n",
    "        notes_on[N-2] = True\n",
    "    if notes_on[N-2] and notes_mat[t, N-2, 1] == 0:\n",
    "        track.append(mido.Message('control_change', control=64, value=0, time=t-prev_event_t))\n",
    "        prev_event_t = t\n",
    "        notes_on[N-2] = False\n",
    "    if notes_on[N-1] and notes_mat[t, N-1, 1] == 0:\n",
    "        track.append(mido.Message('control_change', control=67, value=0, time=t-prev_event_t))\n",
    "        prev_event_t = t\n",
    "        notes_on[N-1] = False\n",
    "\n"
   ]
  },
  {
   "cell_type": "code",
   "execution_count": null,
   "metadata": {},
   "outputs": [],
   "source": [
    "new_midi.save('temp.midi')"
   ]
  },
  {
   "cell_type": "markdown",
   "metadata": {},
   "source": [
    "### Processing multiple files into this format\n",
    "\n",
    "Now that we have processed everything, we can try running the preprocessing steps on all our midi files and get our data matrix. First, let us abstract all the preprocessing done above into functions"
   ]
  },
  {
   "cell_type": "code",
   "execution_count": 5,
   "metadata": {},
   "outputs": [],
   "source": [
    "def gather_midi_info(midi):\n",
    "    if midi.type != 0:\n",
    "        print('midi is not single track, ignore')\n",
    "        return None\n",
    "    midi_info = {}\n",
    "    midi_info['tempo'] = -1\n",
    "    midi_info['numerator'] = 4\n",
    "    midi_info['denominator'] = 4\n",
    "    for msg in midi.tracks[0]:\n",
    "        if msg.is_meta and msg.type == 'time_signature':\n",
    "            midi_info['numerator'] = msg.numerator\n",
    "            midi_info['denominator'] = msg.denominator\n",
    "            if msg.denominator != 4:\n",
    "                print('midi is not quarter note beat, ignore')\n",
    "                return None\n",
    "        if msg.is_meta and msg.type == 'set_tempo' and midi_info['tempo'] == -1:\n",
    "            midi_info['tempo'] = msg.tempo\n",
    "    midi_info['ticks_per_beat'] = midi.ticks_per_beat\n",
    "    return midi_info\n",
    "\n",
    "def process_msg(time, msg, last_on, notes_mat, velocity_mat):\n",
    "    time = int(time)\n",
    "    if msg.type == 'control_change':\n",
    "        if msg.control == 64:\n",
    "            note = notes_mat.shape[1] - 2\n",
    "        elif msg.control == 67:\n",
    "            note = notes_mat.shape[1] - 1\n",
    "        else:\n",
    "            return\n",
    "        if msg.value <= 63 and last_on[note] >= 0:\n",
    "            duration = time - last_on[note]\n",
    "            if duration > 0:\n",
    "                notes_mat[last_on[note]:time, note, 1] = 1\n",
    "            last_on[note] = -1\n",
    "        elif msg.value >= 64 and last_on[note] == -1:\n",
    "            notes_mat[time, note, 0] = 1\n",
    "            velocity_mat[time, note] = 0\n",
    "            last_on[note] = time\n",
    "    if msg.type == 'note_on' and msg.velocity > 0:\n",
    "        note = int(msg.note) - notes_to_keep_down\n",
    "        if note > notes_to_keep_up - notes_to_keep_down or note < 0:\n",
    "            return \n",
    "        notes_mat[time, note, 0] = 1\n",
    "        velocity_mat[time, note] = int(msg.velocity)\n",
    "        last_on[note] = time\n",
    "    elif (msg.type == 'note_off' or (msg.type == 'note_on' and msg.velocity == 0)):\n",
    "        note = int(msg.note) - notes_to_keep_down\n",
    "        if note > notes_to_keep_up - notes_to_keep_down or note < 0 or last_on[note] < 0:\n",
    "            return\n",
    "        duration = time - last_on[note]\n",
    "        if duration > 0:\n",
    "            notes_mat[last_on[note]:time, note, 1] = 1\n",
    "        if duration == 0:\n",
    "            notes_mat[time, note, 1] = 1\n",
    "        last_on[note] = -1\n",
    "        \n",
    "def process_single_midi(midi):\n",
    "    info = gather_midi_info(midi)\n",
    "    if not info:\n",
    "        return None\n",
    "    midi_list = list(midi)\n",
    "    cumsum = np.floor(np.cumsum(np.array([msg.time for msg in midi])) \\\n",
    "                  / (info['tempo'] / target_ticks_per_beat * 1e-6)).astype(np.int32)\n",
    "    notes_mat = np.zeros((int(cumsum[-1]) + 1, notes_range, 2), dtype=np.int8)\n",
    "    velocity_mat = np.zeros((int(cumsum[-1]) + 1, notes_range), dtype=np.int16)\n",
    "    last_on = -np.ones(notes_range, dtype=np.int32)\n",
    "    assert len(midi_list) == len(cumsum)\n",
    "    for i in range(len(midi_list)):\n",
    "        time = cumsum[i]\n",
    "        msg = midi_list[i]\n",
    "        process_msg(time, msg, last_on, notes_mat, velocity_mat)\n",
    "    return notes_mat, velocity_mat, info"
   ]
  },
  {
   "cell_type": "code",
   "execution_count": null,
   "metadata": {},
   "outputs": [],
   "source": [
    "a_notes, a_velocity, a_info = process_single_midi(classicals[100])"
   ]
  },
  {
   "cell_type": "code",
   "execution_count": null,
   "metadata": {},
   "outputs": [],
   "source": [
    "plt.figure(figsize=(8, 8))\n",
    "plt.imshow(a_notes[:100,:,0])"
   ]
  },
  {
   "cell_type": "markdown",
   "metadata": {},
   "source": [
    "### Generate Music for single matrix\n",
    "\n",
    "Before we run the algorithm on everything. We need to make sure it is correct. We will run our generate algorithm and compair it with the original"
   ]
  },
  {
   "cell_type": "code",
   "execution_count": 6,
   "metadata": {},
   "outputs": [],
   "source": [
    "def generate(notes_mat, velocity_mat, bpm, seconds):\n",
    "    new_midi = mido.MidiFile(type=0)\n",
    "    new_midi.ticks_per_beat = target_ticks_per_beat\n",
    "    track = mido.MidiTrack()\n",
    "    new_midi.tracks.append(track)\n",
    "\n",
    "    track.append(mido.MetaMessage('set_tempo', tempo=mido.bpm2tempo(bpm), time=0))\n",
    "    track.append(mido.MetaMessage('time_signature', numerator=4, denominator=4, \n",
    "                             clocks_per_click=24, notated_32nd_notes_per_beat=8, time=0))\n",
    "    track.append(mido.MetaMessage('track_name', name='Test Track', time=0))\n",
    "\n",
    "    T, N, D = notes_mat.shape\n",
    "    notes_on = [False] * N\n",
    "    prev_event_t = 0\n",
    "    Ty = seconds * bpm // 60 * target_ticks_per_beat\n",
    "    print('generating {0} ticks of music'.format(Ty))\n",
    "    for t in range(Ty):\n",
    "        for n in range(N-2):\n",
    "            if notes_mat[t, n, 0] > 0:\n",
    "                velocity = velocity_mat[t, n]\n",
    "                track.append(mido.Message('note_on', note=n + notes_to_keep_down, velocity=velocity, time=t-prev_event_t))\n",
    "                prev_event_t = t\n",
    "                notes_on[n] = True\n",
    "            if notes_on[n] and notes_mat[t, n, 1] == 0:\n",
    "                track.append(mido.Message('note_on', note=n + notes_to_keep_down, velocity=0, time=t-prev_event_t))\n",
    "                prev_event_t = t\n",
    "                notes_on[n] = False\n",
    "        if notes_mat[t, N-2, 0] == 1:\n",
    "            track.append(mido.Message('control_change', control=64, value=127, time=t-prev_event_t))\n",
    "            prev_event_t = t\n",
    "            notes_on[N-2] = True\n",
    "        if notes_mat[t, N-1, 0] == 1:\n",
    "            track.append(mido.Message('control_change', control=67, value=127, time=t-prev_event_t))\n",
    "            prev_event_t = t\n",
    "            notes_on[N-2] = True\n",
    "        if notes_on[N-2] and notes_mat[t, N-2, 1] == 0:\n",
    "            track.append(mido.Message('control_change', control=64, value=0, time=t-prev_event_t))\n",
    "            prev_event_t = t\n",
    "            notes_on[N-2] = False\n",
    "        if notes_on[N-1] and notes_mat[t, N-1, 1] == 0:\n",
    "            track.append(mido.Message('control_change', control=67, value=0, time=t-prev_event_t))\n",
    "            prev_event_t = t\n",
    "            notes_on[N-1] = False\n",
    "    return new_midi"
   ]
  },
  {
   "cell_type": "code",
   "execution_count": null,
   "metadata": {},
   "outputs": [],
   "source": [
    "a_midi = generate(a_notes, a_velocity, 120, 30)\n",
    "a_midi.save('generated.midi')\n",
    "classicals[100].save('original.midi')"
   ]
  },
  {
   "cell_type": "markdown",
   "metadata": {},
   "source": [
    "Now that we compare the generation we know that it is correct!"
   ]
  },
  {
   "cell_type": "code",
   "execution_count": 7,
   "metadata": {},
   "outputs": [],
   "source": [
    "classical_infos = []\n",
    "classical_matrices = []\n",
    "for midi in classicals:\n",
    "    midi_info = gather_midi_info(midi)\n",
    "    if not midi_info:\n",
    "        continue\n",
    "    matrix = list(process_single_midi(midi))\n",
    "    classical_matrices += [matrix]\n",
    "    classical_infos += [(midi_info['tempo'], midi_info['numerator'])]"
   ]
  },
  {
   "cell_type": "code",
   "execution_count": 8,
   "metadata": {},
   "outputs": [],
   "source": [
    "jazz_infos = []\n",
    "jazz_matrices = []\n",
    "for midi in jazzs:\n",
    "    midi_info = gather_midi_info(midi)\n",
    "    if not midi_info:\n",
    "        continue\n",
    "    matrix = list(process_single_midi(midi))\n",
    "    jazz_matrices += [matrix]\n",
    "    jazz_infos += [(midi_info['tempo'], midi_info['numerator'])]"
   ]
  },
  {
   "cell_type": "code",
   "execution_count": 9,
   "metadata": {},
   "outputs": [
    {
     "data": {
      "text/plain": [
       "(1597, 59, 2)"
      ]
     },
     "execution_count": 9,
     "metadata": {},
     "output_type": "execute_result"
    }
   ],
   "source": [
    "jazz_matrices[0][0].shape"
   ]
  },
  {
   "cell_type": "markdown",
   "metadata": {},
   "source": [
    "### Further Preprocessing"
   ]
  },
  {
   "cell_type": "code",
   "execution_count": 10,
   "metadata": {},
   "outputs": [
    {
     "data": {
      "text/plain": [
       "3"
      ]
     },
     "execution_count": 10,
     "metadata": {},
     "output_type": "execute_result"
    }
   ],
   "source": [
    "len(classical_matrices[0])"
   ]
  },
  {
   "cell_type": "code",
   "execution_count": 11,
   "metadata": {},
   "outputs": [
    {
     "data": {
      "image/png": "[encoded data removed]",
      "text/plain": [
       "<Figure size 576x576 with 1 Axes>"
      ]
     },
     "metadata": {
      "needs_background": "light"
     },
     "output_type": "display_data"
    }
   ],
   "source": [
    "plt.figure(figsize=(8, 8))\n",
    "plt.hist([x[0].shape[0] for x in classical_matrices])\n",
    "plt.savefig('plots/classical_hist.png')\n",
    "plt.title('Histogram of Classical Music Length')\n",
    "plt.xlabel('Length of Music')\n",
    "plt.ylabel('Count')\n",
    "plt.show()"
   ]
  },
  {
   "cell_type": "code",
   "execution_count": 12,
   "metadata": {},
   "outputs": [
    {
     "data": {
      "image/png": "[encoded data removed]",
      "text/plain": [
       "<Figure size 576x576 with 1 Axes>"
      ]
     },
     "metadata": {
      "needs_background": "light"
     },
     "output_type": "display_data"
    }
   ],
   "source": [
    "plt.figure(figsize=(8, 8))\n",
    "plt.hist([x[0].shape[0] for x in jazz_matrices])\n",
    "plt.savefig('plots/jazz_hist.png')\n",
    "plt.title('Histogram of Jazz Music Length')\n",
    "plt.xlabel('Length of Music')\n",
    "plt.ylabel('Count')\n",
    "plt.show()"
   ]
  },
  {
   "cell_type": "markdown",
   "metadata": {},
   "source": [
    "No we will cut the music into 30 second fragments and treat each 30 second fragment as a training example. This will make our algorithm run faster while also reducing the amount of parameters need to make it work."
   ]
  },
  {
   "cell_type": "code",
   "execution_count": 14,
   "metadata": {},
   "outputs": [],
   "source": [
    "T_split = 30 * target_ticks_per_beat * (120 // 60) # seconds = ticks_per_beat * (beats_per_min / 60)"
   ]
  },
  {
   "cell_type": "code",
   "execution_count": null,
   "metadata": {},
   "outputs": [],
   "source": [
    "def split(mats, T_split, n_songs=None):\n",
    "    if n_songs is None:\n",
    "        n_songs = len(mats)\n",
    "    notes_splitted = []\n",
    "    vel_splitted = []\n",
    "    for i in range(min(len(mats), n_songs)):\n",
    "        notes_mat = mats[i][0]\n",
    "        vel_mat = mats[i][1]\n",
    "        m, n, d = notes_mat.shape\n",
    "        for j in range(m // T_split):\n",
    "            notes_splitted += [notes_mat[(j*T_split) : ((j + 1)*T_split), :, :]]\n",
    "            vel_splitted += [vel_mat[(j*T_split):((j+1)*T_split), :]]\n",
    "    return np.stack(notes_splitted), np.stack(vel_splitted)"
   ]
  },
  {
   "cell_type": "code",
   "execution_count": null,
   "metadata": {},
   "outputs": [],
   "source": [
    "classical_notes_splitted, classical_vel_splitted= split(classical_matrices, T_split)\n",
    "jazz_notes_splitted, jazz_vel_splitted= split(jazz_matrices, T_split)\n",
    "print(classical_notes_splitted.shape, classical_vel_splitted.shape)\n",
    "print(jazz_notes_splitted.shape, jazz_vel_splitted.shape)"
   ]
  },
  {
   "cell_type": "markdown",
   "metadata": {},
   "source": [
    "Now we attempt to stack each matrices. There will be 3 matrices. One for the notes, one for the velocities, and one for label (classical or jazz)"
   ]
  },
  {
   "cell_type": "code",
   "execution_count": null,
   "metadata": {},
   "outputs": [],
   "source": [
    "m_classical = classical_notes_splitted.shape[0]\n",
    "m_jazz = jazz_notes_splitted.shape[0]\n",
    "notes = np.concatenate((classical_notes_splitted, jazz_notes_splitted), axis=0)\n",
    "velocities = np.concatenate((classical_vel_splitted, jazz_vel_splitted), axis=0)\n",
    "labels = np.concatenate((np.ones((m_classical, 1)), np.zeros((m_jazz, 1))), axis=0)\n",
    "print(notes.shape, velocities.shape, labels.shape)"
   ]
  },
  {
   "cell_type": "code",
   "execution_count": null,
   "metadata": {},
   "outputs": [],
   "source": [
    "np.save('matricies/notes.npy', notes)\n",
    "np.save('matricies/velocities.npy', velocities)\n",
    "np.save('matricies/labels.npy', labels)"
   ]
  },
  {
   "cell_type": "markdown",
   "metadata": {},
   "source": [
    "We would also want a smaller subset of the music to train LSTM on. Here we will only take the first 30 second of EACH song."
   ]
  },
  {
   "cell_type": "code",
   "execution_count": 22,
   "metadata": {},
   "outputs": [],
   "source": [
    "small_classicals = []\n",
    "for song in classical_matrices:\n",
    "    notes_mat = song[0]\n",
    "    small_classicals += [notes_mat[:T_split]]\n",
    "small_cmatrix = np.stack(small_classicals, axis=0)\n",
    "small_jazz = []\n",
    "for song in jazz_matrices:\n",
    "    notes_mat = song[0]\n",
    "    small_jazz += [notes_mat[:T_split]]\n",
    "small_jmatrix = np.stack(small_jazz, axis=0)\n",
    "small_notes = np.concatenate((small_cmatrix, small_jmatrix), axis=0)\n",
    "small_Y = np.concatenate((np.ones((len(small_classicals), 1)), np.zeros((len(small_jazz), 1))), axis=0)\n",
    "np.save('matricies/small_notes.npy', small_notes)\n",
    "np.save('matricies/small_Y.npy', small_Y)"
   ]
  },
  {
   "cell_type": "markdown",
   "metadata": {},
   "source": [
    "## Representation 2\n",
    "\n",
    "In this representation we will create a 3D array where each row is a timestamp. Each column is one of the 128 notes that the note was on + 2 damper notes, and each depth is (whether the note was and its velocity, and the duration of the note). This encodes almost all information about the music.\n",
    "\n",
    "Additionally, we will also encode the "
   ]
  },
  {
   "cell_type": "code",
   "execution_count": null,
   "metadata": {},
   "outputs": [],
   "source": [
    "fpath = \"TPD/classical/BENABD08.mid\"\n",
    "midi = mido.MidiFile(fpath)\n"
   ]
  },
  {
   "cell_type": "code",
   "execution_count": null,
   "metadata": {
    "scrolled": true
   },
   "outputs": [],
   "source": [
    "for msg in midi.tracks[0]:\n",
    "    print(msg)"
   ]
  },
  {
   "cell_type": "markdown",
   "metadata": {},
   "source": [
    "### Gather MIDI information \n",
    "\n",
    "Before we dive into the representation of MIDI we need to gather basic information and determine whether the MIDI file that we are getting can be used. "
   ]
  },
  {
   "cell_type": "code",
   "execution_count": null,
   "metadata": {},
   "outputs": [],
   "source": [
    "good_midi = midi.type == 0\n",
    "tempo = -1\n",
    "numerator = 4\n",
    "denominator = 4\n",
    "for msg in midi.tracks[0]:\n",
    "    if msg.is_meta and msg.type == 'time_signature':\n",
    "        numerator = msg.numerator\n",
    "        denominator = msg.denominator\n",
    "        good_midi = denominator == 4\n",
    "    if msg.is_meta and msg.type == 'set_tempo' and tempo == -1:\n",
    "        tempo = msg.tempo\n",
    "print(good_midi)\n",
    "print(tempo)\n",
    "print(midi.ticks_per_beat)\n",
    "print(midi.type)\n",
    "print(numerator, denominator)"
   ]
  },
  {
   "cell_type": "markdown",
   "metadata": {},
   "source": [
    "### Generate time matrix\n",
    "\n",
    "Here we will generate the matrix to represent out midi file. This matrix will first be blank. Depending on the size of the music we are getting we will have different sized matricies. the matrix follows the following order\n",
    "\n",
    "Each row is a timestamp. We will tolerate only 8 ticks per beat (this is a 1/32 note). Each timestamp is $\\frac{1}{8}$ beat.  Thus we will shove ticks_per_beat / 8 ticks into one tick. Any notes played between them will be considered as played on the same time.\n",
    "\n",
    "First we need to find the duration in terms of beats of the midi file.\n"
   ]
  },
  {
   "cell_type": "code",
   "execution_count": null,
   "metadata": {},
   "outputs": [],
   "source": [
    "# Ignore all non-timed messages\n",
    "cleaned_midi = [msg for msg in midi.tracks[0] if not msg.is_meta and hasattr(msg, 'time')]\n",
    "cumsum = np.cumsum(np.array([msg.time for msg in cleaned_midi])) / (midi.ticks_per_beat / 8)"
   ]
  },
  {
   "cell_type": "markdown",
   "metadata": {},
   "source": [
    "Now we can create our music matrix"
   ]
  },
  {
   "cell_type": "code",
   "execution_count": null,
   "metadata": {},
   "outputs": [],
   "source": [
    "def process_msg(time, msg, last_on, matrix):\n",
    "    time = int(time)\n",
    "    if msg.type == 'control_change':\n",
    "        if msg.control == 64:\n",
    "            note = 128\n",
    "        elif msg.control == 67:\n",
    "            note = 129\n",
    "        else:\n",
    "            return\n",
    "        if msg.value <= 63 and last_on[note] >= 0:\n",
    "            duration = time - last_on[note]\n",
    "            if duration > 0:\n",
    "                matrix[last_on[note], note, 1] = duration\n",
    "            last_on[note] = -1\n",
    "        elif msg.value >= 64 and last_on[note] == -1:\n",
    "            matrix[time, note, 0] = 127\n",
    "            last_on[note] = time\n",
    "    if msg.type == 'note_on' and msg.velocity > 0:\n",
    "        note = int(msg.note)\n",
    "        matrix[time, note, 0] = int(msg.velocity)\n",
    "        last_on[note] = time\n",
    "    elif (msg.type == 'note_off' or (msg.type == 'note_on' and msg.velocity == 0)) and last_on[msg.note] >= 0:\n",
    "        note = int(msg.note)\n",
    "        duration = time - last_on[note]\n",
    "        if duration > 0:\n",
    "            matrix[last_on[note], note, 1] = duration\n",
    "        \n",
    "\n",
    "music_matrix = np.zeros((int(cumsum[-1]), 128 + 2, 2), dtype=np.int32)\n",
    "last_on = -np.ones(128 + 2, dtype=np.int32)\n",
    "for i in range(len(cleaned_midi)):\n",
    "    time = cumsum[i]\n",
    "    msg = cleaned_midi[i]\n",
    "    process_msg(time, msg, last_on, music_matrix)\n",
    "        \n",
    "plt.figure(figsize=(8, 8))\n",
    "plt.imshow(music_matrix[:127,:,0])"
   ]
  },
  {
   "cell_type": "code",
   "execution_count": null,
   "metadata": {},
   "outputs": [],
   "source": [
    "plt.figure(figsize=(8, 8))\n",
    "plt.imshow(music_matrix[:127,:,1])"
   ]
  },
  {
   "cell_type": "markdown",
   "metadata": {},
   "source": [
    "### Generate MIDI from music matrix\n",
    "\n",
    "Now we can reliably generate a music matrix from a midi file. Instead of doing that, now we try to see if we can generate a midi music file from the music matrix. This is also to verify that our matrix representation contains enough information to recreate a music"
   ]
  },
  {
   "cell_type": "code",
   "execution_count": null,
   "metadata": {},
   "outputs": [],
   "source": [
    "new_midi = mido.MidiFile(type=0)\n",
    "new_midi.ticks_per_beat = 8\n",
    "track = mido.MidiTrack()\n",
    "new_midi.tracks.append(track)\n",
    "\n",
    "track.append(mido.MetaMessage('set_tempo', tempo=tempo, time=0))\n",
    "track.append(mido.MetaMessage('time_signature', numerator=numerator, denominator=denominator, \n",
    "                         clocks_per_click=24, notated_32nd_notes_per_beat=8, time=0))\n",
    "track.append(mido.MetaMessage('track_name', name='Test Track', time=0))\n",
    "\n",
    "T, N, D = music_matrix.shape\n",
    "note_ends = np.zeros((T+1, N))\n",
    "for t in range(T):\n",
    "    for n in range(N):\n",
    "        if music_matrix[t, n, 0] > 0:\n",
    "            note_ends[music_matrix[t, n, 1] + t, n] = 1\n",
    "prev_event_t = 0\n",
    "for t in range(T):\n",
    "    for n in range(N-2):\n",
    "        velocity = music_matrix[t, n, 0]\n",
    "        if velocity > 0:\n",
    "            track.append(mido.Message('note_on', note=n, velocity=velocity, time=t-prev_event_t))\n",
    "            prev_event_t = t\n",
    "        if note_ends[t, n] == 1:\n",
    "            track.append(mido.Message('note_on', note=n, velocity=0, time=t-prev_event_t))\n",
    "            prev_event_t = t\n",
    "    if music_matrix[t, N-2, 0] == 127:\n",
    "        track.append(mido.Message('control_change', control=64, value=127, time=t-prev_event_t))\n",
    "        prev_event_t = t\n",
    "    if music_matrix[t, N-1, 0] == 127:\n",
    "        track.append(mido.Message('control_change', control=67, value=127, time=t-prev_event_t))\n",
    "        prev_event_t = t\n",
    "    if note_ends[t, N-2] == 1:\n",
    "        track.append(mido.Message('control_change', control=64, value=0, time=t-prev_event_t))\n",
    "        prev_event_t = t\n",
    "    if note_ends[t, N-1] == 1:\n",
    "        track.append(mido.Message('control_change', control=67, value=0, time=t-prev_event_t))\n",
    "        prev_event_t = t\n",
    "\n"
   ]
  },
  {
   "cell_type": "code",
   "execution_count": null,
   "metadata": {},
   "outputs": [],
   "source": [
    "new_midi.save('temp.midi')"
   ]
  },
  {
   "cell_type": "markdown",
   "metadata": {},
   "source": [
    "### Processing multiple files into this format\n",
    "\n",
    "Now that we have processed everything, we can try running the preprocessing steps on all our midi files and get our data matrix. First, let us abstract all the preprocessing done above into functions"
   ]
  },
  {
   "cell_type": "code",
   "execution_count": null,
   "metadata": {},
   "outputs": [],
   "source": [
    "def gather_midi_info(midi):\n",
    "    if midi.type != 0:\n",
    "        print('midi is not single track, ignore')\n",
    "        return None\n",
    "    midi_info = {}\n",
    "    midi_info['tempo'] = -1\n",
    "    midi_info['numerator'] = 4\n",
    "    midi_info['denominator'] = 4\n",
    "    for msg in midi.tracks[0]:\n",
    "        if msg.is_meta and msg.type == 'time_signature':\n",
    "            midi_info['numerator'] = msg.numerator\n",
    "            midi_info['denominator'] = msg.denominator\n",
    "            if msg.denominator != 4:\n",
    "                print('midi is not quarter note beat, ignore')\n",
    "                return None\n",
    "        if msg.is_meta and msg.type == 'set_tempo' and midi_info['tempo'] == -1:\n",
    "            midi_info['tempo'] = msg.tempo\n",
    "    midi_info['ticks_per_beat'] = midi.ticks_per_beat\n",
    "    return midi_info\n",
    "\n",
    "def process_msg(time, msg, last_on, matrix):\n",
    "    time = int(time)\n",
    "    if msg.type == 'control_change':\n",
    "        if msg.control == 64:\n",
    "            note = 128\n",
    "        elif msg.control == 67:\n",
    "            note = 129\n",
    "        else:\n",
    "            return\n",
    "        if msg.value <= 63 and last_on[note] >= 0:\n",
    "            duration = time - last_on[note]\n",
    "            if duration > 0:\n",
    "                matrix[last_on[note], note, 1] = duration\n",
    "            last_on[note] = -1\n",
    "        elif msg.value >= 64 and last_on[note] == -1:\n",
    "            matrix[time, note, 0] = 127\n",
    "            last_on[note] = time\n",
    "    if msg.type == 'note_on' and msg.velocity > 0:\n",
    "        note = int(msg.note)\n",
    "        matrix[time, note, 0] = int(msg.velocity)\n",
    "        last_on[note] = time\n",
    "    elif (msg.type == 'note_off' or (msg.type == 'note_on' and msg.velocity == 0)) and last_on[msg.note] >= 0:\n",
    "        note = int(msg.note)\n",
    "        duration = time - last_on[note]\n",
    "        if duration > 0:\n",
    "            matrix[last_on[note], note, 1] = duration\n",
    "        \n",
    "def process_single_midi(midi):\n",
    "    cleaned_midi = [msg for msg in midi.tracks[0] if not msg.is_meta and hasattr(msg, 'time')]\n",
    "    cumsum = np.cumsum(np.array([msg.time for msg in cleaned_midi])) / (midi.ticks_per_beat / 8)\n",
    "    music_matrix = np.zeros((int(cumsum[-1]) + 1, 128 + 2, 2), dtype=np.int32)\n",
    "    last_on = -np.ones(128 + 2, dtype=np.int32)\n",
    "    for i in range(len(cleaned_midi)):\n",
    "        time = cumsum[i]\n",
    "        msg = cleaned_midi[i]\n",
    "        process_msg(time, msg, last_on, music_matrix)\n",
    "    return music_matrix"
   ]
  },
  {
   "cell_type": "code",
   "execution_count": null,
   "metadata": {},
   "outputs": [],
   "source": [
    "def load_midis(base_fpath):\n",
    "    fpaths = []\n",
    "    for (root, dirnames, filenames) in os.walk(base_fpath):\n",
    "        fpaths += [os.path.join(root, filename) for filename in filenames]\n",
    "    return [mido.MidiFile(fpath) for fpath in fpaths]\n",
    "classicals = load_midis('TPD/classical/')\n",
    "jazzs = load_midis('TPD/jazz/')"
   ]
  },
  {
   "cell_type": "code",
   "execution_count": null,
   "metadata": {},
   "outputs": [],
   "source": [
    "a = process_single_midi(classicals[10])"
   ]
  },
  {
   "cell_type": "code",
   "execution_count": null,
   "metadata": {},
   "outputs": [],
   "source": [
    "plt.figure(figsize=(8, 8))\n",
    "plt.imshow(a[:127,:,0])"
   ]
  },
  {
   "cell_type": "code",
   "execution_count": null,
   "metadata": {},
   "outputs": [],
   "source": [
    "classical_infos = []\n",
    "classical_matrices = []\n",
    "for midi in classicals:\n",
    "    midi_info = gather_midi_info(midi)\n",
    "    if not midi_info:\n",
    "        continue\n",
    "    matrix = process_single_midi(midi)\n",
    "    classical_matrices += [matrix]\n",
    "    classical_infos += [(midi_info['tempo'], midi_info['numerator'])]"
   ]
  },
  {
   "cell_type": "code",
   "execution_count": null,
   "metadata": {},
   "outputs": [],
   "source": [
    "jazz_infos = []\n",
    "jazz_matrices = []\n",
    "for midi in jazzs:\n",
    "    midi_info = gather_midi_info(midi)\n",
    "    if not midi_info:\n",
    "        continue\n",
    "    matrix = process_single_midi(midi)\n",
    "    jazz_matrices += [matrix]\n",
    "    jazz_infos += [(midi_info['tempo'], midi_info['numerator'])]"
   ]
  },
  {
   "cell_type": "code",
   "execution_count": null,
   "metadata": {},
   "outputs": [],
   "source": [
    "jazz_matrices[0].shape"
   ]
  },
  {
   "cell_type": "code",
   "execution_count": null,
   "metadata": {},
   "outputs": [],
   "source": [
    "np.save('matricies/classical_matrices.npy', classical_matrices)\n",
    "np.save('matricies/jazz_matrices.npy', jazz_matrices)"
   ]
  },
  {
   "cell_type": "code",
   "execution_count": null,
   "metadata": {},
   "outputs": [],
   "source": [
    "np.save('matricies/classical_infos.npy', classical_infos)\n",
    "np.save('matricies/jazz_infos.npy', jazz_infos)"
   ]
  },
  {
   "cell_type": "markdown",
   "metadata": {},
   "source": [
    "To verify that the music matrix generated is good, we will randomly pick a music and listen to it to see if it is ok."
   ]
  },
  {
   "cell_type": "code",
   "execution_count": null,
   "metadata": {},
   "outputs": [],
   "source": [
    "def generate(midi_info, music_matrix):\n",
    "    new_midi = mido.MidiFile(type=0)\n",
    "    new_midi.ticks_per_beat = 8\n",
    "    track = mido.MidiTrack()\n",
    "    new_midi.tracks.append(track)\n",
    "\n",
    "    track.append(mido.MetaMessage('set_tempo', tempo=midi_info['tempo'], time=0))\n",
    "    track.append(mido.MetaMessage('time_signature', numerator=midi_info['numerator'], \n",
    "                                  denominator=midi_info['denominator'], \n",
    "                                  clocks_per_click=24, notated_32nd_notes_per_beat=8, time=0))\n",
    "    track.append(mido.MetaMessage('track_name', name='Test Track', time=0))\n",
    "\n",
    "    T, N, D = music_matrix.shape\n",
    "    note_ends = np.zeros((T+1, N))\n",
    "    for t in range(T):\n",
    "        for n in range(N):\n",
    "            if music_matrix[t, n, 0] > 0:\n",
    "                note_ends[music_matrix[t, n, 1] + t, n] = 1\n",
    "    prev_event_t = 0\n",
    "    for t in range(T):\n",
    "        for n in range(N-2):\n",
    "            velocity = music_matrix[t, n, 0]\n",
    "            if velocity > 0:\n",
    "                track.append(mido.Message('note_on', note=n, velocity=velocity, time=t-prev_event_t))\n",
    "                prev_event_t = t\n",
    "            if note_ends[t, n] == 1:\n",
    "                track.append(mido.Message('note_on', note=n, velocity=0, time=t-prev_event_t))\n",
    "                prev_event_t = t\n",
    "        if music_matrix[t, N-2, 0] == 127:\n",
    "            track.append(mido.Message('control_change', control=64, value=127, time=t-prev_event_t))\n",
    "            prev_event_t = t\n",
    "        if music_matrix[t, N-1, 0] == 127:\n",
    "            track.append(mido.Message('control_change', control=67, value=127, time=t-prev_event_t))\n",
    "            prev_event_t = t\n",
    "        if note_ends[t, N-2] == 1:\n",
    "            track.append(mido.Message('control_change', control=64, value=0, time=t-prev_event_t))\n",
    "            prev_event_t = t\n",
    "        if note_ends[t, N-1] == 1:\n",
    "            track.append(mido.Message('control_change', control=67, value=0, time=t-prev_event_t))\n",
    "            prev_event_t = t\n",
    "    return new_midi\n"
   ]
  },
  {
   "cell_type": "code",
   "execution_count": null,
   "metadata": {},
   "outputs": [],
   "source": [
    "classicals[10].save('original.midi')\n",
    "new_midi = generate(gather_midi_info(classicals[10]), a)\n",
    "new_midi.save('generated.midi')"
   ]
  },
  {
   "cell_type": "markdown",
   "metadata": {},
   "source": [
    "The generated music sounds good! We will later use this method to generate music."
   ]
  },
  {
   "cell_type": "code",
   "execution_count": null,
   "metadata": {},
   "outputs": [],
   "source": []
  }
 ],
 "metadata": {
  "kernelspec": {
   "display_name": "Python 3",
   "language": "python",
   "name": "python3"
  },
  "language_info": {
   "codemirror_mode": {
    "name": "ipython",
    "version": 3
   },
   "file_extension": ".py",
   "mimetype": "text/x-python",
   "name": "python",
   "nbconvert_exporter": "python",
   "pygments_lexer": "ipython3",
   "version": "3.6.5"
  }
 },
 "nbformat": 4,
 "nbformat_minor": 2
}
