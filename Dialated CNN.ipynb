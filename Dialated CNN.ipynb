{
 "cells": [
  {
   "cell_type": "markdown",
   "metadata": {},
   "source": [
    "# Realizing Velocity Prediction with CNN\n",
    "\n",
    "This part of the notebook attempts to realize the velocity prediction with CNN as opposed to the LSTM models used in the original [paper](https://arxiv.org/pdf/1708.03535.pdf). "
   ]
  },
  {
   "cell_type": "code",
   "execution_count": 1,
   "metadata": {},
   "outputs": [
    {
     "name": "stderr",
     "output_type": "stream",
     "text": [
      "Using TensorFlow backend.\n"
     ]
    },
    {
     "name": "stdout",
     "output_type": "stream",
     "text": [
      "88\n"
     ]
    }
   ],
   "source": [
    "import os\n",
    "import mido\n",
    "import keras\n",
    "import numpy as np\n",
    "import sklearn.model_selection as ms\n",
    "import StyleNet.midi_util as midi_util\n",
    "import matplotlib.pyplot as plt"
   ]
  },
  {
   "cell_type": "markdown",
   "metadata": {},
   "source": [
    "### Part 1 Loading and processing data\n",
    "\n",
    "In this part we would first process the data into a form that we can use. We will be reusing code from the [GitHub repo](https://github.com/imalikshake/StyleNet) of the paper author to process the data the way he did it.\n",
    "\n",
    "First, we use the code to convert it into the format that they provided"
   ]
  },
  {
   "cell_type": "code",
   "execution_count": 2,
   "metadata": {},
   "outputs": [],
   "source": [
    "fpath = \"TPD/classical/bach_846_format0.mid\"\n",
    "midi = mido.MidiFile(fpath)\n",
    "midi_array, velocity_array = midi_util.midi_to_array_one_hot(midi, 4)"
   ]
  },
  {
   "cell_type": "markdown",
   "metadata": {},
   "source": [
    "Now we inspect the data that we loaded"
   ]
  },
  {
   "cell_type": "code",
   "execution_count": null,
   "metadata": {},
   "outputs": [],
   "source": [
    "print \"midi_array shape = %s\" % str(midi_array.shape)\n",
    "print \"velocity_array shape = %s\" % str(velocity_array.shape)"
   ]
  },
  {
   "cell_type": "markdown",
   "metadata": {},
   "source": [
    "Now we attempt to divide up the midi_array into 2 layers, so the data would be a volumn instead of a 1d array. This may allow us to learn better features through convolution."
   ]
  },
  {
   "cell_type": "code",
   "execution_count": null,
   "metadata": {},
   "outputs": [],
   "source": [
    "midi_notes = midi_array[:, ::2]\n",
    "midi_continuation = midi_array[:, 1::2]\n",
    "X = np.dstack((midi_notes, midi_continuation))\n",
    "print \"X shape = %s\" % str(X.shape)"
   ]
  },
  {
   "cell_type": "markdown",
   "metadata": {},
   "source": [
    "This can be generalized to loading and converting an entire subset of music files. The code to do that is below"
   ]
  },
  {
   "cell_type": "code",
   "execution_count": 138,
   "metadata": {},
   "outputs": [],
   "source": [
    "def load_midis(base_fpath):\n",
    "    fpaths = []\n",
    "    for (root, dirnames, filenames) in os.walk(base_fpath):\n",
    "        fpaths += [os.path.join(root, filename) for filename in filenames]\n",
    "    return [mido.MidiFile(fpath) for fpath in fpaths]\n",
    "\n",
    "def convert_midis(midis):\n",
    "    X = []\n",
    "    Y = []\n",
    "    for midi in midis:\n",
    "        try:\n",
    "            midi_array, velocity_array = midi_util.midi_to_array_one_hot(midi, 4)\n",
    "        except:\n",
    "            continue\n",
    "        midi_notes = midi_array[:, ::2]\n",
    "        midi_continuation = midi_array[:, 1::2]\n",
    "        X_i = np.dstack((midi_notes, midi_continuation))\n",
    "        if (X_i.shape[0] > 1000):\n",
    "            X += [X_i]\n",
    "            Y += [velocity_array]\n",
    "    return X, Y"
   ]
  },
  {
   "cell_type": "code",
   "execution_count": null,
   "metadata": {},
   "outputs": [],
   "source": [
    "X, Y = convert_midis(load_midis(\"TPD/classical\"))"
   ]
  },
  {
   "cell_type": "code",
   "execution_count": 140,
   "metadata": {},
   "outputs": [
    {
     "name": "stdout",
     "output_type": "stream",
     "text": [
      "X's length is 150\n",
      "X[0]'s shape is (2048, 88, 2)\n",
      "Y's length is 150\n",
      "Y[0]'s shape is (2048, 88)\n"
     ]
    }
   ],
   "source": [
    "print \"X's length is %s\" % str(len(X))\n",
    "print \"X[0]'s shape is %s\" % str(X[0].shape)\n",
    "print \"Y's length is %s\" % str(len(Y))\n",
    "print \"Y[0]'s shape is %s\" % str(Y[0].shape)"
   ]
  },
  {
   "cell_type": "markdown",
   "metadata": {},
   "source": [
    "Now we can store these matricies and load them later so we don't loose them. Note that the shapes of these matricies are not what we intended and needs further processing. The X matrix contains 183 3D matricies but it iself is not a 4D matrix because each matrix within it does not have the same dimention. In order to solve this problem we need to either pad the songs so that they are the same time, or end songs early and only take a sample from the song so we can make the matricies the same dimension. \n",
    "\n",
    "So now we will see the minimum size of the songs and take a sample of the same size from every song"
   ]
  },
  {
   "cell_type": "code",
   "execution_count": 141,
   "metadata": {},
   "outputs": [
    {
     "name": "stdout",
     "output_type": "stream",
     "text": [
      "Minimum shape of songs is (1024, 88, 2)\n",
      "Now the sizes of the matricies are X: (150, 1024, 88, 2), Y: (150, 1024, 88)\n"
     ]
    }
   ],
   "source": [
    "print \"Minimum shape of songs is %s\" % str(min(X, key=lambda x: x.shape[0]).shape)\n",
    "\n",
    "min_shape_X, _, _ = min(X, key=lambda x: x.shape[0]).shape\n",
    "new_X = []\n",
    "for X_i in X:\n",
    "    new_X += [X_i[:min_shape_X, :, :]]\n",
    "new_X = np.stack(new_X)\n",
    "\n",
    "new_Y = []\n",
    "for Y_i in Y:\n",
    "    new_Y += [Y_i[:min_shape_X, :]]\n",
    "new_Y = np.stack(new_Y)\n",
    "print \"Now the sizes of the matricies are X: %s, Y: %s\"% (str(new_X.shape), str(new_Y.shape))\n",
    "\n",
    "X, Y = new_X, new_Y"
   ]
  },
  {
   "cell_type": "code",
   "execution_count": 162,
   "metadata": {},
   "outputs": [],
   "source": [
    "Y = np.expand_dims(Y, axis=3)\n",
    "np.save(\"matricies/X.npy\", X)\n",
    "np.save(\"matricies/Y.npy\", Y)"
   ]
  },
  {
   "cell_type": "code",
   "execution_count": 2,
   "metadata": {},
   "outputs": [],
   "source": [
    "X = np.load(\"matricies/X.npy\")\n",
    "Y = np.load(\"matricies/Y.npy\")"
   ]
  },
  {
   "cell_type": "markdown",
   "metadata": {},
   "source": [
    "### Part 2 Modeling\n",
    "Now we have represented our data, we would like to see if we can build a model that predicts the velocities through the 3D matrix we generated"
   ]
  },
  {
   "cell_type": "code",
   "execution_count": 3,
   "metadata": {},
   "outputs": [
    {
     "name": "stdout",
     "output_type": "stream",
     "text": [
      "(135, 1024, 88, 2) (15, 1024, 88, 2) (135, 1024, 88, 1) (15, 1024, 88, 1)\n"
     ]
    }
   ],
   "source": [
    "X_train, X_test, Y_train, Y_test = ms.train_test_split(X, Y, test_size=0.1, random_state=43)\n",
    "print X_train.shape, X_test.shape, Y_train.shape, Y_test.shape"
   ]
  },
  {
   "cell_type": "markdown",
   "metadata": {},
   "source": [
    "#### 2.1 Attempt to use a CNN of filter size (100, 1)\n",
    "\n",
    "First we will try to use a CNN of filter size (100, 1) and see if we can correctly fit the velocity data.\n",
    "The code block below will split the dataset into train and test datasets."
   ]
  },
  {
   "cell_type": "code",
   "execution_count": 4,
   "metadata": {},
   "outputs": [],
   "source": [
    "def model1(input_shape):\n",
    "    X_input = keras.layers.Input(input_shape)\n",
    "    X = keras.layers.Conv2D(filters=50, kernel_size=(100, 1), strides=(1, 1), padding='same', name='Conv0',\n",
    "                            kernel_initializer=keras.initializers.glorot_normal(seed=None),\n",
    "                            bias_initializer=keras.initializers.glorot_normal(seed=None),\n",
    "                            data_format=\"channels_last\")(X_input)\n",
    "    X = keras.layers.BatchNormalization(axis = 3, name = 'bn0')(X)\n",
    "    X = keras.layers.Activation('relu')(X)\n",
    "    \n",
    "    X = keras.layers.Conv2D(filters=1, kernel_size=(200, 1), strides=(1, 1), padding='same', name='Conv2',\n",
    "                            kernel_initializer=keras.initializers.glorot_normal(seed=None),\n",
    "                            bias_initializer=keras.initializers.glorot_normal(seed=None),\n",
    "                            data_format=\"channels_last\")(X)\n",
    "    X = keras.layers.Activation('relu')(X)\n",
    "#     X = keras.layers.Flatten()(X)\n",
    "    model = keras.models.Model(inputs=X_input, outputs=X, name='basic')\n",
    "    return model"
   ]
  },
  {
   "cell_type": "code",
   "execution_count": 5,
   "metadata": {},
   "outputs": [],
   "source": [
    "m1 = model1(input_shape=(1024, 88, 2))\n",
    "m1.compile(optimizer='adam', loss='mean_squared_error', metrics=['accuracy'])"
   ]
  },
  {
   "cell_type": "code",
   "execution_count": 6,
   "metadata": {},
   "outputs": [
    {
     "name": "stdout",
     "output_type": "stream",
     "text": [
      "Epoch 1/20\n",
      "135/135 [==============================] - 504s 4s/step - loss: 122.8744 - acc: 0.6739\n",
      "Epoch 2/20\n",
      "135/135 [==============================] - 469s 3s/step - loss: 86.4913 - acc: 0.7232\n",
      "Epoch 3/20\n",
      "135/135 [==============================] - 458s 3s/step - loss: 64.7377 - acc: 0.7857\n",
      "Epoch 4/20\n",
      "135/135 [==============================] - 460s 3s/step - loss: 51.6880 - acc: 0.8455\n",
      "Epoch 5/20\n",
      "135/135 [==============================] - 480s 4s/step - loss: 42.5139 - acc: 0.8661\n",
      "Epoch 6/20\n",
      "135/135 [==============================] - 463s 3s/step - loss: 36.5151 - acc: 0.8558\n",
      "Epoch 7/20\n",
      "135/135 [==============================] - 489s 4s/step - loss: 32.4295 - acc: 0.8502\n",
      "Epoch 8/20\n",
      "135/135 [==============================] - 478s 4s/step - loss: 28.8278 - acc: 0.8873\n",
      "Epoch 9/20\n",
      "135/135 [==============================] - 471s 3s/step - loss: 26.4903 - acc: 0.8864\n",
      "Epoch 10/20\n",
      "135/135 [==============================] - 552s 4s/step - loss: 24.6172 - acc: 0.9161\n",
      "Epoch 11/20\n",
      "135/135 [==============================] - 548s 4s/step - loss: 23.7964 - acc: 0.8787\n",
      "Epoch 12/20\n",
      "135/135 [==============================] - 536s 4s/step - loss: 22.5433 - acc: 0.9342\n",
      "Epoch 13/20\n",
      "135/135 [==============================] - 536s 4s/step - loss: 21.5851 - acc: 0.9106\n",
      "Epoch 14/20\n",
      "135/135 [==============================] - 530s 4s/step - loss: 20.8958 - acc: 0.8993\n",
      "Epoch 15/20\n",
      "135/135 [==============================] - 491s 4s/step - loss: 20.2490 - acc: 0.9437\n",
      "Epoch 16/20\n",
      "135/135 [==============================] - 485s 4s/step - loss: 19.5329 - acc: 0.9209\n",
      "Epoch 17/20\n",
      "135/135 [==============================] - 487s 4s/step - loss: 19.3378 - acc: 0.9382\n",
      "Epoch 18/20\n",
      "135/135 [==============================] - 500s 4s/step - loss: 18.6029 - acc: 0.9391\n",
      "Epoch 19/20\n",
      "135/135 [==============================] - 522s 4s/step - loss: 18.5800 - acc: 0.9366\n",
      "Epoch 20/20\n",
      "135/135 [==============================] - 516s 4s/step - loss: 18.1579 - acc: 0.9262\n"
     ]
    },
    {
     "data": {
      "text/plain": [
       "<keras.callbacks.History at 0x128a19910>"
      ]
     },
     "execution_count": 6,
     "metadata": {},
     "output_type": "execute_result"
    }
   ],
   "source": [
    "m1.fit(X_train, Y_train, epochs = 20)"
   ]
  },
  {
   "cell_type": "code",
   "execution_count": 8,
   "metadata": {},
   "outputs": [],
   "source": [
    "m1.save('m1_conv.h5')"
   ]
  },
  {
   "cell_type": "code",
   "execution_count": 9,
   "metadata": {},
   "outputs": [],
   "source": [
    "m1 = keras.models.load_model('m1_conv.h5')"
   ]
  },
  {
   "cell_type": "code",
   "execution_count": 10,
   "metadata": {},
   "outputs": [
    {
     "name": "stdout",
     "output_type": "stream",
     "text": [
      "15/15 [==============================] - 15s 1s/step\n",
      "Loss = 14.922228813171387\n",
      "Test Accuracy = 0.9465982913970947\n"
     ]
    }
   ],
   "source": [
    "preds = m1.evaluate(X_test, Y_test)\n",
    "print (\"Loss = \" + str(preds[0]))\n",
    "print (\"Test Accuracy = \" + str(preds[1]))"
   ]
  },
  {
   "cell_type": "code",
   "execution_count": 12,
   "metadata": {},
   "outputs": [],
   "source": [
    "Y_0_hat = m1.predict(np.expand_dims(X_test[0], axis=0))\n",
    "Y_0_hat = Y_0_hat.reshape(1024, 88)"
   ]
  },
  {
   "cell_type": "code",
   "execution_count": 14,
   "metadata": {},
   "outputs": [
    {
     "data": {
      "text/plain": [
       "<matplotlib.image.AxesImage at 0x152fb68d0>"
      ]
     },
     "execution_count": 14,
     "metadata": {},
     "output_type": "execute_result"
    },
    {
     "data": {
      "image/png": "[encoded data removed]",
      "text/plain": [
       "<Figure size 14400x720 with 1 Axes>"
      ]
     },
     "metadata": {
      "needs_background": "light"
     },
     "output_type": "display_data"
    }
   ],
   "source": [
    "plt.figure(figsize = (200,10))\n",
    "plt.imshow(Y_0_hat)"
   ]
  },
  {
   "cell_type": "code",
   "execution_count": 15,
   "metadata": {},
   "outputs": [
    {
     "data": {
      "text/plain": [
       "<matplotlib.image.AxesImage at 0x15310b6d0>"
      ]
     },
     "execution_count": 15,
     "metadata": {},
     "output_type": "execute_result"
    },
    {
     "data": {
      "image/png": "[encoded data removed]",
      "text/plain": [
       "<Figure size 14400x720 with 1 Axes>"
      ]
     },
     "metadata": {
      "needs_background": "light"
     },
     "output_type": "display_data"
    }
   ],
   "source": [
    "plt.figure(figsize = (200,10))\n",
    "plt.imshow(Y_test[0].reshape(1024, 88))"
   ]
  },
  {
   "cell_type": "markdown",
   "metadata": {},
   "source": [
    "#### 2.2 Attempt to use multiple CNN layers and filter size (100, 88) in the beginning"
   ]
  },
  {
   "cell_type": "code",
   "execution_count": null,
   "metadata": {},
   "outputs": [],
   "source": [
    "def model2(input_shape):\n",
    "    X_input = keras.layers.Input(input_shape)\n",
    "    X = X_input\n",
    "#     X = keras.layers.ZeroPadding2D(padding=(50, 0))(X)\n",
    "#     X = keras.layers.ZeroPadding2D(padding=(4, 0))(X)\n",
    "    X = keras.layers.Conv2D(filters=100, kernel_size=(10, 1), strides=(1, 1), padding='same', name='Conv0',\n",
    "                            kernel_initializer=keras.initializers.glorot_normal(seed=None),\n",
    "                            bias_initializer=keras.initializers.glorot_normal(seed=None),\n",
    "                            data_format=\"channels_last\")(X)\n",
    "    X = keras.layers.BatchNormalization(axis = 3, name = 'bn0')(X)\n",
    "    X = keras.layers.Activation('relu')(X)\n",
    "#     X = keras.layers.Reshape((1024, 176, 1))(X)\n",
    "    print X.shape\n",
    "    \n",
    "#     X = keras.layers.ZeroPadding2D(padding=(50, 0))(X)\n",
    "    X = keras.layers.Conv2D(filters=50, kernel_size=(101, 1), strides=(1, 1), padding='same', name='Conv1',\n",
    "                            kernel_initializer=keras.initializers.glorot_normal(seed=None),\n",
    "                            bias_initializer=keras.initializers.glorot_normal(seed=None),\n",
    "                            data_format=\"channels_last\")(X)\n",
    "    X = keras.layers.BatchNormalization(axis = 3, name = 'bn1')(X)\n",
    "    X = keras.layers.Activation('relu')(X)\n",
    "#     X = keras.layers.Reshape((1024, 88, 2))(X)\n",
    "    print X.shape\n",
    "    \n",
    "    X = keras.layers.Conv2D(filters=1, kernel_size=(201, 88), strides=(1, 1), padding='same', name='Conv2',\n",
    "                            kernel_initializer=keras.initializers.glorot_normal(seed=None),\n",
    "                            bias_initializer=keras.initializers.glorot_normal(seed=None),\n",
    "                            data_format=\"channels_last\")(X)\n",
    "    X = keras.layers.Activation('relu')(X)\n",
    "    print X.shape\n",
    "    model = keras.models.Model(inputs=X_input, outputs=X, name='basic 2')\n",
    "    return model"
   ]
  },
  {
   "cell_type": "code",
   "execution_count": null,
   "metadata": {},
   "outputs": [],
   "source": [
    "m2 = model2(input_shape=(1024, 88, 2))\n",
    "m2.compile(optimizer='adam', loss='mean_squared_error', metrics=['accuracy'])"
   ]
  },
  {
   "cell_type": "code",
   "execution_count": null,
   "metadata": {},
   "outputs": [],
   "source": [
    "m2.fit(X_train, Y_train, epochs = 10)"
   ]
  },
  {
   "cell_type": "code",
   "execution_count": 55,
   "metadata": {
    "scrolled": false
   },
   "outputs": [
    {
     "name": "stdout",
     "output_type": "stream",
     "text": [
      "15/15 [==============================] - 1s 98ms/step\n",
      "[97.30217742919922, 0.0031205611303448677]\n"
     ]
    }
   ],
   "source": [
    "preds = m2.evaluate(X_test, Y_test)\n",
    "print (\"Loss = \" + str(preds[0]))\n",
    "print (\"Test Accuracy = \" + str(preds[1]))"
   ]
  },
  {
   "cell_type": "markdown",
   "metadata": {},
   "source": [
    "Now we can save the model and then load it from the file so we do not have to retrain it"
   ]
  },
  {
   "cell_type": "code",
   "execution_count": null,
   "metadata": {},
   "outputs": [],
   "source": [
    "m2.save('m2_conv.h5')"
   ]
  },
  {
   "cell_type": "code",
   "execution_count": null,
   "metadata": {},
   "outputs": [],
   "source": [
    "m2 = keras.models.load_model('m2_conv.h5')"
   ]
  },
  {
   "cell_type": "code",
   "execution_count": 47,
   "metadata": {},
   "outputs": [
    {
     "name": "stdout",
     "output_type": "stream",
     "text": [
      "(1024, 88)\n"
     ]
    }
   ],
   "source": [
    "Y_0_hat = m2.predict(np.expand_dims(X_test[0], axis=0))\n",
    "Y_0_hat = Y_0_hat.reshape(1024, 88)\n",
    "print Y_0_hat.shape"
   ]
  },
  {
   "cell_type": "code",
   "execution_count": 48,
   "metadata": {},
   "outputs": [
    {
     "data": {
      "text/plain": [
       "<matplotlib.image.AxesImage at 0x14ed469d0>"
      ]
     },
     "execution_count": 48,
     "metadata": {},
     "output_type": "execute_result"
    },
    {
     "data": {
      "image/png": "[encoded data removed]",
      "text/plain": [
       "<Figure size 14400x720 with 1 Axes>"
      ]
     },
     "metadata": {
      "needs_background": "light"
     },
     "output_type": "display_data"
    }
   ],
   "source": [
    "plt.figure(figsize = (200,10))\n",
    "plt.imshow(Y_0_hat)"
   ]
  },
  {
   "cell_type": "markdown",
   "metadata": {},
   "source": [
    "###### 2.3 Attempt to use Dilated CNN"
   ]
  },
  {
   "cell_type": "code",
   "execution_count": 7,
   "metadata": {},
   "outputs": [],
   "source": [
    "def model3(input_shape):\n",
    "    X_input = keras.layers.Input(input_shape)\n",
    "    X = X_input\n",
    "#     X = keras.layers.ZeroPadding2D(padding=(50, 0))(X)\n",
    "#     X = keras.layers.ZeroPadding2D(padding=(4, 0))(X)\n",
    "    X = keras.layers.Conv2D(filters=100, kernel_size=(101, 1), strides=(1, 1), padding='same', name='Conv0',\n",
    "                            dilation_rate=(3, 1),\n",
    "                            kernel_initializer=keras.initializers.glorot_normal(seed=None),\n",
    "                            bias_initializer=keras.initializers.glorot_normal(seed=None),\n",
    "                            data_format=\"channels_last\")(X)\n",
    "    X = keras.layers.BatchNormalization(axis = 3, name = 'bn0')(X)\n",
    "    X = keras.layers.Activation('relu')(X)\n",
    "#     X = keras.layers.Reshape((1024, 176, 1))(X)\n",
    "    print X.shape\n",
    "    \n",
    "#     X = keras.layers.ZeroPadding2D(padding=(50, 0))(X)\n",
    "#     X = keras.layers.Conv2D(filters=50, kernel_size=(101, 1), strides=(1, 1), padding='same', name='Conv1',\n",
    "#                             kernel_initializer=keras.initializers.glorot_normal(seed=None),\n",
    "#                             bias_initializer=keras.initializers.glorot_normal(seed=None),\n",
    "#                             data_format=\"channels_last\")(X)\n",
    "#     X = keras.layers.BatchNormalization(axis = 3, name = 'bn1')(X)\n",
    "#     X = keras.layers.Activation('relu')(X)\n",
    "#     X = keras.layers.Reshape((1024, 88, 2))(X)\n",
    "    print X.shape\n",
    "    \n",
    "    X = keras.layers.Conv2D(filters=1, kernel_size=(201, 88), strides=(1, 1), padding='same', name='Conv2',\n",
    "                            kernel_initializer=keras.initializers.glorot_normal(seed=None),\n",
    "                            bias_initializer=keras.initializers.glorot_normal(seed=None),\n",
    "                            data_format=\"channels_last\")(X)\n",
    "    X = keras.layers.Activation('relu')(X)\n",
    "    print X.shape\n",
    "    model = keras.models.Model(inputs=X_input, outputs=X, name='basic 2')\n",
    "    return model"
   ]
  },
  {
   "cell_type": "code",
   "execution_count": 8,
   "metadata": {},
   "outputs": [
    {
     "name": "stdout",
     "output_type": "stream",
     "text": [
      "(?, 1024, 88, 100)\n",
      "(?, 1024, 88, 100)\n",
      "(?, 1024, 88, 1)\n"
     ]
    }
   ],
   "source": [
    "m3 = model3(input_shape=(1024, 88, 2))\n",
    "m3.compile(optimizer='adam', loss='mean_squared_error', metrics=['accuracy'])"
   ]
  },
  {
   "cell_type": "code",
   "execution_count": null,
   "metadata": {},
   "outputs": [
    {
     "name": "stdout",
     "output_type": "stream",
     "text": [
      "Epoch 1/25\n"
     ]
    }
   ],
   "source": [
    "m3.fit(X_train, Y_train, epochs = 25)"
   ]
  },
  {
   "cell_type": "code",
   "execution_count": null,
   "metadata": {},
   "outputs": [],
   "source": [
    "preds = m3.evaluate(X_test, Y_test)\n",
    "print (\"Loss = \" + str(preds[0]))\n",
    "print (\"Test Accuracy = \" + str(preds[1]))"
   ]
  },
  {
   "cell_type": "markdown",
   "metadata": {},
   "source": [
    "Now we can save the model and then load it from the file so we do not have to retrain it"
   ]
  },
  {
   "cell_type": "code",
   "execution_count": null,
   "metadata": {},
   "outputs": [],
   "source": [
    "m3.save('m3_conv.h5')"
   ]
  },
  {
   "cell_type": "code",
   "execution_count": null,
   "metadata": {},
   "outputs": [],
   "source": [
    "m3 = keras.models.load_model('m3_conv.h5')"
   ]
  },
  {
   "cell_type": "code",
   "execution_count": 47,
   "metadata": {},
   "outputs": [
    {
     "name": "stdout",
     "output_type": "stream",
     "text": [
      "(1024, 88)\n"
     ]
    }
   ],
   "source": [
    "Y_0_hat = m3.predict(np.expand_dims(X_test[0], axis=0))\n",
    "Y_0_hat = Y_0_hat.reshape(1024, 88)\n",
    "print Y_0_hat.shape"
   ]
  },
  {
   "cell_type": "code",
   "execution_count": null,
   "metadata": {},
   "outputs": [],
   "source": [
    "plt.figure(figsize = (200,10))\n",
    "plt.imshow(Y_0_hat)"
   ]
  },
  {
   "cell_type": "markdown",
   "metadata": {},
   "source": [
    "Playground"
   ]
  },
  {
   "cell_type": "code",
   "execution_count": 207,
   "metadata": {},
   "outputs": [
    {
     "data": {
      "text/plain": [
       "7"
      ]
     },
     "execution_count": 207,
     "metadata": {},
     "output_type": "execute_result"
    }
   ],
   "source": [
    "np.max(np.sum((X[0] > 0), axis=1))"
   ]
  },
  {
   "cell_type": "code",
   "execution_count": null,
   "metadata": {},
   "outputs": [],
   "source": []
  }
 ],
 "metadata": {
  "kernelspec": {
   "display_name": "Python 2",
   "language": "python",
   "name": "python2"
  },
  "language_info": {
   "codemirror_mode": {
    "name": "ipython",
    "version": 2
   },
   "file_extension": ".py",
   "mimetype": "text/x-python",
   "name": "python",
   "nbconvert_exporter": "python",
   "pygments_lexer": "ipython2",
   "version": "2.7.15"
  }
 },
 "nbformat": 4,
 "nbformat_minor": 2
}
