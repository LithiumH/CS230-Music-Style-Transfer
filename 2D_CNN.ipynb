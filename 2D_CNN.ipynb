{
 "cells": [
  {
   "cell_type": "code",
   "execution_count": 21,
   "metadata": {},
   "outputs": [],
   "source": [
    "import os\n",
    "import mido\n",
    "import numpy as np\n",
    "import StyleNet.midi_util as midi_util\n",
    "from keras import layers\n",
    "from keras.layers import Input, Dense, Activation, ZeroPadding2D, BatchNormalization, Flatten, Conv2D\n",
    "from keras.layers import AveragePooling2D, MaxPooling2D, Dropout, GlobalMaxPooling2D, GlobalAveragePooling2D\n",
    "from keras.models import Model\n",
    "from keras.preprocessing import image\n",
    "from keras.utils import layer_utils\n",
    "from keras.utils.data_utils import get_file\n",
    "from keras.applications.imagenet_utils import preprocess_input\n",
    "from keras.utils.vis_utils import model_to_dot\n",
    "from keras.utils import plot_model\n",
    "\n",
    "import keras.backend as K\n",
    "K.set_image_data_format('channels_last')\n",
    "import matplotlib.pyplot as plt\n",
    "from matplotlib.pyplot import imshow"
   ]
  },
  {
   "cell_type": "markdown",
   "metadata": {},
   "source": [
    "###  Part 1 Loading and processing data\n",
    "\n",
    "In this part we load and process the midi files.\n",
    "\n"
   ]
  },
  {
   "cell_type": "code",
   "execution_count": 4,
   "metadata": {},
   "outputs": [
    {
     "name": "stdout",
     "output_type": "stream",
     "text": [
      "Warning: truncating from position 512 to 511\n",
      "Warning: truncating from position 512 to 511\n",
      "Warning: truncating from position 512 to 511\n",
      "Warning: truncating from position 512 to 511\n"
     ]
    }
   ],
   "source": [
    "fpath = \"TPD/classical/bach_846_format0.mid\"\n",
    "midi = mido.MidiFile(fpath)\n",
    "midi_array, velocity_array = midi_util.midi_to_array_one_hot(midi, 4)"
   ]
  },
  {
   "cell_type": "code",
   "execution_count": 5,
   "metadata": {},
   "outputs": [
    {
     "name": "stdout",
     "output_type": "stream",
     "text": [
      "midi_array shape = (512, 176)\n",
      "velocity_array shape = (512, 88)\n"
     ]
    }
   ],
   "source": [
    "print \"midi_array shape = %s\" % str(midi_array.shape)\n",
    "print \"velocity_array shape = %s\" % str(velocity_array.shape)"
   ]
  },
  {
   "cell_type": "code",
   "execution_count": 6,
   "metadata": {},
   "outputs": [
    {
     "name": "stdout",
     "output_type": "stream",
     "text": [
      "X shape = (512, 88, 2)\n"
     ]
    }
   ],
   "source": [
    "midi_notes = midi_array[:, ::2]\n",
    "midi_continuation = midi_array[:, 1::2]\n",
    "X = np.dstack((midi_notes, midi_continuation))\n",
    "\n",
    "\n",
    "print \"X shape = %s\" % str(X.shape)"
   ]
  },
  {
   "cell_type": "code",
   "execution_count": 65,
   "metadata": {},
   "outputs": [],
   "source": [
    "def load_midis(base_fpath):\n",
    "    fpaths = []\n",
    "    iter = 0\n",
    "    for (root, dirnames, filenames) in os.walk(base_fpath):\n",
    "        fpaths += [os.path.join(root, filename) for filename in filenames]\n",
    "    return [mido.MidiFile(fpath) for fpath in fpaths]\n",
    "\n",
    "def convert_midis(midis):\n",
    "    X = []\n",
    "    Y = []\n",
    "    iter = 0\n",
    "    for midi in midis:\n",
    "        try:\n",
    "            midi_array, velocity_array = midi_util.midi_to_array_one_hot(midi, 4)\n",
    "            print \"midi_array shape = %s\" % str(midi_array.shape)\n",
    "        except:\n",
    "            continue\n",
    "            \n",
    "        velocity_array = velocity_array.reshape(velocity_array.shape[0],velocity_array.shape[1], 1)\n",
    "        midi_notes = midi_array[:, ::2]\n",
    "        midi_continuation = midi_array[:, 1::2]\n",
    "        X_i = np.dstack((midi_notes, midi_continuation))\n",
    "        X += [X_i]\n",
    "        Y += [velocity_array]\n",
    "    return np.stack(X), np.stack(Y)"
   ]
  },
  {
   "cell_type": "code",
   "execution_count": 36,
   "metadata": {
    "scrolled": true
   },
   "outputs": [
    {
     "ename": "KeyboardInterrupt",
     "evalue": "",
     "output_type": "error",
     "traceback": [
      "\u001b[0;31m---------------------------------------------------------------------------\u001b[0m",
      "\u001b[0;31mKeyboardInterrupt\u001b[0m                         Traceback (most recent call last)",
      "\u001b[0;32m<ipython-input-36-6ed6c0da58e9>\u001b[0m in \u001b[0;36m<module>\u001b[0;34m()\u001b[0m\n\u001b[0;32m----> 1\u001b[0;31m \u001b[0mmidis\u001b[0m \u001b[0;34m=\u001b[0m \u001b[0mload_midis\u001b[0m\u001b[0;34m(\u001b[0m\u001b[0;34m\"TPD/classical\"\u001b[0m\u001b[0;34m)\u001b[0m\u001b[0;34m\u001b[0m\u001b[0m\n\u001b[0m",
      "\u001b[0;32m<ipython-input-35-c1945e4895f4>\u001b[0m in \u001b[0;36mload_midis\u001b[0;34m(base_fpath)\u001b[0m\n\u001b[1;32m      4\u001b[0m     \u001b[0;32mfor\u001b[0m \u001b[0;34m(\u001b[0m\u001b[0mroot\u001b[0m\u001b[0;34m,\u001b[0m \u001b[0mdirnames\u001b[0m\u001b[0;34m,\u001b[0m \u001b[0mfilenames\u001b[0m\u001b[0;34m)\u001b[0m \u001b[0;32min\u001b[0m \u001b[0mos\u001b[0m\u001b[0;34m.\u001b[0m\u001b[0mwalk\u001b[0m\u001b[0;34m(\u001b[0m\u001b[0mbase_fpath\u001b[0m\u001b[0;34m)\u001b[0m\u001b[0;34m:\u001b[0m\u001b[0;34m\u001b[0m\u001b[0m\n\u001b[1;32m      5\u001b[0m         \u001b[0mfpaths\u001b[0m \u001b[0;34m+=\u001b[0m \u001b[0;34m[\u001b[0m\u001b[0mos\u001b[0m\u001b[0;34m.\u001b[0m\u001b[0mpath\u001b[0m\u001b[0;34m.\u001b[0m\u001b[0mjoin\u001b[0m\u001b[0;34m(\u001b[0m\u001b[0mroot\u001b[0m\u001b[0;34m,\u001b[0m \u001b[0mfilename\u001b[0m\u001b[0;34m)\u001b[0m \u001b[0;32mfor\u001b[0m \u001b[0mfilename\u001b[0m \u001b[0;32min\u001b[0m \u001b[0mfilenames\u001b[0m\u001b[0;34m]\u001b[0m\u001b[0;34m\u001b[0m\u001b[0m\n\u001b[0;32m----> 6\u001b[0;31m     \u001b[0;32mreturn\u001b[0m \u001b[0;34m[\u001b[0m\u001b[0mmido\u001b[0m\u001b[0;34m.\u001b[0m\u001b[0mMidiFile\u001b[0m\u001b[0;34m(\u001b[0m\u001b[0mfpath\u001b[0m\u001b[0;34m)\u001b[0m \u001b[0;32mfor\u001b[0m \u001b[0mfpath\u001b[0m \u001b[0;32min\u001b[0m \u001b[0mfpaths\u001b[0m\u001b[0;34m]\u001b[0m\u001b[0;34m\u001b[0m\u001b[0m\n\u001b[0m\u001b[1;32m      7\u001b[0m \u001b[0;34m\u001b[0m\u001b[0m\n\u001b[1;32m      8\u001b[0m \u001b[0;32mdef\u001b[0m \u001b[0mconvert_midis\u001b[0m\u001b[0;34m(\u001b[0m\u001b[0mmidis\u001b[0m\u001b[0;34m)\u001b[0m\u001b[0;34m:\u001b[0m\u001b[0;34m\u001b[0m\u001b[0m\n",
      "\u001b[0;32m/usr/local/lib/python2.7/site-packages/mido/midifiles/midifiles.pyc\u001b[0m in \u001b[0;36m__init__\u001b[0;34m(self, filename, file, type, ticks_per_beat, charset, debug, clip)\u001b[0m\n\u001b[1;32m    314\u001b[0m         \u001b[0;32melif\u001b[0m \u001b[0mself\u001b[0m\u001b[0;34m.\u001b[0m\u001b[0mfilename\u001b[0m \u001b[0;32mis\u001b[0m \u001b[0;32mnot\u001b[0m \u001b[0mNone\u001b[0m\u001b[0;34m:\u001b[0m\u001b[0;34m\u001b[0m\u001b[0m\n\u001b[1;32m    315\u001b[0m             \u001b[0;32mwith\u001b[0m \u001b[0mio\u001b[0m\u001b[0;34m.\u001b[0m\u001b[0mopen\u001b[0m\u001b[0;34m(\u001b[0m\u001b[0mfilename\u001b[0m\u001b[0;34m,\u001b[0m \u001b[0;34m'rb'\u001b[0m\u001b[0;34m)\u001b[0m \u001b[0;32mas\u001b[0m \u001b[0mfile\u001b[0m\u001b[0;34m:\u001b[0m\u001b[0;34m\u001b[0m\u001b[0m\n\u001b[0;32m--> 316\u001b[0;31m                 \u001b[0mself\u001b[0m\u001b[0;34m.\u001b[0m\u001b[0m_load\u001b[0m\u001b[0;34m(\u001b[0m\u001b[0mfile\u001b[0m\u001b[0;34m)\u001b[0m\u001b[0;34m\u001b[0m\u001b[0m\n\u001b[0m\u001b[1;32m    317\u001b[0m \u001b[0;34m\u001b[0m\u001b[0m\n\u001b[1;32m    318\u001b[0m     \u001b[0;32mdef\u001b[0m \u001b[0madd_track\u001b[0m\u001b[0;34m(\u001b[0m\u001b[0mself\u001b[0m\u001b[0;34m,\u001b[0m \u001b[0mname\u001b[0m\u001b[0;34m=\u001b[0m\u001b[0mNone\u001b[0m\u001b[0;34m)\u001b[0m\u001b[0;34m:\u001b[0m\u001b[0;34m\u001b[0m\u001b[0m\n",
      "\u001b[0;32m/usr/local/lib/python2.7/site-packages/mido/midifiles/midifiles.pyc\u001b[0m in \u001b[0;36m_load\u001b[0;34m(self, infile)\u001b[0m\n\u001b[1;32m    351\u001b[0m                 self.tracks.append(read_track(infile,\n\u001b[1;32m    352\u001b[0m                                               \u001b[0mdebug\u001b[0m\u001b[0;34m=\u001b[0m\u001b[0mself\u001b[0m\u001b[0;34m.\u001b[0m\u001b[0mdebug\u001b[0m\u001b[0;34m,\u001b[0m\u001b[0;34m\u001b[0m\u001b[0m\n\u001b[0;32m--> 353\u001b[0;31m                                               clip=self.clip))\n\u001b[0m\u001b[1;32m    354\u001b[0m                 \u001b[0;31m# TODO: used to ignore EOFError. I hope things still work.\u001b[0m\u001b[0;34m\u001b[0m\u001b[0;34m\u001b[0m\u001b[0m\n\u001b[1;32m    355\u001b[0m \u001b[0;34m\u001b[0m\u001b[0m\n",
      "\u001b[0;32m/usr/local/lib/python2.7/site-packages/mido/midifiles/midifiles.pyc\u001b[0m in \u001b[0;36mread_track\u001b[0;34m(infile, debug, clip)\u001b[0m\n\u001b[1;32m    185\u001b[0m     \u001b[0mlast_status\u001b[0m \u001b[0;34m=\u001b[0m \u001b[0mNone\u001b[0m\u001b[0;34m\u001b[0m\u001b[0m\n\u001b[1;32m    186\u001b[0m \u001b[0;34m\u001b[0m\u001b[0m\n\u001b[0;32m--> 187\u001b[0;31m     \u001b[0;32mwhile\u001b[0m \u001b[0mTrue\u001b[0m\u001b[0;34m:\u001b[0m\u001b[0;34m\u001b[0m\u001b[0m\n\u001b[0m\u001b[1;32m    188\u001b[0m         \u001b[0;31m# End of track reached.\u001b[0m\u001b[0;34m\u001b[0m\u001b[0;34m\u001b[0m\u001b[0m\n\u001b[1;32m    189\u001b[0m         \u001b[0;32mif\u001b[0m \u001b[0minfile\u001b[0m\u001b[0;34m.\u001b[0m\u001b[0mtell\u001b[0m\u001b[0;34m(\u001b[0m\u001b[0;34m)\u001b[0m \u001b[0;34m-\u001b[0m \u001b[0mstart\u001b[0m \u001b[0;34m==\u001b[0m \u001b[0msize\u001b[0m\u001b[0;34m:\u001b[0m\u001b[0;34m\u001b[0m\u001b[0m\n",
      "\u001b[0;31mKeyboardInterrupt\u001b[0m: "
     ]
    }
   ],
   "source": [
    "midis = load_midis(\"TPD/classical\")"
   ]
  },
  {
   "cell_type": "code",
   "execution_count": 114,
   "metadata": {
    "scrolled": true
   },
   "outputs": [],
   "source": [
    "%%capture\n",
    "X, Y = convert_midis(midis)"
   ]
  },
  {
   "cell_type": "code",
   "execution_count": 120,
   "metadata": {},
   "outputs": [
    {
     "name": "stdout",
     "output_type": "stream",
     "text": [
      "(183, 512, 88, 2)\n",
      "(183, 512, 88, 1)\n"
     ]
    }
   ],
   "source": [
    "print(X.shape)\n",
    "print(Y.shape)\n",
    "train_percent = 0.8\n",
    "total = X.shape[0]\n",
    "train_index = int(total * train_percent)\n",
    "\n",
    "X_train, Y_train = X[:train_index,:], Y[:train_index, :]\n",
    "X_test, Y_test = X[train_index:, :], Y[train_index:, :]"
   ]
  },
  {
   "cell_type": "code",
   "execution_count": 121,
   "metadata": {},
   "outputs": [
    {
     "name": "stdout",
     "output_type": "stream",
     "text": [
      "size of X_train is (146, 512, 88, 2)\n",
      "size of Y_train is (146, 512, 88, 1)\n",
      "size of X_test is (37, 512, 88, 2)\n",
      "size of Y_test is (37, 512, 88, 1)\n"
     ]
    }
   ],
   "source": [
    "print('size of X_train is ' + str(X_train.shape))\n",
    "print('size of Y_train is ' + str(Y_train.shape))\n",
    "\n",
    "print('size of X_test is ' + str(X_test.shape))\n",
    "print('size of Y_test is ' + str(Y_test.shape))\n"
   ]
  },
  {
   "cell_type": "code",
   "execution_count": 122,
   "metadata": {},
   "outputs": [],
   "source": [
    "def model(input_shape):\n",
    "    X_input = Input(input_shape)\n",
    "    X = Conv2D(filters=50, kernel_size=(3, 3), strides=(1, 1), padding='same', name='Conv0')(X_input)\n",
    "    X = Activation('relu')(X)\n",
    "    \n",
    "    X = keras.layers.Conv2D(filters=1, kernel_size=(3, 3), strides=(1, 1), padding='same', name='Conv1')(X_input)\n",
    "    model = Model(inputs=X_input, outputs=X, name='basic')\n",
    "    return model"
   ]
  },
  {
   "cell_type": "code",
   "execution_count": 123,
   "metadata": {},
   "outputs": [],
   "source": [
    "test_model = model((512, 88, 2))\n",
    "test_model.compile(optimizer='adam', loss='mean_squared_error', metrics=['accuracy'])"
   ]
  },
  {
   "cell_type": "code",
   "execution_count": 125,
   "metadata": {},
   "outputs": [
    {
     "name": "stdout",
     "output_type": "stream",
     "text": [
      "Epoch 1/150\n",
      "146/146 [==============================] - 2s 14ms/step - loss: 123.4958 - acc: 0.8681\n",
      "Epoch 2/150\n",
      "146/146 [==============================] - 2s 14ms/step - loss: 121.5346 - acc: 0.3728\n",
      "Epoch 3/150\n",
      "146/146 [==============================] - 2s 13ms/step - loss: 119.6830 - acc: 1.5202e-07\n",
      "Epoch 4/150\n",
      "146/146 [==============================] - 2s 14ms/step - loss: 117.9102 - acc: 1.2161e-06\n",
      "Epoch 5/150\n",
      "146/146 [==============================] - 3s 18ms/step - loss: 116.2066 - acc: 2.2803e-06\n",
      "Epoch 6/150\n",
      "146/146 [==============================] - 2s 14ms/step - loss: 114.5684 - acc: 2.7363e-06\n",
      "Epoch 7/150\n",
      "146/146 [==============================] - 2s 12ms/step - loss: 112.9873 - acc: 4.1045e-06\n",
      "Epoch 8/150\n",
      "146/146 [==============================] - 3s 17ms/step - loss: 111.4503 - acc: 8.6650e-06\n",
      "Epoch 9/150\n",
      "146/146 [==============================] - 2s 13ms/step - loss: 109.9604 - acc: 8.8170e-06\n",
      "Epoch 10/150\n",
      "146/146 [==============================] - 2s 17ms/step - loss: 108.5114 - acc: 6.2327e-06\n",
      "Epoch 11/150\n",
      "146/146 [==============================] - 2s 14ms/step - loss: 107.0975 - acc: 6.5368e-06\n",
      "Epoch 12/150\n",
      "146/146 [==============================] - 2s 12ms/step - loss: 105.7112 - acc: 8.9691e-06\n",
      "Epoch 13/150\n",
      "146/146 [==============================] - 2s 11ms/step - loss: 104.3544 - acc: 6.3847e-06\n",
      "Epoch 14/150\n",
      "146/146 [==============================] - 2s 11ms/step - loss: 103.0218 - acc: 4.5605e-06\n",
      "Epoch 15/150\n",
      "146/146 [==============================] - 2s 11ms/step - loss: 101.7127 - acc: 3.8004e-06\n",
      "Epoch 16/150\n",
      "146/146 [==============================] - 2s 11ms/step - loss: 100.4214 - acc: 6.0807e-06\n",
      "Epoch 17/150\n",
      "146/146 [==============================] - 2s 12ms/step - loss: 99.1558 - acc: 7.7529e-06\n",
      "Epoch 18/150\n",
      "146/146 [==============================] - 2s 12ms/step - loss: 97.9084 - acc: 9.1211e-06\n",
      "Epoch 19/150\n",
      "146/146 [==============================] - 2s 12ms/step - loss: 96.6775 - acc: 9.1211e-06\n",
      "Epoch 20/150\n",
      "146/146 [==============================] - 2s 11ms/step - loss: 95.4619 - acc: 7.4489e-06\n",
      "Epoch 21/150\n",
      "146/146 [==============================] - 2s 13ms/step - loss: 94.2621 - acc: 6.6888e-06\n",
      "Epoch 22/150\n",
      "146/146 [==============================] - 2s 17ms/step - loss: 93.0736 - acc: 6.8408e-06\n",
      "Epoch 23/150\n",
      "146/146 [==============================] - 3s 18ms/step - loss: 91.9053 - acc: 1.0337e-05\n",
      "Epoch 24/150\n",
      "146/146 [==============================] - 2s 15ms/step - loss: 90.7481 - acc: 8.8170e-06\n",
      "Epoch 25/150\n",
      "146/146 [==============================] - 2s 12ms/step - loss: 89.6030 - acc: 1.5506e-05\n",
      "Epoch 26/150\n",
      "146/146 [==============================] - 2s 12ms/step - loss: 88.4724 - acc: 2.2955e-05\n",
      "Epoch 27/150\n",
      "146/146 [==============================] - 2s 16ms/step - loss: 87.3583 - acc: 3.0100e-05\n",
      "Epoch 28/150\n",
      "146/146 [==============================] - 2s 13ms/step - loss: 86.2521 - acc: 3.3140e-05\n",
      "Epoch 29/150\n",
      "146/146 [==============================] - 2s 12ms/step - loss: 85.1615 - acc: 3.3292e-05\n",
      "Epoch 30/150\n",
      "146/146 [==============================] - 2s 12ms/step - loss: 84.0845 - acc: 3.4812e-05\n",
      "Epoch 31/150\n",
      "146/146 [==============================] - 2s 12ms/step - loss: 83.0202 - acc: 2.7819e-05\n",
      "Epoch 32/150\n",
      "146/146 [==============================] - 2s 11ms/step - loss: 81.9657 - acc: 3.1012e-05\n",
      "Epoch 33/150\n",
      "146/146 [==============================] - 2s 11ms/step - loss: 80.9261 - acc: 4.4085e-05\n",
      "Epoch 34/150\n",
      "146/146 [==============================] - 2s 11ms/step - loss: 79.8990 - acc: 5.0318e-05\n",
      "Epoch 35/150\n",
      "146/146 [==============================] - 2s 11ms/step - loss: 78.8811 - acc: 4.9254e-05\n",
      "Epoch 36/150\n",
      "146/146 [==============================] - 2s 12ms/step - loss: 77.8814 - acc: 4.8190e-05\n",
      "Epoch 37/150\n",
      "146/146 [==============================] - 2s 11ms/step - loss: 76.8916 - acc: 5.5182e-05\n",
      "Epoch 38/150\n",
      "146/146 [==============================] - 2s 12ms/step - loss: 75.9118 - acc: 5.9135e-05\n",
      "Epoch 39/150\n",
      "146/146 [==============================] - 2s 12ms/step - loss: 74.9462 - acc: 6.7192e-05\n",
      "Epoch 40/150\n",
      "146/146 [==============================] - 2s 13ms/step - loss: 73.9913 - acc: 8.2242e-05\n",
      "Epoch 41/150\n",
      "146/146 [==============================] - 2s 12ms/step - loss: 73.0509 - acc: 9.0907e-05\n",
      "Epoch 42/150\n",
      "146/146 [==============================] - 2s 15ms/step - loss: 72.1178 - acc: 9.4099e-05\n",
      "Epoch 43/150\n",
      "146/146 [==============================] - 3s 18ms/step - loss: 71.1994 - acc: 9.2731e-05\n",
      "Epoch 44/150\n",
      "146/146 [==============================] - 2s 15ms/step - loss: 70.2916 - acc: 1.1842e-04\n",
      "Epoch 45/150\n",
      "146/146 [==============================] - 2s 13ms/step - loss: 69.3952 - acc: 1.5232e-04\n",
      "Epoch 46/150\n",
      "146/146 [==============================] - 2s 12ms/step - loss: 68.5122 - acc: 1.7664e-04\n",
      "Epoch 47/150\n",
      "146/146 [==============================] - 2s 11ms/step - loss: 67.6410 - acc: 2.1328e-04\n",
      "Epoch 48/150\n",
      "146/146 [==============================] - 2s 12ms/step - loss: 66.7782 - acc: 2.0948e-04\n",
      "Epoch 49/150\n",
      "146/146 [==============================] - 2s 12ms/step - loss: 65.9307 - acc: 2.0203e-04\n",
      "Epoch 50/150\n",
      "146/146 [==============================] - 2s 11ms/step - loss: 65.0915 - acc: 2.0994e-04\n",
      "Epoch 51/150\n",
      "146/146 [==============================] - 2s 11ms/step - loss: 64.2643 - acc: 8.0250e-04\n",
      "Epoch 52/150\n",
      "146/146 [==============================] - 2s 12ms/step - loss: 63.4487 - acc: 0.0034\n",
      "Epoch 53/150\n",
      "146/146 [==============================] - 2s 12ms/step - loss: 62.6435 - acc: 0.0035\n",
      "Epoch 54/150\n",
      "146/146 [==============================] - 2s 12ms/step - loss: 61.8522 - acc: 0.0035\n",
      "Epoch 55/150\n",
      "146/146 [==============================] - 2s 12ms/step - loss: 61.0712 - acc: 0.0035\n",
      "Epoch 56/150\n",
      "146/146 [==============================] - 2s 11ms/step - loss: 60.3023 - acc: 0.0035\n",
      "Epoch 57/150\n",
      "146/146 [==============================] - 2s 12ms/step - loss: 59.5415 - acc: 0.0036\n",
      "Epoch 58/150\n",
      "146/146 [==============================] - 2s 11ms/step - loss: 58.7917 - acc: 0.0055\n",
      "Epoch 59/150\n",
      "146/146 [==============================] - 2s 12ms/step - loss: 58.0537 - acc: 0.0061\n",
      "Epoch 60/150\n",
      "146/146 [==============================] - 2s 13ms/step - loss: 57.3287 - acc: 0.0069\n",
      "Epoch 61/150\n",
      "146/146 [==============================] - 2s 12ms/step - loss: 56.6133 - acc: 0.0069\n",
      "Epoch 62/150\n",
      "146/146 [==============================] - 2s 13ms/step - loss: 55.9078 - acc: 0.0070\n",
      "Epoch 63/150\n",
      "146/146 [==============================] - 2s 11ms/step - loss: 55.2117 - acc: 0.0070\n",
      "Epoch 64/150\n",
      "146/146 [==============================] - 2s 15ms/step - loss: 54.5263 - acc: 0.0069\n",
      "Epoch 65/150\n",
      "146/146 [==============================] - 2s 14ms/step - loss: 53.8519 - acc: 0.0069\n",
      "Epoch 66/150\n",
      "146/146 [==============================] - 2s 12ms/step - loss: 53.1875 - acc: 0.0070\n",
      "Epoch 67/150\n",
      "146/146 [==============================] - 2s 12ms/step - loss: 52.5329 - acc: 0.0070\n",
      "Epoch 68/150\n",
      "146/146 [==============================] - 2s 12ms/step - loss: 51.8879 - acc: 0.0070 0s - loss: 49.9660 - acc: 0.00\n",
      "Epoch 69/150\n",
      "146/146 [==============================] - 2s 12ms/step - loss: 51.2566 - acc: 0.0070\n",
      "Epoch 70/150\n",
      "146/146 [==============================] - 2s 12ms/step - loss: 50.6332 - acc: 0.0071\n",
      "Epoch 71/150\n",
      "146/146 [==============================] - 2s 11ms/step - loss: 50.0215 - acc: 0.0086\n",
      "Epoch 72/150\n",
      "146/146 [==============================] - 2s 11ms/step - loss: 49.4200 - acc: 0.0219\n",
      "Epoch 73/150\n",
      "146/146 [==============================] - 2s 11ms/step - loss: 48.8272 - acc: 0.0255\n",
      "Epoch 74/150\n",
      "146/146 [==============================] - 2s 12ms/step - loss: 48.2458 - acc: 0.0266\n",
      "Epoch 75/150\n",
      "146/146 [==============================] - 2s 12ms/step - loss: 47.6740 - acc: 0.0278\n",
      "Epoch 76/150\n",
      "146/146 [==============================] - 2s 12ms/step - loss: 47.1106 - acc: 0.0287\n",
      "Epoch 77/150\n",
      "146/146 [==============================] - 2s 12ms/step - loss: 46.5562 - acc: 0.0287\n",
      "Epoch 78/150\n",
      "146/146 [==============================] - 2s 12ms/step - loss: 46.0121 - acc: 0.0288\n",
      "Epoch 79/150\n",
      "146/146 [==============================] - 2s 11ms/step - loss: 45.4797 - acc: 0.0288\n",
      "Epoch 80/150\n",
      "146/146 [==============================] - 2s 11ms/step - loss: 44.9532 - acc: 0.0293\n",
      "Epoch 81/150\n"
     ]
    },
    {
     "name": "stdout",
     "output_type": "stream",
     "text": [
      "146/146 [==============================] - 2s 11ms/step - loss: 44.4375 - acc: 0.0292\n",
      "Epoch 82/150\n",
      "146/146 [==============================] - 2s 12ms/step - loss: 43.9329 - acc: 0.0292\n",
      "Epoch 83/150\n",
      "146/146 [==============================] - 2s 12ms/step - loss: 43.4372 - acc: 0.0293\n",
      "Epoch 84/150\n",
      "146/146 [==============================] - 2s 14ms/step - loss: 42.9497 - acc: 0.0295\n",
      "Epoch 85/150\n",
      "146/146 [==============================] - 2s 13ms/step - loss: 42.4719 - acc: 0.0295\n",
      "Epoch 86/150\n",
      "146/146 [==============================] - 2s 16ms/step - loss: 42.0009 - acc: 0.0295\n",
      "Epoch 87/150\n",
      "146/146 [==============================] - 2s 12ms/step - loss: 41.5386 - acc: 0.0295\n",
      "Epoch 88/150\n",
      "146/146 [==============================] - 2s 12ms/step - loss: 41.0868 - acc: 0.0295\n",
      "Epoch 89/150\n",
      "146/146 [==============================] - 2s 15ms/step - loss: 40.6459 - acc: 0.0295\n",
      "Epoch 90/150\n",
      "146/146 [==============================] - 2s 12ms/step - loss: 40.2107 - acc: 0.0290\n",
      "Epoch 91/150\n",
      "146/146 [==============================] - 2s 11ms/step - loss: 39.7840 - acc: 0.0296\n",
      "Epoch 92/150\n",
      "146/146 [==============================] - 2s 16ms/step - loss: 39.3676 - acc: 0.0296\n",
      "Epoch 93/150\n",
      "146/146 [==============================] - 2s 12ms/step - loss: 38.9611 - acc: 0.0276\n",
      "Epoch 94/150\n",
      "146/146 [==============================] - 2s 15ms/step - loss: 38.5590 - acc: 0.0278\n",
      "Epoch 95/150\n",
      "146/146 [==============================] - 2s 15ms/step - loss: 38.1680 - acc: 0.0267\n",
      "Epoch 96/150\n",
      "146/146 [==============================] - 2s 15ms/step - loss: 37.7845 - acc: 0.0267\n",
      "Epoch 97/150\n",
      "146/146 [==============================] - 2s 16ms/step - loss: 37.4085 - acc: 0.0268\n",
      "Epoch 98/150\n",
      "146/146 [==============================] - 2s 12ms/step - loss: 37.0410 - acc: 0.0268\n",
      "Epoch 99/150\n",
      "146/146 [==============================] - 2s 12ms/step - loss: 36.6799 - acc: 0.0236\n",
      "Epoch 100/150\n",
      "146/146 [==============================] - 2s 11ms/step - loss: 36.3279 - acc: 0.0236\n",
      "Epoch 101/150\n",
      "146/146 [==============================] - 2s 12ms/step - loss: 35.9820 - acc: 0.0235\n",
      "Epoch 102/150\n",
      "146/146 [==============================] - 2s 12ms/step - loss: 35.6450 - acc: 0.0236\n",
      "Epoch 103/150\n",
      "146/146 [==============================] - 2s 11ms/step - loss: 35.3155 - acc: 0.5392\n",
      "Epoch 104/150\n",
      "146/146 [==============================] - 2s 12ms/step - loss: 34.9921 - acc: 0.8759\n",
      "Epoch 105/150\n",
      "146/146 [==============================] - 2s 11ms/step - loss: 34.6754 - acc: 0.8778\n",
      "Epoch 106/150\n",
      "146/146 [==============================] - 2s 11ms/step - loss: 34.3684 - acc: 0.8774\n",
      "Epoch 107/150\n",
      "146/146 [==============================] - 2s 12ms/step - loss: 34.0667 - acc: 0.8831\n",
      "Epoch 108/150\n",
      "146/146 [==============================] - 2s 11ms/step - loss: 33.7710 - acc: 0.8840\n",
      "Epoch 109/150\n",
      "146/146 [==============================] - 2s 11ms/step - loss: 33.4858 - acc: 0.8809\n",
      "Epoch 110/150\n",
      "146/146 [==============================] - 2s 11ms/step - loss: 33.2041 - acc: 0.8862\n",
      "Epoch 111/150\n",
      "146/146 [==============================] - 2s 11ms/step - loss: 32.9287 - acc: 0.8863\n",
      "Epoch 112/150\n",
      "146/146 [==============================] - 2s 11ms/step - loss: 32.6600 - acc: 0.8863\n",
      "Epoch 113/150\n",
      "146/146 [==============================] - 2s 10ms/step - loss: 32.3968 - acc: 0.8863\n",
      "Epoch 114/150\n",
      "146/146 [==============================] - 2s 10ms/step - loss: 32.1402 - acc: 0.8863\n",
      "Epoch 115/150\n",
      "146/146 [==============================] - 2s 10ms/step - loss: 31.8915 - acc: 0.8863\n",
      "Epoch 116/150\n",
      "146/146 [==============================] - 2s 10ms/step - loss: 31.6456 - acc: 0.8867\n",
      "Epoch 117/150\n",
      "146/146 [==============================] - 2s 10ms/step - loss: 31.4088 - acc: 0.8881\n",
      "Epoch 118/150\n",
      "146/146 [==============================] - 2s 11ms/step - loss: 31.1741 - acc: 0.8899\n",
      "Epoch 119/150\n",
      "146/146 [==============================] - 2s 11ms/step - loss: 30.9476 - acc: 0.8900\n",
      "Epoch 120/150\n",
      "146/146 [==============================] - 2s 12ms/step - loss: 30.7261 - acc: 0.8901\n",
      "Epoch 121/150\n",
      "146/146 [==============================] - 2s 12ms/step - loss: 30.5089 - acc: 0.8916\n",
      "Epoch 122/150\n",
      "146/146 [==============================] - 2s 13ms/step - loss: 30.2970 - acc: 0.8927\n",
      "Epoch 123/150\n",
      "146/146 [==============================] - 2s 12ms/step - loss: 30.0899 - acc: 0.8928\n",
      "Epoch 124/150\n",
      "146/146 [==============================] - 2s 11ms/step - loss: 29.8878 - acc: 0.8927\n",
      "Epoch 125/150\n",
      "146/146 [==============================] - 2s 12ms/step - loss: 29.6917 - acc: 0.8938\n",
      "Epoch 126/150\n",
      "146/146 [==============================] - 2s 12ms/step - loss: 29.4993 - acc: 0.8940\n",
      "Epoch 127/150\n",
      "146/146 [==============================] - 2s 12ms/step - loss: 29.3116 - acc: 0.8941\n",
      "Epoch 128/150\n",
      "146/146 [==============================] - 2s 14ms/step - loss: 29.1278 - acc: 0.8941\n",
      "Epoch 129/150\n",
      "146/146 [==============================] - 2s 14ms/step - loss: 28.9496 - acc: 0.8942\n",
      "Epoch 130/150\n",
      "146/146 [==============================] - 2s 13ms/step - loss: 28.7752 - acc: 0.8945\n",
      "Epoch 131/150\n",
      "146/146 [==============================] - 2s 14ms/step - loss: 28.6043 - acc: 0.8945\n",
      "Epoch 132/150\n",
      "146/146 [==============================] - 3s 19ms/step - loss: 28.4374 - acc: 0.8946\n",
      "Epoch 133/150\n",
      "146/146 [==============================] - 3s 20ms/step - loss: 28.2753 - acc: 0.8953\n",
      "Epoch 134/150\n",
      "146/146 [==============================] - 2s 16ms/step - loss: 28.1169 - acc: 0.8954\n",
      "Epoch 135/150\n",
      "146/146 [==============================] - 2s 11ms/step - loss: 27.9626 - acc: 0.8954\n",
      "Epoch 136/150\n",
      "146/146 [==============================] - 2s 11ms/step - loss: 27.8109 - acc: 0.8954\n",
      "Epoch 137/150\n",
      "146/146 [==============================] - 2s 12ms/step - loss: 27.6634 - acc: 0.8970\n",
      "Epoch 138/150\n",
      "146/146 [==============================] - 2s 12ms/step - loss: 27.5196 - acc: 0.8988\n",
      "Epoch 139/150\n",
      "146/146 [==============================] - 2s 11ms/step - loss: 27.3778 - acc: 0.8991\n",
      "Epoch 140/150\n",
      "146/146 [==============================] - 2s 13ms/step - loss: 27.2405 - acc: 0.8991\n",
      "Epoch 141/150\n",
      "146/146 [==============================] - 2s 12ms/step - loss: 27.1067 - acc: 0.8993\n",
      "Epoch 142/150\n",
      "146/146 [==============================] - 2s 12ms/step - loss: 26.9735 - acc: 0.8992\n",
      "Epoch 143/150\n",
      "146/146 [==============================] - 2s 13ms/step - loss: 26.8460 - acc: 0.8995\n",
      "Epoch 144/150\n",
      "146/146 [==============================] - 2s 14ms/step - loss: 26.7207 - acc: 0.8994\n",
      "Epoch 145/150\n",
      "146/146 [==============================] - 2s 13ms/step - loss: 26.5971 - acc: 0.8992\n",
      "Epoch 146/150\n",
      "146/146 [==============================] - 2s 13ms/step - loss: 26.4780 - acc: 0.8994\n",
      "Epoch 147/150\n",
      "146/146 [==============================] - 2s 12ms/step - loss: 26.3620 - acc: 0.8998\n",
      "Epoch 148/150\n",
      "146/146 [==============================] - 2s 13ms/step - loss: 26.2472 - acc: 0.8997\n",
      "Epoch 149/150\n",
      "146/146 [==============================] - 2s 13ms/step - loss: 26.1368 - acc: 0.8998\n",
      "Epoch 150/150\n",
      "146/146 [==============================] - 2s 13ms/step - loss: 26.0271 - acc: 0.8999\n"
     ]
    }
   ],
   "source": [
    "history = test_model.fit(X_train, Y_train, batch_size = 1, epochs = 150)"
   ]
  },
  {
   "cell_type": "code",
   "execution_count": 82,
   "metadata": {},
   "outputs": [
    {
     "data": {
      "image/png": "[encoded data removed]",
      "text/plain": [
       "<Figure size 432x288 with 1 Axes>"
      ]
     },
     "metadata": {
      "needs_background": "light"
     },
     "output_type": "display_data"
    }
   ],
   "source": [
    "# summarize history for loss\n",
    "plt.plot(history.history['loss'])\n",
    "plt.title('model loss')\n",
    "plt.ylabel('loss')\n",
    "plt.xlabel('epoch')\n",
    "plt.legend(['train lost'], loc='upper left')\n",
    "plt.show()"
   ]
  }
 ],
 "metadata": {
  "kernelspec": {
   "display_name": "Python 2",
   "language": "python",
   "name": "python2"
  },
  "language_info": {
   "codemirror_mode": {
    "name": "ipython",
    "version": 2
   },
   "file_extension": ".py",
   "mimetype": "text/x-python",
   "name": "python",
   "nbconvert_exporter": "python",
   "pygments_lexer": "ipython2",
   "version": "2.7.15"
  }
 },
 "nbformat": 4,
 "nbformat_minor": 2
}
