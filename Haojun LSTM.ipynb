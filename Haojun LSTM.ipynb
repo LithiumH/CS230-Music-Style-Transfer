{
 "cells": [
  {
   "cell_type": "markdown",
   "metadata": {},
   "source": [
    "# Music Style Transfer through LSTM\n",
    "\n",
    "Here we are attempting to see whether we can transfer the style of the music by changing the notes themselves. Here, our definition of style transfer has changed. We are interested in seeing whether a network can generate music by being \"inspired\" from another music.\n",
    "\n",
    "To do this, we will first train a CNN that classifies music well. Then, we will use the actiavtions from one of the layers as a feature extractor and extract features from music. \n",
    "\n",
    "Next step is to use the features we extracted to generate the music back. This is done by conditioning a (possibly bidirectional) LSTM using the feature vector, and then train it to generate the music that was used to extract the feature vector. We will train 2 such generators.\n",
    "\n",
    "Last step is to see whether the generators works as a translator. We will take one music from one class and extract the features. And then feed the feature into the other class to generate music. We will see if the network picks up the styles and whether the network can be \"inspired\" by the music"
   ]
  },
  {
   "cell_type": "code",
   "execution_count": 1,
   "metadata": {
    "scrolled": true
   },
   "outputs": [
    {
     "name": "stderr",
     "output_type": "stream",
     "text": [
      "Using TensorFlow backend.\n"
     ]
    }
   ],
   "source": [
    "import os\n",
    "import mido\n",
    "import keras\n",
    "import numpy as np\n",
    "import sklearn.model_selection as ms\n",
    "import matplotlib.pyplot as plt"
   ]
  },
  {
   "cell_type": "markdown",
   "metadata": {},
   "source": [
    "## Loading data\n",
    "\n",
    "Here we will load the data that was already preprocessed. We will do some final stitching to make it usable for our algorithms. One of the thing we realized is that the files are different sizes. So in order for CNN to work they must be the same size. So what we will do is just simply pad them with 0s so it will not affect training."
   ]
  },
  {
   "cell_type": "code",
   "execution_count": 33,
   "metadata": {},
   "outputs": [],
   "source": [
    "classical_matrices = np.load('matricies/classical_matrices.npy')\n",
    "jazz_matrices = np.load('matricies/jazz_matrices.npy')\n",
    "classical_infos = np.load('matricies/classical_infos.npy')\n",
    "jazz_infos = np.load('matricies/jazz_infos.npy')"
   ]
  },
  {
   "cell_type": "code",
   "execution_count": 36,
   "metadata": {},
   "outputs": [
    {
     "data": {
      "image/png": "[encoded data removed]",
      "text/plain": [
       "<Figure size 432x288 with 1 Axes>"
      ]
     },
     "metadata": {
      "needs_background": "light"
     },
     "output_type": "display_data"
    }
   ],
   "source": [
    "plt.hist([x.shape[0] for x in classical_matrices])\n",
    "plt.show()"
   ]
  },
  {
   "cell_type": "code",
   "execution_count": 38,
   "metadata": {},
   "outputs": [
    {
     "name": "stdout",
     "output_type": "stream",
     "text": [
      "(10195, 130, 2)\n"
     ]
    }
   ],
   "source": [
    "## Here we pad every array to be of size 33759\n",
    "print(classical_matrices[0].shape)\n",
    "for i in range(len(classical_matrices)):\n",
    "    m = classical_matrices[i]\n",
    "    if m.shape[0] > 6000:\n",
    "        classical_matrices[i] = m[:6000, :, :]\n",
    "    else:\n",
    "        classical_matrices[i] = np.pad(m, ((0, 6000 - m.shape[0]), (0, 0), (0, 0)), 'constant', constant_values=(0,))"
   ]
  },
  {
   "cell_type": "code",
   "execution_count": 39,
   "metadata": {},
   "outputs": [],
   "source": [
    "for i in range(len(jazz_matrices)):\n",
    "    m = jazz_matrices[i]\n",
    "    if m.shape[0] > 6000:\n",
    "        jazz_matrices[i] = m[:6000, :, :]\n",
    "    else:\n",
    "        jazz_matrices[i] = np.pad(m, ((0, 6000 - m.shape[0]), (0, 0), (0, 0)), 'constant', constant_values=(0,))"
   ]
  },
  {
   "cell_type": "code",
   "execution_count": 40,
   "metadata": {},
   "outputs": [],
   "source": [
    "np.save('matricies/classical_matrices2.npy', classical_matrices)\n",
    "np.save('matricies/jazz_matrices2.npy', jazz_matrices)"
   ]
  },
  {
   "cell_type": "code",
   "execution_count": 70,
   "metadata": {},
   "outputs": [],
   "source": [
    "X1 = np.stack(classical_matrices)\n",
    "X2 = np.stack(jazz_matrices)\n",
    "X = np.concatenate((X1, X2), axis=0)\n",
    "Y1 = np.ones(len(classical_matrices))\n",
    "Y2 = np.zeros(len(jazz_matrices))\n",
    "Y = np.concatenate((Y1, Y2))\n",
    "Y = Y.reshape((-1, 1))"
   ]
  },
  {
   "cell_type": "code",
   "execution_count": 74,
   "metadata": {},
   "outputs": [
    {
     "name": "stdout",
     "output_type": "stream",
     "text": [
      "(698, 6000, 130, 2)\n",
      "(698, 1)\n"
     ]
    }
   ],
   "source": [
    "print(X.shape)\n",
    "print(Y.shape)\n",
    "np.save('matricies/newX.npy', X)\n",
    "np.save('matricies/newY.npy', Y)"
   ]
  },
  {
   "cell_type": "code",
   "execution_count": 67,
   "metadata": {},
   "outputs": [
    {
     "name": "stdout",
     "output_type": "stream",
     "text": [
      "(698, 6000, 130, 2)\n"
     ]
    }
   ],
   "source": [
    "print(X.shape)"
   ]
  },
  {
   "cell_type": "code",
   "execution_count": 75,
   "metadata": {},
   "outputs": [
    {
     "name": "stdout",
     "output_type": "stream",
     "text": [
      "(558, 6000, 130, 2) (140, 6000, 130, 2) (558, 1) (140, 1)\n"
     ]
    }
   ],
   "source": [
    "X_train, X_test, Y_train, Y_test = ms.train_test_split(X, Y, test_size=0.2, random_state=43)\n",
    "print X_train.shape, X_test.shape, Y_train.shape, Y_test.shape"
   ]
  },
  {
   "cell_type": "markdown",
   "metadata": {},
   "source": [
    "## CNN encoding\n",
    "\n",
    "In this section we first try to train a CNN that classifies music well. Here we will use a simple structure of\n",
    "\n",
    "1. Conv\n",
    "2. Dense\n",
    "...\n"
   ]
  },
  {
   "cell_type": "code",
   "execution_count": 85,
   "metadata": {},
   "outputs": [],
   "source": [
    "def model1(input_shape):\n",
    "    X_input = keras.layers.Input(input_shape)\n",
    "    X = keras.layers.Conv2D(filters=100, kernel_size=(10, 1), strides=(1, 1), padding='same', name='Conv0',\n",
    "                            kernel_initializer=keras.initializers.glorot_normal(seed=None),\n",
    "                            bias_initializer=keras.initializers.glorot_normal(seed=None),\n",
    "                            data_format=\"channels_last\")(X_input)\n",
    "    X = keras.layers.BatchNormalization(axis = 3, name = 'bn0')(X)\n",
    "    X = keras.layers.Activation('relu')(X)\n",
    "    \n",
    "    X = keras.layers.Conv2D(filters=50, kernel_size=(101, 1), strides=(1, 1), padding='same', name='Conv1',\n",
    "                            kernel_initializer=keras.initializers.glorot_normal(seed=None),\n",
    "                            bias_initializer=keras.initializers.glorot_normal(seed=None),\n",
    "                            data_format=\"channels_last\")(X_input)\n",
    "    X = keras.layers.BatchNormalization(axis = 3, name = 'bn1')(X)\n",
    "    X = keras.layers.Activation('relu')(X)\n",
    "    X = keras.layers.Flatten()(X)\n",
    "    X = keras.layers.Dense(50, activation='sigmoid')(X)\n",
    "    X = keras.layers.Dropout(0.5)(X)    \n",
    "#     X = keras.layers.Dense(25, activation='sigmoid')(X)\n",
    "#     X = keras.layers.Dropout(0.5)(X)    \n",
    "    X = keras.layers.Dense(10, activation='sigmoid')(X)\n",
    "    X = keras.layers.Dense(1, activation='sigmoid')(X)\n",
    "    model = keras.models.Model(inputs=X_input, outputs=X, name='basic')\n",
    "    return model"
   ]
  },
  {
   "cell_type": "code",
   "execution_count": 88,
   "metadata": {},
   "outputs": [],
   "source": [
    "m = model1(X.shape[1:])\n",
    "m.compile(optimizer='adam', loss='binary_crossentropy', metrics=['binary_accuracy'])"
   ]
  },
  {
   "cell_type": "code",
   "execution_count": null,
   "metadata": {},
   "outputs": [
    {
     "name": "stdout",
     "output_type": "stream",
     "text": [
      "Epoch 1/10\n"
     ]
    }
   ],
   "source": [
    "m.fit(X_train, Y_train, epochs=10)"
   ]
  },
  {
   "cell_type": "code",
   "execution_count": null,
   "metadata": {},
   "outputs": [],
   "source": [
    "def model(input_shape):\n",
    "    X_inputs = keras.layers.Input(input_shape)\n",
    "    X = X_inputs\n",
    "    print(X.shape)\n",
    "    X = keras.layers.Conv1D(filters=20, kernel_size=50, data_format=\"channels_last\")(X)\n",
    "    print(X.shape)\n",
    "#     X = keras.layers.Dropout(0.5)(X)    \n",
    "#     X = keras.layers.MaxPooling1D(pool_size=4)(X)\n",
    "    X = keras.layers.BatchNormalization(axis = 2, name = 'bn0')(X)\n",
    "    X = keras.layers.Activation('relu')(X)\n",
    "    print(X.shape)\n",
    "    \n",
    "    X = keras.layers.Flatten()(X)\n",
    "    X = keras.layers.Dense(50, activation='sigmoid')(X)\n",
    "#     X = keras.layers.Dropout(0.5)(X)    \n",
    "    X = keras.layers.Dense(25, activation='sigmoid')(X)\n",
    "#     X = keras.layers.Dropout(0.5)(X)    \n",
    "    X = keras.layers.Dense(10, activation='sigmoid')(X)\n",
    "    X = keras.layers.Dense(10, activation='softmax')(X)\n",
    "    print(X.shape)\n",
    "    \n",
    "    model = keras.models.Model(inputs=X_inputs, outputs=X, name='cnn')\n",
    "    return model"
   ]
  },
  {
   "cell_type": "markdown",
   "metadata": {},
   "source": [
    "## LSTM \n",
    "\n",
    "Here we will train 2 (bidirectional) LSTMs. One for generating classical music and one for generating jazz music. The way we condition the LSTMs is to have a Dense layer that transforms our feature vectors into the shape of the cell state of the LSTM, and then we will use this cell state as the initial cell state of the LSTM, and train it to generate the original MIDI matrix. "
   ]
  },
  {
   "cell_type": "code",
   "execution_count": null,
   "metadata": {},
   "outputs": [],
   "source": []
  },
  {
   "cell_type": "code",
   "execution_count": null,
   "metadata": {},
   "outputs": [],
   "source": []
  }
 ],
 "metadata": {
  "kernelspec": {
   "display_name": "Python 2",
   "language": "python",
   "name": "python2"
  },
  "language_info": {
   "codemirror_mode": {
    "name": "ipython",
    "version": 2
   },
   "file_extension": ".py",
   "mimetype": "text/x-python",
   "name": "python",
   "nbconvert_exporter": "python",
   "pygments_lexer": "ipython2",
   "version": "2.7.15"
  }
 },
 "nbformat": 4,
 "nbformat_minor": 2
}
