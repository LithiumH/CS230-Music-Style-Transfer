{
 "cells": [
  {
   "cell_type": "markdown",
   "metadata": {},
   "source": [
    "# Music Style Transfer through LSTM\n",
    "\n",
    "Here we are attempting to see whether we can transfer the style of the music by changing the notes themselves. Here, our definition of style transfer has changed. We are interested in seeing whether a network can generate music by being \"inspired\" from another music.\n",
    "\n",
    "To do this, we will first train a CNN that classifies music well. Then, we will use the actiavtions from one of the layers as a feature extractor and extract features from music. \n",
    "\n",
    "Next step is to use the features we extracted to generate the music back. This is done by conditioning a (possibly bidirectional) LSTM using the feature vector, and then train it to generate the music that was used to extract the feature vector. We will train 2 such generators.\n",
    "\n",
    "Last step is to see whether the generators works as a translator. We will take one music from one class and extract the features. And then feed the feature into the other class to generate music. We will see if the network picks up the styles and whether the network can be \"inspired\" by the music"
   ]
  },
  {
   "cell_type": "code",
   "execution_count": 2,
   "metadata": {
    "scrolled": true
   },
   "outputs": [
    {
     "name": "stderr",
     "output_type": "stream",
     "text": [
      "Using TensorFlow backend.\n"
     ]
    }
   ],
   "source": [
    "import os\n",
    "import mido\n",
    "import keras\n",
    "import numpy as np\n",
    "import sklearn.model_selection as ms\n",
    "import matplotlib.pyplot as plt"
   ]
  },
  {
   "cell_type": "code",
   "execution_count": 3,
   "metadata": {},
   "outputs": [],
   "source": [
    "import tensorflow as tf\n",
    "from keras.backend.tensorflow_backend import set_session\n",
    "\n",
    "config = tf.ConfigProto()\n",
    "config.gpu_options.allow_growth = True\n",
    "session = tf.Session(config=config)\n",
    "set_session(session)"
   ]
  },
  {
   "cell_type": "code",
   "execution_count": 4,
   "metadata": {},
   "outputs": [
    {
     "data": {
      "text/plain": [
       "[]"
      ]
     },
     "execution_count": 4,
     "metadata": {},
     "output_type": "execute_result"
    }
   ],
   "source": [
    "from keras import backend as K\n",
    "K.tensorflow_backend._get_available_gpus()"
   ]
  },
  {
   "cell_type": "code",
   "execution_count": 5,
   "metadata": {},
   "outputs": [],
   "source": [
    "X = np.load('matricies/newX.npy')\n",
    "Y = np.load('matricies/newY.npy')"
   ]
  },
  {
   "cell_type": "code",
   "execution_count": 6,
   "metadata": {
    "scrolled": true
   },
   "outputs": [
    {
     "name": "stdout",
     "output_type": "stream",
     "text": [
      "(698, 25000, 260)\n"
     ]
    }
   ],
   "source": [
    "print(X.shape)"
   ]
  },
  {
   "cell_type": "code",
   "execution_count": 7,
   "metadata": {
    "scrolled": true
   },
   "outputs": [
    {
     "name": "stdout",
     "output_type": "stream",
     "text": [
      "(558, 25000, 260) (140, 25000, 260) (558, 1) (140, 1)\n"
     ]
    }
   ],
   "source": [
    "X_train, X_test, Y_train, Y_test = ms.train_test_split(X, Y, test_size=0.2, random_state=123)\n",
    "print(X_train.shape, X_test.shape, Y_train.shape, Y_test.shape)"
   ]
  },
  {
   "cell_type": "markdown",
   "metadata": {},
   "source": [
    "## CNN encoding\n",
    "\n",
    "In this section we first try to train a CNN that classifies music well. Here we will use a simple structure of\n",
    "\n",
    "1. Conv\n",
    "2. Dense\n",
    "...\n"
   ]
  },
  {
   "cell_type": "code",
   "execution_count": 20,
   "metadata": {},
   "outputs": [],
   "source": [
    "def model1(input_shape):\n",
    "    X_input = keras.layers.Input(input_shape)\n",
    "    X = X_input\n",
    "    X = keras.layers.Conv1D(filters=5, kernel_size=64, padding='same', name='Conv0',\n",
    "                            dilation_rate=16,\n",
    "                            kernel_initializer=keras.initializers.glorot_normal(seed=None),\n",
    "                            bias_initializer=keras.initializers.glorot_normal(seed=None),\n",
    "                            data_format=\"channels_last\")(X)\n",
    "    X = keras.layers.AveragePooling1D(64)(X)\n",
    "    X = keras.layers.BatchNormalization(axis = 2, name = 'bn0')(X)\n",
    "    X = keras.layers.Activation('relu')(X)\n",
    "    print(X.shape)\n",
    "    \n",
    "#     X = keras.layers.Reshape((250, -1))(X)\n",
    "    X = keras.layers.Conv1D(filters=40, kernel_size=32, padding='valid', name='Conv1',\n",
    "                            dilation_rate=8,\n",
    "                            kernel_initializer=keras.initializers.glorot_normal(seed=None),\n",
    "                            bias_initializer=keras.initializers.glorot_normal(seed=None),\n",
    "                            data_format=\"channels_last\")(X)\n",
    "    X = keras.layers.AveragePooling1D(32)(X)\n",
    "    X = keras.layers.BatchNormalization(axis = 2, name = 'bn1')(X)\n",
    "    X = keras.layers.Activation('relu')(X)\n",
    "    print(X.shape)\n",
    "    X = keras.layers.Flatten()(X)\n",
    "#     X = keras.layers.Dense(100, activation='sigmoid')(X)\n",
    "#     X = keras.layers.Dropout(0.5)(X)    \n",
    "    X = keras.layers.Dense(50, activation='sigmoid')(X)\n",
    "    X = keras.layers.Dropout(0.5)(X)    \n",
    "    X = keras.layers.Dense(10, activation='sigmoid')(X)\n",
    "    X = keras.layers.Dense(1, activation='sigmoid')(X)\n",
    "    model = keras.models.Model(inputs=X_input, outputs=X, name='basic')\n",
    "    return model"
   ]
  },
  {
   "cell_type": "code",
   "execution_count": 21,
   "metadata": {},
   "outputs": [
    {
     "name": "stdout",
     "output_type": "stream",
     "text": [
      "(?, 390, 5)\n",
      "(?, 4, 40)\n"
     ]
    }
   ],
   "source": [
    "m = model1(X.shape[1:])\n",
    "m.compile(optimizer='adam', loss='binary_crossentropy', metrics=['binary_accuracy'])"
   ]
  },
  {
   "cell_type": "code",
   "execution_count": 22,
   "metadata": {},
   "outputs": [
    {
     "name": "stdout",
     "output_type": "stream",
     "text": [
      "_________________________________________________________________\n",
      "Layer (type)                 Output Shape              Param #   \n",
      "=================================================================\n",
      "input_5 (InputLayer)         (None, 25000, 260)        0         \n",
      "_________________________________________________________________\n",
      "Conv0 (Conv1D)               (None, 25000, 5)          83205     \n",
      "_________________________________________________________________\n",
      "average_pooling1d_9 (Average (None, 390, 5)            0         \n",
      "_________________________________________________________________\n",
      "bn0 (BatchNormalization)     (None, 390, 5)            20        \n",
      "_________________________________________________________________\n",
      "activation_9 (Activation)    (None, 390, 5)            0         \n",
      "_________________________________________________________________\n",
      "Conv1 (Conv1D)               (None, 142, 40)           6440      \n",
      "_________________________________________________________________\n",
      "average_pooling1d_10 (Averag (None, 4, 40)             0         \n",
      "_________________________________________________________________\n",
      "bn1 (BatchNormalization)     (None, 4, 40)             160       \n",
      "_________________________________________________________________\n",
      "activation_10 (Activation)   (None, 4, 40)             0         \n",
      "_________________________________________________________________\n",
      "flatten_5 (Flatten)          (None, 160)               0         \n",
      "_________________________________________________________________\n",
      "dense_13 (Dense)             (None, 50)                8050      \n",
      "_________________________________________________________________\n",
      "dropout_5 (Dropout)          (None, 50)                0         \n",
      "_________________________________________________________________\n",
      "dense_14 (Dense)             (None, 10)                510       \n",
      "_________________________________________________________________\n",
      "dense_15 (Dense)             (None, 1)                 11        \n",
      "=================================================================\n",
      "Total params: 98,396\n",
      "Trainable params: 98,306\n",
      "Non-trainable params: 90\n",
      "_________________________________________________________________\n",
      "None\n"
     ]
    }
   ],
   "source": [
    "print(m.summary())"
   ]
  },
  {
   "cell_type": "code",
   "execution_count": 12,
   "metadata": {},
   "outputs": [
    {
     "name": "stdout",
     "output_type": "stream",
     "text": [
      "Epoch 1/4\n",
      "558/558 [==============================] - 35s 62ms/step - loss: 0.4735 - binary_accuracy: 0.8548\n",
      "Epoch 2/4\n",
      "558/558 [==============================] - 34s 62ms/step - loss: 0.3852 - binary_accuracy: 0.9409\n",
      "Epoch 3/4\n",
      "558/558 [==============================] - 35s 62ms/step - loss: 0.3243 - binary_accuracy: 0.9642\n",
      "Epoch 4/4\n",
      "558/558 [==============================] - 34s 62ms/step - loss: 0.2851 - binary_accuracy: 0.9695\n"
     ]
    },
    {
     "data": {
      "text/plain": [
       "<keras.callbacks.History at 0x20e045d4e48>"
      ]
     },
     "execution_count": 12,
     "metadata": {},
     "output_type": "execute_result"
    }
   ],
   "source": [
    "m.fit(X_train, Y_train, epochs=4)"
   ]
  },
  {
   "cell_type": "code",
   "execution_count": 13,
   "metadata": {},
   "outputs": [
    {
     "name": "stdout",
     "output_type": "stream",
     "text": [
      "140/140 [==============================] - 5s 35ms/step\n",
      "Loss = 0.3178471607821328\n",
      "Test Accuracy = 0.9428571445601327\n"
     ]
    }
   ],
   "source": [
    "preds = m.evaluate(X_test, Y_test)\n",
    "print (\"Loss = \" + str(preds[0]))\n",
    "print (\"Test Accuracy = \" + str(preds[1]))"
   ]
  },
  {
   "cell_type": "code",
   "execution_count": 19,
   "metadata": {},
   "outputs": [],
   "source": [
    "m.save('cnn.h5')"
   ]
  },
  {
   "cell_type": "code",
   "execution_count": null,
   "metadata": {},
   "outputs": [],
   "source": [
    "m = keras.model.load('cnn.h5')"
   ]
  },
  {
   "cell_type": "markdown",
   "metadata": {},
   "source": [
    "## LSTM \n",
    "\n",
    "Here we will train 2 (bidirectional) LSTMs. One for generating classical music and one for generating jazz music. The way we condition the LSTMs is to have a Dense layer that transforms our feature vectors into the shape of the cell state of the LSTM, and then we will use this cell state as the initial cell state of the LSTM, and train it to generate the original MIDI matrix. \n",
    "\n",
    "The input to the model is a feature vector. It will then have a dense layer that transforms it into the cell state shape. Then for every time stamp it will generate some music, and the output should be a music.\n",
    "\n",
    "First we need to construct the new X and Ys. The X will be the same but with the last layer stacked on top of each other insead. Y will be the same as X but all values shifted left by 1 timestamp"
   ]
  },
  {
   "cell_type": "code",
   "execution_count": 14,
   "metadata": {},
   "outputs": [],
   "source": [
    "gen_T = 30\n",
    "m_examples = 340\n",
    "X2_classical = X[(Y==1).ravel(), :gen_T, :][:m_examples,:,:]\n",
    "X2_jazz = X[(Y==0).ravel(), :gen_T, :][:m_examples,:,:]\n",
    "Y2_classical = np.zeros(X2_classical.shape, dtype=np.int32)\n",
    "Y2_classical[:-1,:,:] = X2_classical[1:,:,:]\n",
    "Y2_jazz = np.zeros(X2_jazz.shape, dtype=np.int32)\n",
    "Y2_jazz[:-1,:,:] = X2_jazz[1:,:,:]"
   ]
  },
  {
   "cell_type": "markdown",
   "metadata": {},
   "source": [
    "Now we need to extract the features we will use to create the beautiful piece of music. "
   ]
  },
  {
   "cell_type": "code",
   "execution_count": 15,
   "metadata": {},
   "outputs": [
    {
     "data": {
      "text/plain": [
       "[<keras.layers.core.Flatten at 0x20e3fcfec50>,\n",
       " <keras.layers.core.Dense at 0x20e3fcb54a8>]"
      ]
     },
     "execution_count": 15,
     "metadata": {},
     "output_type": "execute_result"
    }
   ],
   "source": [
    "[m.layers[i] for i in [9, 10]]"
   ]
  },
  {
   "cell_type": "code",
   "execution_count": 16,
   "metadata": {},
   "outputs": [],
   "source": [
    "def extract_all_features(X, model, layer_nums, batch_num):\n",
    "    \"\"\"Extract all the features by taking out the activation output of the layers specified in layer_nums\n",
    "    \n",
    "        X : the data that we are trying to extract features from\n",
    "        model: the model that we are using to extract the features\n",
    "        layer_nums: the layer number that we want to use as feature extractors\n",
    "    \"\"\"\n",
    "    outputs = [model.layers[layer].output for layer in layer_nums]\n",
    "    f = keras.backend.function([model.input, keras.backend.learning_phase()], outputs)\n",
    "    ## split up into smaller chunks\n",
    "    layer_outs = []\n",
    "    m = X.shape[0]\n",
    "    for i in range(batch_num):\n",
    "        print((m // batch_num * i, m // batch_num * (i+1)))\n",
    "        layer_outs += [f([X[(m // batch_num * i):(m // batch_num * (i+1)), :, :], 0.])]\n",
    "    result = []\n",
    "    for i in range(len(layer_nums)):\n",
    "        layer_outs2 = []\n",
    "        for batch in range(batch_num):\n",
    "            activations = layer_outs[batch][i]\n",
    "            activations = activations.reshape(activations.shape[0], -1)\n",
    "            layer_outs2 += [activations]\n",
    "        result += [np.vstack(np.array(layer_outs2))]\n",
    "    return result"
   ]
  },
  {
   "cell_type": "code",
   "execution_count": 17,
   "metadata": {},
   "outputs": [
    {
     "name": "stdout",
     "output_type": "stream",
     "text": [
      "(0, 34)\n",
      "(34, 68)\n",
      "(68, 102)\n",
      "(102, 136)\n",
      "(136, 170)\n",
      "(170, 204)\n",
      "(204, 238)\n",
      "(238, 272)\n",
      "(272, 306)\n",
      "(306, 340)\n"
     ]
    }
   ],
   "source": [
    "classical_features = extract_all_features(X[(Y == 1).ravel(), :, :], m, [9, 10], 10)"
   ]
  },
  {
   "cell_type": "code",
   "execution_count": 18,
   "metadata": {},
   "outputs": [
    {
     "name": "stdout",
     "output_type": "stream",
     "text": [
      "(0, 34)\n",
      "(34, 68)\n",
      "(68, 102)\n",
      "(102, 136)\n",
      "(136, 170)\n",
      "(170, 204)\n",
      "(204, 238)\n",
      "(238, 272)\n",
      "(272, 306)\n",
      "(306, 340)\n"
     ]
    }
   ],
   "source": [
    "jazz_features = extract_all_features(X[(Y == 0).ravel(), :, :], m, [9, 10], 10)"
   ]
  },
  {
   "cell_type": "code",
   "execution_count": null,
   "metadata": {},
   "outputs": [],
   "source": [
    "jazz_features[1].shape"
   ]
  },
  {
   "cell_type": "markdown",
   "metadata": {},
   "source": [
    "The following code is inspired and borrowed from Coursera Sequence Model Module/Improvise a Jazz Solo with an LSTM Network - v3 programming assignment"
   ]
  },
  {
   "cell_type": "code",
   "execution_count": 20,
   "metadata": {},
   "outputs": [],
   "source": [
    "n_a = 64\n",
    "n_values = 260\n",
    "LSTM_cell = keras.layers.LSTM(n_a, return_state = True)\n",
    "densor = keras.layers.Dense(n_values, activation='softmax')"
   ]
  },
  {
   "cell_type": "code",
   "execution_count": 21,
   "metadata": {},
   "outputs": [],
   "source": [
    "def lstm(feature_shape, Tx, n_channel):\n",
    "    feature_input = keras.layers.Input(feature_shape, name='feature_inp')\n",
    "    music_input = keras.layers.Input((Tx, n_channel), name='X')\n",
    "    a0 = keras.layers.Input((n_a,), name='a0')\n",
    "    \n",
    "#     feature = keras.layers.Flatten()(feature_input)\n",
    "    c0 = keras.layers.Dense(n_a)(feature_input)\n",
    "    X = music_input\n",
    "    a = a0\n",
    "    c = c0\n",
    "    outputs = []\n",
    "    for t in range(Tx):\n",
    "        if t % 200 == 0:\n",
    "            print(t)\n",
    "        x = keras.layers.Lambda(lambda x: X[:, t, :])(X)\n",
    "        x = keras.layers.Reshape((1, n_channel))(x)\n",
    "        a, _, c = LSTM_cell(x, initial_state=[a, c])\n",
    "        out = densor(a)\n",
    "        outputs += [out]\n",
    "    return keras.models.Model(inputs=[feature_input, music_input, a0], outputs=outputs)\n",
    "    \n",
    "    "
   ]
  },
  {
   "cell_type": "code",
   "execution_count": 26,
   "metadata": {},
   "outputs": [
    {
     "name": "stdout",
     "output_type": "stream",
     "text": [
      "0\n"
     ]
    }
   ],
   "source": [
    "lstm_model = lstm((classical_features[1].shape[1], ), gen_T, X.shape[2])\n",
    "lstm_model.compile(optimizer='adam', loss='binary_crossentropy', metrics=['accuracy'])"
   ]
  },
  {
   "cell_type": "code",
   "execution_count": 25,
   "metadata": {},
   "outputs": [
    {
     "name": "stdout",
     "output_type": "stream",
     "text": [
      "Epoch 1/100\n",
      "340/340 [==============================] - 1s 3ms/step - loss: 444.6669 - dense_4_loss: 4.0145 - dense_4_acc: 0.0147 - dense_4_acc_1: 0.0029 - dense_4_acc_2: 0.0088 - dense_4_acc_3: 0.0029 - dense_4_acc_4: 0.0059 - dense_4_acc_5: 0.0000e+00 - dense_4_acc_6: 0.0000e+00 - dense_4_acc_7: 0.0000e+00 - dense_4_acc_8: 0.0059 - dense_4_acc_9: 0.0000e+00 - dense_4_acc_10: 0.0000e+00 - dense_4_acc_11: 0.0029 - dense_4_acc_12: 0.0000e+00 - dense_4_acc_13: 0.0000e+00 - dense_4_acc_14: 0.0000e+00 - dense_4_acc_15: 0.0000e+00 - dense_4_acc_16: 0.0618 - dense_4_acc_17: 0.0000e+00 - dense_4_acc_18: 0.0029 - dense_4_acc_19: 0.0088 - dense_4_acc_20: 0.0029 - dense_4_acc_21: 0.0029 - dense_4_acc_22: 0.0118 - dense_4_acc_23: 0.0029 - dense_4_acc_24: 0.0029 - dense_4_acc_25: 0.0059 - dense_4_acc_26: 0.0029 - dense_4_acc_27: 0.0029 - dense_4_acc_28: 0.0000e+00 - dense_4_acc_29: 0.0029                                          \n",
      "Epoch 2/100\n",
      "340/340 [==============================] - 1s 3ms/step - loss: 444.6609 - dense_4_loss: 4.0144 - dense_4_acc: 0.0294 - dense_4_acc_1: 0.0147 - dense_4_acc_2: 0.0088 - dense_4_acc_3: 0.0118 - dense_4_acc_4: 0.0118 - dense_4_acc_5: 0.0059 - dense_4_acc_6: 0.0235 - dense_4_acc_7: 0.0088 - dense_4_acc_8: 0.0088 - dense_4_acc_9: 0.0059 - dense_4_acc_10: 0.0059 - dense_4_acc_11: 0.0029 - dense_4_acc_12: 0.0088 - dense_4_acc_13: 0.0088 - dense_4_acc_14: 0.0118 - dense_4_acc_15: 0.0088 - dense_4_acc_16: 0.0794 - dense_4_acc_17: 0.0206 - dense_4_acc_18: 0.0088 - dense_4_acc_19: 0.0147 - dense_4_acc_20: 0.0000e+00 - dense_4_acc_21: 0.0059 - dense_4_acc_22: 0.0176 - dense_4_acc_23: 0.0088 - dense_4_acc_24: 0.0088 - dense_4_acc_25: 0.0147 - dense_4_acc_26: 0.0088 - dense_4_acc_27: 0.0088 - dense_4_acc_28: 0.0059 - dense_4_acc_29: 0.0206                                                                      \n",
      "Epoch 3/100\n",
      "340/340 [==============================] - 1s 3ms/step - loss: 444.6335 - dense_4_loss: 4.0135 - dense_4_acc: 0.0618 - dense_4_acc_1: 0.0235 - dense_4_acc_2: 0.0118 - dense_4_acc_3: 0.0176 - dense_4_acc_4: 0.0147 - dense_4_acc_5: 0.0176 - dense_4_acc_6: 0.0294 - dense_4_acc_7: 0.0235 - dense_4_acc_8: 0.0059 - dense_4_acc_9: 0.0088 - dense_4_acc_10: 0.0147 - dense_4_acc_11: 0.0088 - dense_4_acc_12: 0.0324 - dense_4_acc_13: 0.0118 - dense_4_acc_14: 0.0088 - dense_4_acc_15: 0.0118 - dense_4_acc_16: 0.1029 - dense_4_acc_17: 0.0324 - dense_4_acc_18: 0.0176 - dense_4_acc_19: 0.0206 - dense_4_acc_20: 0.0147 - dense_4_acc_21: 0.0059 - dense_4_acc_22: 0.0324 - dense_4_acc_23: 0.0176 - dense_4_acc_24: 0.0265 - dense_4_acc_25: 0.0353 - dense_4_acc_26: 0.0088 - dense_4_acc_27: 0.0118 - dense_4_acc_28: 0.0147 - dense_4_acc_29: 0.0294                                                          \n",
      "Epoch 4/100\n",
      "340/340 [==============================] - 1s 3ms/step - loss: 444.5390 - dense_4_loss: 4.0109 - dense_4_acc: 0.1206 - dense_4_acc_1: 0.0382 - dense_4_acc_2: 0.0088 - dense_4_acc_3: 0.0206 - dense_4_acc_4: 0.0147 - dense_4_acc_5: 0.0147 - dense_4_acc_6: 0.0294 - dense_4_acc_7: 0.0235 - dense_4_acc_8: 0.0029 - dense_4_acc_9: 0.0176 - dense_4_acc_10: 0.0147 - dense_4_acc_11: 0.0118 - dense_4_acc_12: 0.0265 - dense_4_acc_13: 0.0147 - dense_4_acc_14: 0.0088 - dense_4_acc_15: 0.0176 - dense_4_acc_16: 0.1088 - dense_4_acc_17: 0.0353 - dense_4_acc_18: 0.0176 - dense_4_acc_19: 0.0265 - dense_4_acc_20: 0.0206 - dense_4_acc_21: 0.0118 - dense_4_acc_22: 0.0265 - dense_4_acc_23: 0.0176 - dense_4_acc_24: 0.0265 - dense_4_acc_25: 0.0382 - dense_4_acc_26: 0.0088 - dense_4_acc_27: 0.0176 - dense_4_acc_28: 0.0176 - dense_4_acc_29: 0.0324                                                                      \n",
      "Epoch 5/100\n",
      "340/340 [==============================] - 1s 3ms/step - loss: 444.2882 - dense_4_loss: 3.9966 - dense_4_acc: 0.1206 - dense_4_acc_1: 0.0382 - dense_4_acc_2: 0.0059 - dense_4_acc_3: 0.0206 - dense_4_acc_4: 0.0147 - dense_4_acc_5: 0.0147 - dense_4_acc_6: 0.0294 - dense_4_acc_7: 0.0235 - dense_4_acc_8: 0.0029 - dense_4_acc_9: 0.0176 - dense_4_acc_10: 0.0147 - dense_4_acc_11: 0.0118 - dense_4_acc_12: 0.0265 - dense_4_acc_13: 0.0176 - dense_4_acc_14: 0.0088 - dense_4_acc_15: 0.0176 - dense_4_acc_16: 0.1000 - dense_4_acc_17: 0.0353 - dense_4_acc_18: 0.0176 - dense_4_acc_19: 0.0265 - dense_4_acc_20: 0.0206 - dense_4_acc_21: 0.0118 - dense_4_acc_22: 0.0265 - dense_4_acc_23: 0.0176 - dense_4_acc_24: 0.0265 - dense_4_acc_25: 0.0382 - dense_4_acc_26: 0.0088 - dense_4_acc_27: 0.0176 - dense_4_acc_28: 0.0176 - dense_4_acc_29: 0.0324                                      \n",
      "Epoch 6/100\n",
      "340/340 [==============================] - 1s 3ms/step - loss: 444.1089 - dense_4_loss: 3.9897 - dense_4_acc: 0.1206 - dense_4_acc_1: 0.0382 - dense_4_acc_2: 0.0059 - dense_4_acc_3: 0.0206 - dense_4_acc_4: 0.0147 - dense_4_acc_5: 0.0147 - dense_4_acc_6: 0.0294 - dense_4_acc_7: 0.0235 - dense_4_acc_8: 0.0029 - dense_4_acc_9: 0.0176 - dense_4_acc_10: 0.0147 - dense_4_acc_11: 0.0118 - dense_4_acc_12: 0.0265 - dense_4_acc_13: 0.0176 - dense_4_acc_14: 0.0088 - dense_4_acc_15: 0.0176 - dense_4_acc_16: 0.1059 - dense_4_acc_17: 0.0353 - dense_4_acc_18: 0.0176 - dense_4_acc_19: 0.0265 - dense_4_acc_20: 0.0206 - dense_4_acc_21: 0.0118 - dense_4_acc_22: 0.0265 - dense_4_acc_23: 0.0176 - dense_4_acc_24: 0.0265 - dense_4_acc_25: 0.0412 - dense_4_acc_26: 0.0088 - dense_4_acc_27: 0.0176 - dense_4_acc_28: 0.0176 - dense_4_acc_29: 0.0324                                      \n",
      "Epoch 7/100\n",
      "340/340 [==============================] - 1s 3ms/step - loss: 444.0220 - dense_4_loss: 3.9881 - dense_4_acc: 0.1206 - dense_4_acc_1: 0.0382 - dense_4_acc_2: 0.0059 - dense_4_acc_3: 0.0206 - dense_4_acc_4: 0.0147 - dense_4_acc_5: 0.0147 - dense_4_acc_6: 0.0294 - dense_4_acc_7: 0.0235 - dense_4_acc_8: 0.0029 - dense_4_acc_9: 0.0176 - dense_4_acc_10: 0.0147 - dense_4_acc_11: 0.0118 - dense_4_acc_12: 0.0265 - dense_4_acc_13: 0.0176 - dense_4_acc_14: 0.0088 - dense_4_acc_15: 0.0176 - dense_4_acc_16: 0.1059 - dense_4_acc_17: 0.0353 - dense_4_acc_18: 0.0176 - dense_4_acc_19: 0.0265 - dense_4_acc_20: 0.0206 - dense_4_acc_21: 0.0118 - dense_4_acc_22: 0.0265 - dense_4_acc_23: 0.0176 - dense_4_acc_24: 0.0265 - dense_4_acc_25: 0.0412 - dense_4_acc_26: 0.0088 - dense_4_acc_27: 0.0176 - dense_4_acc_28: 0.0176 - dense_4_acc_29: 0.0324                                              \n",
      "Epoch 8/100\n",
      "340/340 [==============================] - 1s 3ms/step - loss: 443.9773 - dense_4_loss: 3.9879 - dense_4_acc: 0.1206 - dense_4_acc_1: 0.0382 - dense_4_acc_2: 0.0059 - dense_4_acc_3: 0.0206 - dense_4_acc_4: 0.0147 - dense_4_acc_5: 0.0147 - dense_4_acc_6: 0.0294 - dense_4_acc_7: 0.0235 - dense_4_acc_8: 0.0029 - dense_4_acc_9: 0.0176 - dense_4_acc_10: 0.0147 - dense_4_acc_11: 0.0118 - dense_4_acc_12: 0.0265 - dense_4_acc_13: 0.0176 - dense_4_acc_14: 0.0088 - dense_4_acc_15: 0.0176 - dense_4_acc_16: 0.1059 - dense_4_acc_17: 0.0353 - dense_4_acc_18: 0.0176 - dense_4_acc_19: 0.0265 - dense_4_acc_20: 0.0206 - dense_4_acc_21: 0.0118 - dense_4_acc_22: 0.0265 - dense_4_acc_23: 0.0176 - dense_4_acc_24: 0.0265 - dense_4_acc_25: 0.0412 - dense_4_acc_26: 0.0088 - dense_4_acc_27: 0.0176 - dense_4_acc_28: 0.0176 - dense_4_acc_29: 0.0324                                                  \n",
      "Epoch 9/100\n",
      "340/340 [==============================] - 1s 3ms/step - loss: 443.9377 - dense_4_loss: 3.9880 - dense_4_acc: 0.1206 - dense_4_acc_1: 0.0382 - dense_4_acc_2: 0.0059 - dense_4_acc_3: 0.0206 - dense_4_acc_4: 0.0147 - dense_4_acc_5: 0.0147 - dense_4_acc_6: 0.0294 - dense_4_acc_7: 0.0235 - dense_4_acc_8: 0.0029 - dense_4_acc_9: 0.0176 - dense_4_acc_10: 0.0147 - dense_4_acc_11: 0.0118 - dense_4_acc_12: 0.0265 - dense_4_acc_13: 0.0176 - dense_4_acc_14: 0.0088 - dense_4_acc_15: 0.0176 - dense_4_acc_16: 0.1059 - dense_4_acc_17: 0.0353 - dense_4_acc_18: 0.0176 - dense_4_acc_19: 0.0265 - dense_4_acc_20: 0.0206 - dense_4_acc_21: 0.0118 - dense_4_acc_22: 0.0265 - dense_4_acc_23: 0.0176 - dense_4_acc_24: 0.0265 - dense_4_acc_25: 0.0382 - dense_4_acc_26: 0.0088 - dense_4_acc_27: 0.0176 - dense_4_acc_28: 0.0176 - dense_4_acc_29: 0.0324                                  \n",
      "Epoch 10/100\n",
      "340/340 [==============================] - 1s 3ms/step - loss: 443.9089 - dense_4_loss: 3.9890 - dense_4_acc: 0.1206 - dense_4_acc_1: 0.0382 - dense_4_acc_2: 0.0059 - dense_4_acc_3: 0.0206 - dense_4_acc_4: 0.0147 - dense_4_acc_5: 0.0147 - dense_4_acc_6: 0.0294 - dense_4_acc_7: 0.0235 - dense_4_acc_8: 0.0029 - dense_4_acc_9: 0.0176 - dense_4_acc_10: 0.0147 - dense_4_acc_11: 0.0118 - dense_4_acc_12: 0.0265 - dense_4_acc_13: 0.0176 - dense_4_acc_14: 0.0088 - dense_4_acc_15: 0.0176 - dense_4_acc_16: 0.1000 - dense_4_acc_17: 0.0353 - dense_4_acc_18: 0.0176 - dense_4_acc_19: 0.0265 - dense_4_acc_20: 0.0206 - dense_4_acc_21: 0.0118 - dense_4_acc_22: 0.0265 - dense_4_acc_23: 0.0176 - dense_4_acc_24: 0.0265 - dense_4_acc_25: 0.0382 - dense_4_acc_26: 0.0088 - dense_4_acc_27: 0.0176 - dense_4_acc_28: 0.0176 - dense_4_acc_29: 0.0324                          \n",
      "Epoch 11/100\n",
      "340/340 [==============================] - 1s 3ms/step - loss: 443.8600 - dense_4_loss: 3.9895 - dense_4_acc: 0.1206 - dense_4_acc_1: 0.0382 - dense_4_acc_2: 0.0059 - dense_4_acc_3: 0.0206 - dense_4_acc_4: 0.0147 - dense_4_acc_5: 0.0147 - dense_4_acc_6: 0.0294 - dense_4_acc_7: 0.0235 - dense_4_acc_8: 0.0029 - dense_4_acc_9: 0.0176 - dense_4_acc_10: 0.0147 - dense_4_acc_11: 0.0118 - dense_4_acc_12: 0.0265 - dense_4_acc_13: 0.0176 - dense_4_acc_14: 0.0088 - dense_4_acc_15: 0.0176 - dense_4_acc_16: 0.1118 - dense_4_acc_17: 0.0353 - dense_4_acc_18: 0.0176 - dense_4_acc_19: 0.0265 - dense_4_acc_20: 0.0206 - dense_4_acc_21: 0.0118 - dense_4_acc_22: 0.0265 - dense_4_acc_23: 0.0176 - dense_4_acc_24: 0.0265 - dense_4_acc_25: 0.0353 - dense_4_acc_26: 0.0088 - dense_4_acc_27: 0.0176 - dense_4_acc_28: 0.0176 - dense_4_acc_29: 0.0324                              \n",
      "Epoch 12/100\n",
      "340/340 [==============================] - 1s 3ms/step - loss: 443.8231 - dense_4_loss: 3.9907 - dense_4_acc: 0.1206 - dense_4_acc_1: 0.0382 - dense_4_acc_2: 0.0059 - dense_4_acc_3: 0.0206 - dense_4_acc_4: 0.0147 - dense_4_acc_5: 0.0147 - dense_4_acc_6: 0.0294 - dense_4_acc_7: 0.0235 - dense_4_acc_8: 0.0029 - dense_4_acc_9: 0.0176 - dense_4_acc_10: 0.0147 - dense_4_acc_11: 0.0118 - dense_4_acc_12: 0.0265 - dense_4_acc_13: 0.0176 - dense_4_acc_14: 0.0088 - dense_4_acc_15: 0.0176 - dense_4_acc_16: 0.1088 - dense_4_acc_17: 0.0353 - dense_4_acc_18: 0.0176 - dense_4_acc_19: 0.0265 - dense_4_acc_20: 0.0176 - dense_4_acc_21: 0.0118 - dense_4_acc_22: 0.0265 - dense_4_acc_23: 0.0176 - dense_4_acc_24: 0.0265 - dense_4_acc_25: 0.0353 - dense_4_acc_26: 0.0088 - dense_4_acc_27: 0.0176 - dense_4_acc_28: 0.0176 - dense_4_acc_29: 0.0324                                                  \n",
      "Epoch 13/100\n",
      "340/340 [==============================] - 1s 3ms/step - loss: 443.7933 - dense_4_loss: 3.9909 - dense_4_acc: 0.1206 - dense_4_acc_1: 0.0382 - dense_4_acc_2: 0.0059 - dense_4_acc_3: 0.0206 - dense_4_acc_4: 0.0147 - dense_4_acc_5: 0.0147 - dense_4_acc_6: 0.0294 - dense_4_acc_7: 0.0235 - dense_4_acc_8: 0.0029 - dense_4_acc_9: 0.0176 - dense_4_acc_10: 0.0147 - dense_4_acc_11: 0.0118 - dense_4_acc_12: 0.0235 - dense_4_acc_13: 0.0147 - dense_4_acc_14: 0.0088 - dense_4_acc_15: 0.0176 - dense_4_acc_16: 0.1176 - dense_4_acc_17: 0.0353 - dense_4_acc_18: 0.0118 - dense_4_acc_19: 0.0265 - dense_4_acc_20: 0.0147 - dense_4_acc_21: 0.0118 - dense_4_acc_22: 0.0206 - dense_4_acc_23: 0.0147 - dense_4_acc_24: 0.0206 - dense_4_acc_25: 0.0265 - dense_4_acc_26: 0.0059 - dense_4_acc_27: 0.0176 - dense_4_acc_28: 0.0176 - dense_4_acc_29: 0.0265               \n",
      "Epoch 14/100\n",
      "340/340 [==============================] - 1s 3ms/step - loss: 443.7752 - dense_4_loss: 3.9918 - dense_4_acc: 0.1206 - dense_4_acc_1: 0.0382 - dense_4_acc_2: 0.0059 - dense_4_acc_3: 0.0206 - dense_4_acc_4: 0.0147 - dense_4_acc_5: 0.0147 - dense_4_acc_6: 0.0294 - dense_4_acc_7: 0.0235 - dense_4_acc_8: 0.0029 - dense_4_acc_9: 0.0176 - dense_4_acc_10: 0.0088 - dense_4_acc_11: 0.0059 - dense_4_acc_12: 0.0206 - dense_4_acc_13: 0.0147 - dense_4_acc_14: 0.0059 - dense_4_acc_15: 0.0176 - dense_4_acc_16: 0.1147 - dense_4_acc_17: 0.0324 - dense_4_acc_18: 0.0118 - dense_4_acc_19: 0.0235 - dense_4_acc_20: 0.0147 - dense_4_acc_21: 0.0118 - dense_4_acc_22: 0.0206 - dense_4_acc_23: 0.0118 - dense_4_acc_24: 0.0206 - dense_4_acc_25: 0.0265 - dense_4_acc_26: 0.0059 - dense_4_acc_27: 0.0176 - dense_4_acc_28: 0.0176 - dense_4_acc_29: 0.0265                                                                          \n",
      "Epoch 15/100\n",
      "340/340 [==============================] - 1s 3ms/step - loss: 443.7680 - dense_4_loss: 3.9913 - dense_4_acc: 0.1206 - dense_4_acc_1: 0.0382 - dense_4_acc_2: 0.0059 - dense_4_acc_3: 0.0206 - dense_4_acc_4: 0.0147 - dense_4_acc_5: 0.0147 - dense_4_acc_6: 0.0294 - dense_4_acc_7: 0.0206 - dense_4_acc_8: 0.0029 - dense_4_acc_9: 0.0176 - dense_4_acc_10: 0.0147 - dense_4_acc_11: 0.0088 - dense_4_acc_12: 0.0206 - dense_4_acc_13: 0.0176 - dense_4_acc_14: 0.0088 - dense_4_acc_15: 0.0176 - dense_4_acc_16: 0.1118 - dense_4_acc_17: 0.0353 - dense_4_acc_18: 0.0147 - dense_4_acc_19: 0.0235 - dense_4_acc_20: 0.0147 - dense_4_acc_21: 0.0118 - dense_4_acc_22: 0.0265 - dense_4_acc_23: 0.0176 - dense_4_acc_24: 0.0206 - dense_4_acc_25: 0.0353 - dense_4_acc_26: 0.0059 - dense_4_acc_27: 0.0176 - dense_4_acc_28: 0.0176 - dense_4_acc_29: 0.0265                                                           \n",
      "Epoch 16/100\n",
      "340/340 [==============================] - 1s 3ms/step - loss: 443.7544 - dense_4_loss: 3.9924 - dense_4_acc: 0.1206 - dense_4_acc_1: 0.0382 - dense_4_acc_2: 0.0059 - dense_4_acc_3: 0.0206 - dense_4_acc_4: 0.0147 - dense_4_acc_5: 0.0147 - dense_4_acc_6: 0.0294 - dense_4_acc_7: 0.0235 - dense_4_acc_8: 0.0029 - dense_4_acc_9: 0.0176 - dense_4_acc_10: 0.0118 - dense_4_acc_11: 0.0059 - dense_4_acc_12: 0.0206 - dense_4_acc_13: 0.0147 - dense_4_acc_14: 0.0059 - dense_4_acc_15: 0.0176 - dense_4_acc_16: 0.1147 - dense_4_acc_17: 0.0353 - dense_4_acc_18: 0.0118 - dense_4_acc_19: 0.0235 - dense_4_acc_20: 0.0147 - dense_4_acc_21: 0.0088 - dense_4_acc_22: 0.0176 - dense_4_acc_23: 0.0147 - dense_4_acc_24: 0.0206 - dense_4_acc_25: 0.0235 - dense_4_acc_26: 0.0059 - dense_4_acc_27: 0.0176 - dense_4_acc_28: 0.0147 - dense_4_acc_29: 0.0235                                  \n",
      "Epoch 17/100\n",
      "340/340 [==============================] - 1s 3ms/step - loss: 443.7400 - dense_4_loss: 3.9920 - dense_4_acc: 0.1206 - dense_4_acc_1: 0.0382 - dense_4_acc_2: 0.0059 - dense_4_acc_3: 0.0206 - dense_4_acc_4: 0.0147 - dense_4_acc_5: 0.0147 - dense_4_acc_6: 0.0294 - dense_4_acc_7: 0.0235 - dense_4_acc_8: 0.0029 - dense_4_acc_9: 0.0176 - dense_4_acc_10: 0.0118 - dense_4_acc_11: 0.0059 - dense_4_acc_12: 0.0206 - dense_4_acc_13: 0.0147 - dense_4_acc_14: 0.0059 - dense_4_acc_15: 0.0176 - dense_4_acc_16: 0.1147 - dense_4_acc_17: 0.0353 - dense_4_acc_18: 0.0118 - dense_4_acc_19: 0.0235 - dense_4_acc_20: 0.0147 - dense_4_acc_21: 0.0118 - dense_4_acc_22: 0.0176 - dense_4_acc_23: 0.0147 - dense_4_acc_24: 0.0206 - dense_4_acc_25: 0.0206 - dense_4_acc_26: 0.0059 - dense_4_acc_27: 0.0176 - dense_4_acc_28: 0.0147 - dense_4_acc_29: 0.0235                                                  \n",
      "Epoch 18/100\n",
      "340/340 [==============================] - 1s 4ms/step - loss: 443.7286 - dense_4_loss: 3.9915 - dense_4_acc: 0.1206 - dense_4_acc_1: 0.0382 - dense_4_acc_2: 0.0059 - dense_4_acc_3: 0.0206 - dense_4_acc_4: 0.0147 - dense_4_acc_5: 0.0147 - dense_4_acc_6: 0.0294 - dense_4_acc_7: 0.0235 - dense_4_acc_8: 0.0029 - dense_4_acc_9: 0.0176 - dense_4_acc_10: 0.0118 - dense_4_acc_11: 0.0059 - dense_4_acc_12: 0.0206 - dense_4_acc_13: 0.0147 - dense_4_acc_14: 0.0059 - dense_4_acc_15: 0.0176 - dense_4_acc_16: 0.1147 - dense_4_acc_17: 0.0353 - dense_4_acc_18: 0.0118 - dense_4_acc_19: 0.0235 - dense_4_acc_20: 0.0147 - dense_4_acc_21: 0.0118 - dense_4_acc_22: 0.0206 - dense_4_acc_23: 0.0147 - dense_4_acc_24: 0.0206 - dense_4_acc_25: 0.0235 - dense_4_acc_26: 0.0059 - dense_4_acc_27: 0.0176 - dense_4_acc_28: 0.0147 - dense_4_acc_29: 0.0235                                                  \n",
      "Epoch 19/100\n"
     ]
    },
    {
     "name": "stdout",
     "output_type": "stream",
     "text": [
      "340/340 [==============================] - 1s 3ms/step - loss: 443.7214 - dense_4_loss: 3.9914 - dense_4_acc: 0.1206 - dense_4_acc_1: 0.0382 - dense_4_acc_2: 0.0059 - dense_4_acc_3: 0.0206 - dense_4_acc_4: 0.0147 - dense_4_acc_5: 0.0147 - dense_4_acc_6: 0.0294 - dense_4_acc_7: 0.0235 - dense_4_acc_8: 0.0029 - dense_4_acc_9: 0.0176 - dense_4_acc_10: 0.0147 - dense_4_acc_11: 0.0059 - dense_4_acc_12: 0.0235 - dense_4_acc_13: 0.0147 - dense_4_acc_14: 0.0059 - dense_4_acc_15: 0.0176 - dense_4_acc_16: 0.1147 - dense_4_acc_17: 0.0353 - dense_4_acc_18: 0.0118 - dense_4_acc_19: 0.0235 - dense_4_acc_20: 0.0147 - dense_4_acc_21: 0.0118 - dense_4_acc_22: 0.0206 - dense_4_acc_23: 0.0147 - dense_4_acc_24: 0.0206 - dense_4_acc_25: 0.0265 - dense_4_acc_26: 0.0059 - dense_4_acc_27: 0.0176 - dense_4_acc_28: 0.0176 - dense_4_acc_29: 0.0265                                                                \n",
      "Epoch 20/100\n",
      "340/340 [==============================] - 1s 4ms/step - loss: 443.7171 - dense_4_loss: 3.9917 - dense_4_acc: 0.1206 - dense_4_acc_1: 0.0382 - dense_4_acc_2: 0.0059 - dense_4_acc_3: 0.0206 - dense_4_acc_4: 0.0147 - dense_4_acc_5: 0.0147 - dense_4_acc_6: 0.0294 - dense_4_acc_7: 0.0235 - dense_4_acc_8: 0.0029 - dense_4_acc_9: 0.0176 - dense_4_acc_10: 0.0118 - dense_4_acc_11: 0.0059 - dense_4_acc_12: 0.0206 - dense_4_acc_13: 0.0147 - dense_4_acc_14: 0.0059 - dense_4_acc_15: 0.0176 - dense_4_acc_16: 0.1147 - dense_4_acc_17: 0.0353 - dense_4_acc_18: 0.0118 - dense_4_acc_19: 0.0235 - dense_4_acc_20: 0.0147 - dense_4_acc_21: 0.0118 - dense_4_acc_22: 0.0206 - dense_4_acc_23: 0.0147 - dense_4_acc_24: 0.0206 - dense_4_acc_25: 0.0235 - dense_4_acc_26: 0.0059 - dense_4_acc_27: 0.0176 - dense_4_acc_28: 0.0176 - dense_4_acc_29: 0.0265                  \n",
      "Epoch 21/100\n",
      "340/340 [==============================] - 1s 3ms/step - loss: 443.7100 - dense_4_loss: 3.9915 - dense_4_acc: 0.1206 - dense_4_acc_1: 0.0382 - dense_4_acc_2: 0.0059 - dense_4_acc_3: 0.0206 - dense_4_acc_4: 0.0147 - dense_4_acc_5: 0.0147 - dense_4_acc_6: 0.0294 - dense_4_acc_7: 0.0235 - dense_4_acc_8: 0.0029 - dense_4_acc_9: 0.0176 - dense_4_acc_10: 0.0118 - dense_4_acc_11: 0.0059 - dense_4_acc_12: 0.0206 - dense_4_acc_13: 0.0147 - dense_4_acc_14: 0.0059 - dense_4_acc_15: 0.0176 - dense_4_acc_16: 0.1147 - dense_4_acc_17: 0.0353 - dense_4_acc_18: 0.0118 - dense_4_acc_19: 0.0235 - dense_4_acc_20: 0.0147 - dense_4_acc_21: 0.0118 - dense_4_acc_22: 0.0206 - dense_4_acc_23: 0.0147 - dense_4_acc_24: 0.0206 - dense_4_acc_25: 0.0265 - dense_4_acc_26: 0.0059 - dense_4_acc_27: 0.0176 - dense_4_acc_28: 0.0176 - dense_4_acc_29: 0.0265                                              \n",
      "Epoch 22/100\n",
      "340/340 [==============================] - 1s 4ms/step - loss: 443.7119 - dense_4_loss: 3.9921 - dense_4_acc: 0.1206 - dense_4_acc_1: 0.0382 - dense_4_acc_2: 0.0059 - dense_4_acc_3: 0.0206 - dense_4_acc_4: 0.0147 - dense_4_acc_5: 0.0147 - dense_4_acc_6: 0.0294 - dense_4_acc_7: 0.0235 - dense_4_acc_8: 0.0029 - dense_4_acc_9: 0.0176 - dense_4_acc_10: 0.0118 - dense_4_acc_11: 0.0059 - dense_4_acc_12: 0.0206 - dense_4_acc_13: 0.0147 - dense_4_acc_14: 0.0059 - dense_4_acc_15: 0.0176 - dense_4_acc_16: 0.1147 - dense_4_acc_17: 0.0353 - dense_4_acc_18: 0.0118 - dense_4_acc_19: 0.0235 - dense_4_acc_20: 0.0147 - dense_4_acc_21: 0.0118 - dense_4_acc_22: 0.0206 - dense_4_acc_23: 0.0147 - dense_4_acc_24: 0.0206 - dense_4_acc_25: 0.0235 - dense_4_acc_26: 0.0059 - dense_4_acc_27: 0.0176 - dense_4_acc_28: 0.0206 - dense_4_acc_29: 0.0235                                                                                      \n",
      "Epoch 23/100\n",
      "340/340 [==============================] - 1s 3ms/step - loss: 443.7012 - dense_4_loss: 3.9906 - dense_4_acc: 0.1206 - dense_4_acc_1: 0.0382 - dense_4_acc_2: 0.0059 - dense_4_acc_3: 0.0206 - dense_4_acc_4: 0.0147 - dense_4_acc_5: 0.0147 - dense_4_acc_6: 0.0294 - dense_4_acc_7: 0.0206 - dense_4_acc_8: 0.0029 - dense_4_acc_9: 0.0176 - dense_4_acc_10: 0.0118 - dense_4_acc_11: 0.0059 - dense_4_acc_12: 0.0206 - dense_4_acc_13: 0.0147 - dense_4_acc_14: 0.0059 - dense_4_acc_15: 0.0176 - dense_4_acc_16: 0.1147 - dense_4_acc_17: 0.0353 - dense_4_acc_18: 0.0118 - dense_4_acc_19: 0.0235 - dense_4_acc_20: 0.0147 - dense_4_acc_21: 0.0118 - dense_4_acc_22: 0.0206 - dense_4_acc_23: 0.0147 - dense_4_acc_24: 0.0235 - dense_4_acc_25: 0.0294 - dense_4_acc_26: 0.0059 - dense_4_acc_27: 0.0176 - dense_4_acc_28: 0.0235 - dense_4_acc_29: 0.0294                                                   \n",
      "Epoch 24/100\n",
      "340/340 [==============================] - 1s 4ms/step - loss: 443.6967 - dense_4_loss: 3.9904 - dense_4_acc: 0.1206 - dense_4_acc_1: 0.0382 - dense_4_acc_2: 0.0059 - dense_4_acc_3: 0.0206 - dense_4_acc_4: 0.0147 - dense_4_acc_5: 0.0147 - dense_4_acc_6: 0.0294 - dense_4_acc_7: 0.0235 - dense_4_acc_8: 0.0029 - dense_4_acc_9: 0.0176 - dense_4_acc_10: 0.0147 - dense_4_acc_11: 0.0059 - dense_4_acc_12: 0.0206 - dense_4_acc_13: 0.0147 - dense_4_acc_14: 0.0059 - dense_4_acc_15: 0.0176 - dense_4_acc_16: 0.1176 - dense_4_acc_17: 0.0353 - dense_4_acc_18: 0.0118 - dense_4_acc_19: 0.0235 - dense_4_acc_20: 0.0147 - dense_4_acc_21: 0.0118 - dense_4_acc_22: 0.0206 - dense_4_acc_23: 0.0147 - dense_4_acc_24: 0.0235 - dense_4_acc_25: 0.0294 - dense_4_acc_26: 0.0059 - dense_4_acc_27: 0.0176 - dense_4_acc_28: 0.0235 - dense_4_acc_29: 0.0294                                          \n",
      "Epoch 25/100\n",
      "340/340 [==============================] - 1s 3ms/step - loss: 443.6889 - dense_4_loss: 3.9899 - dense_4_acc: 0.1206 - dense_4_acc_1: 0.0382 - dense_4_acc_2: 0.0059 - dense_4_acc_3: 0.0206 - dense_4_acc_4: 0.0147 - dense_4_acc_5: 0.0147 - dense_4_acc_6: 0.0294 - dense_4_acc_7: 0.0235 - dense_4_acc_8: 0.0029 - dense_4_acc_9: 0.0176 - dense_4_acc_10: 0.0147 - dense_4_acc_11: 0.0118 - dense_4_acc_12: 0.0235 - dense_4_acc_13: 0.0147 - dense_4_acc_14: 0.0059 - dense_4_acc_15: 0.0176 - dense_4_acc_16: 0.1206 - dense_4_acc_17: 0.0353 - dense_4_acc_18: 0.0118 - dense_4_acc_19: 0.0235 - dense_4_acc_20: 0.0147 - dense_4_acc_21: 0.0118 - dense_4_acc_22: 0.0206 - dense_4_acc_23: 0.0147 - dense_4_acc_24: 0.0235 - dense_4_acc_25: 0.0294 - dense_4_acc_26: 0.0059 - dense_4_acc_27: 0.0176 - dense_4_acc_28: 0.0235 - dense_4_acc_29: 0.0294                                                  \n",
      "Epoch 26/100\n",
      "340/340 [==============================] - 1s 3ms/step - loss: 443.6849 - dense_4_loss: 3.9894 - dense_4_acc: 0.1206 - dense_4_acc_1: 0.0382 - dense_4_acc_2: 0.0059 - dense_4_acc_3: 0.0206 - dense_4_acc_4: 0.0147 - dense_4_acc_5: 0.0147 - dense_4_acc_6: 0.0294 - dense_4_acc_7: 0.0235 - dense_4_acc_8: 0.0029 - dense_4_acc_9: 0.0176 - dense_4_acc_10: 0.0118 - dense_4_acc_11: 0.0059 - dense_4_acc_12: 0.0235 - dense_4_acc_13: 0.0147 - dense_4_acc_14: 0.0059 - dense_4_acc_15: 0.0176 - dense_4_acc_16: 0.1206 - dense_4_acc_17: 0.0353 - dense_4_acc_18: 0.0118 - dense_4_acc_19: 0.0235 - dense_4_acc_20: 0.0147 - dense_4_acc_21: 0.0118 - dense_4_acc_22: 0.0206 - dense_4_acc_23: 0.0147 - dense_4_acc_24: 0.0235 - dense_4_acc_25: 0.0294 - dense_4_acc_26: 0.0059 - dense_4_acc_27: 0.0176 - dense_4_acc_28: 0.0235 - dense_4_acc_29: 0.0294                                   \n",
      "Epoch 27/100\n",
      "340/340 [==============================] - 1s 3ms/step - loss: 443.6805 - dense_4_loss: 3.9887 - dense_4_acc: 0.1206 - dense_4_acc_1: 0.0382 - dense_4_acc_2: 0.0059 - dense_4_acc_3: 0.0206 - dense_4_acc_4: 0.0147 - dense_4_acc_5: 0.0147 - dense_4_acc_6: 0.0294 - dense_4_acc_7: 0.0235 - dense_4_acc_8: 0.0029 - dense_4_acc_9: 0.0176 - dense_4_acc_10: 0.0147 - dense_4_acc_11: 0.0118 - dense_4_acc_12: 0.0235 - dense_4_acc_13: 0.0147 - dense_4_acc_14: 0.0059 - dense_4_acc_15: 0.0176 - dense_4_acc_16: 0.1235 - dense_4_acc_17: 0.0353 - dense_4_acc_18: 0.0118 - dense_4_acc_19: 0.0235 - dense_4_acc_20: 0.0147 - dense_4_acc_21: 0.0118 - dense_4_acc_22: 0.0176 - dense_4_acc_23: 0.0147 - dense_4_acc_24: 0.0265 - dense_4_acc_25: 0.0294 - dense_4_acc_26: 0.0059 - dense_4_acc_27: 0.0176 - dense_4_acc_28: 0.0235 - dense_4_acc_29: 0.0294              \n",
      "Epoch 28/100\n",
      "340/340 [==============================] - 1s 3ms/step - loss: 443.7008 - dense_4_loss: 3.9916 - dense_4_acc: 0.1206 - dense_4_acc_1: 0.0382 - dense_4_acc_2: 0.0059 - dense_4_acc_3: 0.0206 - dense_4_acc_4: 0.0147 - dense_4_acc_5: 0.0147 - dense_4_acc_6: 0.0235 - dense_4_acc_7: 0.0206 - dense_4_acc_8: 0.0029 - dense_4_acc_9: 0.0176 - dense_4_acc_10: 0.0088 - dense_4_acc_11: 0.0059 - dense_4_acc_12: 0.0206 - dense_4_acc_13: 0.0147 - dense_4_acc_14: 0.0059 - dense_4_acc_15: 0.0176 - dense_4_acc_16: 0.1206 - dense_4_acc_17: 0.0353 - dense_4_acc_18: 0.0118 - dense_4_acc_19: 0.0235 - dense_4_acc_20: 0.0147 - dense_4_acc_21: 0.0118 - dense_4_acc_22: 0.0206 - dense_4_acc_23: 0.0147 - dense_4_acc_24: 0.0265 - dense_4_acc_25: 0.0206 - dense_4_acc_26: 0.0059 - dense_4_acc_27: 0.0176 - dense_4_acc_28: 0.0206 - dense_4_acc_29: 0.0265                          \n",
      "Epoch 29/100\n",
      "340/340 [==============================] - 1s 3ms/step - loss: 443.6922 - dense_4_loss: 3.9913 - dense_4_acc: 0.1206 - dense_4_acc_1: 0.0382 - dense_4_acc_2: 0.0059 - dense_4_acc_3: 0.0206 - dense_4_acc_4: 0.0147 - dense_4_acc_5: 0.0147 - dense_4_acc_6: 0.0265 - dense_4_acc_7: 0.0206 - dense_4_acc_8: 0.0029 - dense_4_acc_9: 0.0176 - dense_4_acc_10: 0.0118 - dense_4_acc_11: 0.0059 - dense_4_acc_12: 0.0206 - dense_4_acc_13: 0.0147 - dense_4_acc_14: 0.0059 - dense_4_acc_15: 0.0176 - dense_4_acc_16: 0.1206 - dense_4_acc_17: 0.0353 - dense_4_acc_18: 0.0118 - dense_4_acc_19: 0.0265 - dense_4_acc_20: 0.0147 - dense_4_acc_21: 0.0118 - dense_4_acc_22: 0.0206 - dense_4_acc_23: 0.0147 - dense_4_acc_24: 0.0294 - dense_4_acc_25: 0.0324 - dense_4_acc_26: 0.0059 - dense_4_acc_27: 0.0176 - dense_4_acc_28: 0.0235 - dense_4_acc_29: 0.0294                          \n",
      "Epoch 30/100\n",
      "340/340 [==============================] - 1s 4ms/step - loss: 443.6796 - dense_4_loss: 3.9891 - dense_4_acc: 0.1206 - dense_4_acc_1: 0.0382 - dense_4_acc_2: 0.0059 - dense_4_acc_3: 0.0206 - dense_4_acc_4: 0.0147 - dense_4_acc_5: 0.0147 - dense_4_acc_6: 0.0294 - dense_4_acc_7: 0.0235 - dense_4_acc_8: 0.0029 - dense_4_acc_9: 0.0176 - dense_4_acc_10: 0.0118 - dense_4_acc_11: 0.0059 - dense_4_acc_12: 0.0206 - dense_4_acc_13: 0.0147 - dense_4_acc_14: 0.0088 - dense_4_acc_15: 0.0176 - dense_4_acc_16: 0.1206 - dense_4_acc_17: 0.0353 - dense_4_acc_18: 0.0118 - dense_4_acc_19: 0.0265 - dense_4_acc_20: 0.0147 - dense_4_acc_21: 0.0118 - dense_4_acc_22: 0.0206 - dense_4_acc_23: 0.0147 - dense_4_acc_24: 0.0294 - dense_4_acc_25: 0.0324 - dense_4_acc_26: 0.0059 - dense_4_acc_27: 0.0176 - dense_4_acc_28: 0.0235 - dense_4_acc_29: 0.0294                                          \n",
      "Epoch 31/100\n",
      "340/340 [==============================] - 1s 3ms/step - loss: 443.6813 - dense_4_loss: 3.9887 - dense_4_acc: 0.1206 - dense_4_acc_1: 0.0382 - dense_4_acc_2: 0.0059 - dense_4_acc_3: 0.0206 - dense_4_acc_4: 0.0147 - dense_4_acc_5: 0.0147 - dense_4_acc_6: 0.0294 - dense_4_acc_7: 0.0235 - dense_4_acc_8: 0.0029 - dense_4_acc_9: 0.0176 - dense_4_acc_10: 0.0147 - dense_4_acc_11: 0.0118 - dense_4_acc_12: 0.0235 - dense_4_acc_13: 0.0147 - dense_4_acc_14: 0.0088 - dense_4_acc_15: 0.0176 - dense_4_acc_16: 0.1235 - dense_4_acc_17: 0.0353 - dense_4_acc_18: 0.0118 - dense_4_acc_19: 0.0265 - dense_4_acc_20: 0.0147 - dense_4_acc_21: 0.0118 - dense_4_acc_22: 0.0206 - dense_4_acc_23: 0.0147 - dense_4_acc_24: 0.0294 - dense_4_acc_25: 0.0324 - dense_4_acc_26: 0.0059 - dense_4_acc_27: 0.0176 - dense_4_acc_28: 0.0235 - dense_4_acc_29: 0.0294                                                      \n",
      "Epoch 32/100\n",
      "340/340 [==============================] - 1s 4ms/step - loss: 443.6828 - dense_4_loss: 3.9904 - dense_4_acc: 0.1206 - dense_4_acc_1: 0.0382 - dense_4_acc_2: 0.0059 - dense_4_acc_3: 0.0206 - dense_4_acc_4: 0.0147 - dense_4_acc_5: 0.0147 - dense_4_acc_6: 0.0235 - dense_4_acc_7: 0.0206 - dense_4_acc_8: 0.0029 - dense_4_acc_9: 0.0176 - dense_4_acc_10: 0.0118 - dense_4_acc_11: 0.0059 - dense_4_acc_12: 0.0206 - dense_4_acc_13: 0.0147 - dense_4_acc_14: 0.0088 - dense_4_acc_15: 0.0176 - dense_4_acc_16: 0.1176 - dense_4_acc_17: 0.0353 - dense_4_acc_18: 0.0118 - dense_4_acc_19: 0.0235 - dense_4_acc_20: 0.0147 - dense_4_acc_21: 0.0118 - dense_4_acc_22: 0.0206 - dense_4_acc_23: 0.0147 - dense_4_acc_24: 0.0294 - dense_4_acc_25: 0.0294 - dense_4_acc_26: 0.0088 - dense_4_acc_27: 0.0176 - dense_4_acc_28: 0.0235 - dense_4_acc_29: 0.0294      \n",
      "Epoch 33/100\n",
      "340/340 [==============================] - 1s 4ms/step - loss: 443.6749 - dense_4_loss: 3.9901 - dense_4_acc: 0.1206 - dense_4_acc_1: 0.0382 - dense_4_acc_2: 0.0059 - dense_4_acc_3: 0.0206 - dense_4_acc_4: 0.0147 - dense_4_acc_5: 0.0147 - dense_4_acc_6: 0.0265 - dense_4_acc_7: 0.0206 - dense_4_acc_8: 0.0029 - dense_4_acc_9: 0.0176 - dense_4_acc_10: 0.0118 - dense_4_acc_11: 0.0059 - dense_4_acc_12: 0.0206 - dense_4_acc_13: 0.0147 - dense_4_acc_14: 0.0088 - dense_4_acc_15: 0.0176 - dense_4_acc_16: 0.1176 - dense_4_acc_17: 0.0353 - dense_4_acc_18: 0.0118 - dense_4_acc_19: 0.0235 - dense_4_acc_20: 0.0147 - dense_4_acc_21: 0.0118 - dense_4_acc_22: 0.0206 - dense_4_acc_23: 0.0147 - dense_4_acc_24: 0.0294 - dense_4_acc_25: 0.0324 - dense_4_acc_26: 0.0118 - dense_4_acc_27: 0.0176 - dense_4_acc_28: 0.0235 - dense_4_acc_29: 0.0294                                                               \n",
      "Epoch 34/100\n",
      "340/340 [==============================] - 1s 3ms/step - loss: 443.6714 - dense_4_loss: 3.9894 - dense_4_acc: 0.1206 - dense_4_acc_1: 0.0382 - dense_4_acc_2: 0.0059 - dense_4_acc_3: 0.0206 - dense_4_acc_4: 0.0147 - dense_4_acc_5: 0.0147 - dense_4_acc_6: 0.0294 - dense_4_acc_7: 0.0235 - dense_4_acc_8: 0.0029 - dense_4_acc_9: 0.0176 - dense_4_acc_10: 0.0118 - dense_4_acc_11: 0.0059 - dense_4_acc_12: 0.0206 - dense_4_acc_13: 0.0147 - dense_4_acc_14: 0.0088 - dense_4_acc_15: 0.0176 - dense_4_acc_16: 0.1235 - dense_4_acc_17: 0.0353 - dense_4_acc_18: 0.0118 - dense_4_acc_19: 0.0265 - dense_4_acc_20: 0.0147 - dense_4_acc_21: 0.0118 - dense_4_acc_22: 0.0235 - dense_4_acc_23: 0.0147 - dense_4_acc_24: 0.0294 - dense_4_acc_25: 0.0324 - dense_4_acc_26: 0.0147 - dense_4_acc_27: 0.0176 - dense_4_acc_28: 0.0235 - dense_4_acc_29: 0.0294                                                                   \n",
      "Epoch 35/100\n",
      "340/340 [==============================] - 1s 4ms/step - loss: 443.6645 - dense_4_loss: 3.9889 - dense_4_acc: 0.1206 - dense_4_acc_1: 0.0382 - dense_4_acc_2: 0.0059 - dense_4_acc_3: 0.0206 - dense_4_acc_4: 0.0147 - dense_4_acc_5: 0.0147 - dense_4_acc_6: 0.0294 - dense_4_acc_7: 0.0235 - dense_4_acc_8: 0.0029 - dense_4_acc_9: 0.0176 - dense_4_acc_10: 0.0118 - dense_4_acc_11: 0.0059 - dense_4_acc_12: 0.0206 - dense_4_acc_13: 0.0147 - dense_4_acc_14: 0.0088 - dense_4_acc_15: 0.0176 - dense_4_acc_16: 0.1206 - dense_4_acc_17: 0.0353 - dense_4_acc_18: 0.0118 - dense_4_acc_19: 0.0265 - dense_4_acc_20: 0.0147 - dense_4_acc_21: 0.0118 - dense_4_acc_22: 0.0235 - dense_4_acc_23: 0.0147 - dense_4_acc_24: 0.0294 - dense_4_acc_25: 0.0353 - dense_4_acc_26: 0.0147 - dense_4_acc_27: 0.0176 - dense_4_acc_28: 0.0235 - dense_4_acc_29: 0.0294\n",
      "Epoch 36/100\n",
      "340/340 [==============================] - 1s 4ms/step - loss: 443.6585 - dense_4_loss: 3.9885 - dense_4_acc: 0.1206 - dense_4_acc_1: 0.0382 - dense_4_acc_2: 0.0059 - dense_4_acc_3: 0.0206 - dense_4_acc_4: 0.0147 - dense_4_acc_5: 0.0147 - dense_4_acc_6: 0.0294 - dense_4_acc_7: 0.0235 - dense_4_acc_8: 0.0029 - dense_4_acc_9: 0.0176 - dense_4_acc_10: 0.0147 - dense_4_acc_11: 0.0059 - dense_4_acc_12: 0.0206 - dense_4_acc_13: 0.0147 - dense_4_acc_14: 0.0088 - dense_4_acc_15: 0.0176 - dense_4_acc_16: 0.1206 - dense_4_acc_17: 0.0353 - dense_4_acc_18: 0.0118 - dense_4_acc_19: 0.0265 - dense_4_acc_20: 0.0147 - dense_4_acc_21: 0.0118 - dense_4_acc_22: 0.0235 - dense_4_acc_23: 0.0147 - dense_4_acc_24: 0.0294 - dense_4_acc_25: 0.0353 - dense_4_acc_26: 0.0147 - dense_4_acc_27: 0.0206 - dense_4_acc_28: 0.0235 - dense_4_acc_29: 0.0294\n",
      "Epoch 37/100\n"
     ]
    },
    {
     "name": "stdout",
     "output_type": "stream",
     "text": [
      "340/340 [==============================] - 1s 4ms/step - loss: 443.6531 - dense_4_loss: 3.9882 - dense_4_acc: 0.1206 - dense_4_acc_1: 0.0382 - dense_4_acc_2: 0.0059 - dense_4_acc_3: 0.0206 - dense_4_acc_4: 0.0147 - dense_4_acc_5: 0.0147 - dense_4_acc_6: 0.0294 - dense_4_acc_7: 0.0235 - dense_4_acc_8: 0.0029 - dense_4_acc_9: 0.0176 - dense_4_acc_10: 0.0147 - dense_4_acc_11: 0.0059 - dense_4_acc_12: 0.0206 - dense_4_acc_13: 0.0147 - dense_4_acc_14: 0.0088 - dense_4_acc_15: 0.0176 - dense_4_acc_16: 0.1206 - dense_4_acc_17: 0.0353 - dense_4_acc_18: 0.0118 - dense_4_acc_19: 0.0235 - dense_4_acc_20: 0.0147 - dense_4_acc_21: 0.0118 - dense_4_acc_22: 0.0235 - dense_4_acc_23: 0.0147 - dense_4_acc_24: 0.0294 - dense_4_acc_25: 0.0324 - dense_4_acc_26: 0.0147 - dense_4_acc_27: 0.0206 - dense_4_acc_28: 0.0235 - dense_4_acc_29: 0.0294                              \n",
      "Epoch 38/100\n",
      "340/340 [==============================] - 1s 3ms/step - loss: 443.6510 - dense_4_loss: 3.9878 - dense_4_acc: 0.1206 - dense_4_acc_1: 0.0382 - dense_4_acc_2: 0.0059 - dense_4_acc_3: 0.0206 - dense_4_acc_4: 0.0147 - dense_4_acc_5: 0.0147 - dense_4_acc_6: 0.0294 - dense_4_acc_7: 0.0235 - dense_4_acc_8: 0.0029 - dense_4_acc_9: 0.0176 - dense_4_acc_10: 0.0147 - dense_4_acc_11: 0.0059 - dense_4_acc_12: 0.0206 - dense_4_acc_13: 0.0147 - dense_4_acc_14: 0.0088 - dense_4_acc_15: 0.0176 - dense_4_acc_16: 0.1265 - dense_4_acc_17: 0.0353 - dense_4_acc_18: 0.0118 - dense_4_acc_19: 0.0265 - dense_4_acc_20: 0.0147 - dense_4_acc_21: 0.0118 - dense_4_acc_22: 0.0235 - dense_4_acc_23: 0.0147 - dense_4_acc_24: 0.0294 - dense_4_acc_25: 0.0324 - dense_4_acc_26: 0.0147 - dense_4_acc_27: 0.0206 - dense_4_acc_28: 0.0235 - dense_4_acc_29: 0.0294                                      \n",
      "Epoch 39/100\n",
      "340/340 [==============================] - 1s 3ms/step - loss: 443.6452 - dense_4_loss: 3.9879 - dense_4_acc: 0.1206 - dense_4_acc_1: 0.0382 - dense_4_acc_2: 0.0059 - dense_4_acc_3: 0.0206 - dense_4_acc_4: 0.0147 - dense_4_acc_5: 0.0147 - dense_4_acc_6: 0.0294 - dense_4_acc_7: 0.0235 - dense_4_acc_8: 0.0059 - dense_4_acc_9: 0.0176 - dense_4_acc_10: 0.0147 - dense_4_acc_11: 0.0059 - dense_4_acc_12: 0.0235 - dense_4_acc_13: 0.0147 - dense_4_acc_14: 0.0088 - dense_4_acc_15: 0.0176 - dense_4_acc_16: 0.1206 - dense_4_acc_17: 0.0353 - dense_4_acc_18: 0.0118 - dense_4_acc_19: 0.0265 - dense_4_acc_20: 0.0147 - dense_4_acc_21: 0.0118 - dense_4_acc_22: 0.0265 - dense_4_acc_23: 0.0147 - dense_4_acc_24: 0.0294 - dense_4_acc_25: 0.0324 - dense_4_acc_26: 0.0147 - dense_4_acc_27: 0.0176 - dense_4_acc_28: 0.0235 - dense_4_acc_29: 0.0294                                            \n",
      "Epoch 40/100\n",
      "340/340 [==============================] - 1s 4ms/step - loss: 443.6447 - dense_4_loss: 3.9877 - dense_4_acc: 0.1206 - dense_4_acc_1: 0.0382 - dense_4_acc_2: 0.0059 - dense_4_acc_3: 0.0206 - dense_4_acc_4: 0.0147 - dense_4_acc_5: 0.0147 - dense_4_acc_6: 0.0294 - dense_4_acc_7: 0.0235 - dense_4_acc_8: 0.0059 - dense_4_acc_9: 0.0176 - dense_4_acc_10: 0.0176 - dense_4_acc_11: 0.0059 - dense_4_acc_12: 0.0265 - dense_4_acc_13: 0.0147 - dense_4_acc_14: 0.0088 - dense_4_acc_15: 0.0176 - dense_4_acc_16: 0.1235 - dense_4_acc_17: 0.0353 - dense_4_acc_18: 0.0118 - dense_4_acc_19: 0.0265 - dense_4_acc_20: 0.0147 - dense_4_acc_21: 0.0118 - dense_4_acc_22: 0.0265 - dense_4_acc_23: 0.0147 - dense_4_acc_24: 0.0294 - dense_4_acc_25: 0.0324 - dense_4_acc_26: 0.0147 - dense_4_acc_27: 0.0176 - dense_4_acc_28: 0.0265 - dense_4_acc_29: 0.0294                              \n",
      "Epoch 41/100\n",
      "340/340 [==============================] - 1s 4ms/step - loss: 443.6357 - dense_4_loss: 3.9877 - dense_4_acc: 0.1206 - dense_4_acc_1: 0.0382 - dense_4_acc_2: 0.0059 - dense_4_acc_3: 0.0206 - dense_4_acc_4: 0.0147 - dense_4_acc_5: 0.0147 - dense_4_acc_6: 0.0294 - dense_4_acc_7: 0.0235 - dense_4_acc_8: 0.0059 - dense_4_acc_9: 0.0176 - dense_4_acc_10: 0.0176 - dense_4_acc_11: 0.0088 - dense_4_acc_12: 0.0265 - dense_4_acc_13: 0.0147 - dense_4_acc_14: 0.0088 - dense_4_acc_15: 0.0176 - dense_4_acc_16: 0.1265 - dense_4_acc_17: 0.0382 - dense_4_acc_18: 0.0147 - dense_4_acc_19: 0.0265 - dense_4_acc_20: 0.0147 - dense_4_acc_21: 0.0118 - dense_4_acc_22: 0.0265 - dense_4_acc_23: 0.0147 - dense_4_acc_24: 0.0294 - dense_4_acc_25: 0.0353 - dense_4_acc_26: 0.0176 - dense_4_acc_27: 0.0176 - dense_4_acc_28: 0.0265 - dense_4_acc_29: 0.0294                                                              \n",
      "Epoch 42/100\n",
      "340/340 [==============================] - 1s 4ms/step - loss: 443.6305 - dense_4_loss: 3.9878 - dense_4_acc: 0.1206 - dense_4_acc_1: 0.0382 - dense_4_acc_2: 0.0059 - dense_4_acc_3: 0.0235 - dense_4_acc_4: 0.0176 - dense_4_acc_5: 0.0147 - dense_4_acc_6: 0.0294 - dense_4_acc_7: 0.0235 - dense_4_acc_8: 0.0059 - dense_4_acc_9: 0.0176 - dense_4_acc_10: 0.0176 - dense_4_acc_11: 0.0118 - dense_4_acc_12: 0.0265 - dense_4_acc_13: 0.0147 - dense_4_acc_14: 0.0088 - dense_4_acc_15: 0.0176 - dense_4_acc_16: 0.1294 - dense_4_acc_17: 0.0382 - dense_4_acc_18: 0.0147 - dense_4_acc_19: 0.0265 - dense_4_acc_20: 0.0147 - dense_4_acc_21: 0.0118 - dense_4_acc_22: 0.0324 - dense_4_acc_23: 0.0147 - dense_4_acc_24: 0.0294 - dense_4_acc_25: 0.0353 - dense_4_acc_26: 0.0206 - dense_4_acc_27: 0.0176 - dense_4_acc_28: 0.0265 - dense_4_acc_29: 0.0294                                                          \n",
      "Epoch 43/100\n",
      "340/340 [==============================] - 1s 4ms/step - loss: 443.6262 - dense_4_loss: 3.9878 - dense_4_acc: 0.1206 - dense_4_acc_1: 0.0382 - dense_4_acc_2: 0.0059 - dense_4_acc_3: 0.0235 - dense_4_acc_4: 0.0176 - dense_4_acc_5: 0.0147 - dense_4_acc_6: 0.0294 - dense_4_acc_7: 0.0235 - dense_4_acc_8: 0.0059 - dense_4_acc_9: 0.0176 - dense_4_acc_10: 0.0147 - dense_4_acc_11: 0.0059 - dense_4_acc_12: 0.0235 - dense_4_acc_13: 0.0176 - dense_4_acc_14: 0.0088 - dense_4_acc_15: 0.0176 - dense_4_acc_16: 0.1294 - dense_4_acc_17: 0.0382 - dense_4_acc_18: 0.0147 - dense_4_acc_19: 0.0265 - dense_4_acc_20: 0.0147 - dense_4_acc_21: 0.0118 - dense_4_acc_22: 0.0324 - dense_4_acc_23: 0.0147 - dense_4_acc_24: 0.0294 - dense_4_acc_25: 0.0324 - dense_4_acc_26: 0.0235 - dense_4_acc_27: 0.0176 - dense_4_acc_28: 0.0265 - dense_4_acc_29: 0.0294              \n",
      "Epoch 44/100\n",
      "340/340 [==============================] - 1s 3ms/step - loss: 443.6178 - dense_4_loss: 3.9876 - dense_4_acc: 0.1206 - dense_4_acc_1: 0.0382 - dense_4_acc_2: 0.0059 - dense_4_acc_3: 0.0235 - dense_4_acc_4: 0.0206 - dense_4_acc_5: 0.0147 - dense_4_acc_6: 0.0324 - dense_4_acc_7: 0.0235 - dense_4_acc_8: 0.0059 - dense_4_acc_9: 0.0176 - dense_4_acc_10: 0.0206 - dense_4_acc_11: 0.0118 - dense_4_acc_12: 0.0265 - dense_4_acc_13: 0.0176 - dense_4_acc_14: 0.0088 - dense_4_acc_15: 0.0176 - dense_4_acc_16: 0.1382 - dense_4_acc_17: 0.0382 - dense_4_acc_18: 0.0206 - dense_4_acc_19: 0.0265 - dense_4_acc_20: 0.0147 - dense_4_acc_21: 0.0118 - dense_4_acc_22: 0.0324 - dense_4_acc_23: 0.0176 - dense_4_acc_24: 0.0294 - dense_4_acc_25: 0.0353 - dense_4_acc_26: 0.0235 - dense_4_acc_27: 0.0176 - dense_4_acc_28: 0.0265 - dense_4_acc_29: 0.0294                                              \n",
      "Epoch 45/100\n",
      "340/340 [==============================] - 1s 4ms/step - loss: 443.6158 - dense_4_loss: 3.9875 - dense_4_acc: 0.1206 - dense_4_acc_1: 0.0382 - dense_4_acc_2: 0.0088 - dense_4_acc_3: 0.0235 - dense_4_acc_4: 0.0206 - dense_4_acc_5: 0.0147 - dense_4_acc_6: 0.0324 - dense_4_acc_7: 0.0235 - dense_4_acc_8: 0.0059 - dense_4_acc_9: 0.0176 - dense_4_acc_10: 0.0176 - dense_4_acc_11: 0.0059 - dense_4_acc_12: 0.0235 - dense_4_acc_13: 0.0176 - dense_4_acc_14: 0.0088 - dense_4_acc_15: 0.0176 - dense_4_acc_16: 0.1324 - dense_4_acc_17: 0.0382 - dense_4_acc_18: 0.0206 - dense_4_acc_19: 0.0265 - dense_4_acc_20: 0.0147 - dense_4_acc_21: 0.0118 - dense_4_acc_22: 0.0324 - dense_4_acc_23: 0.0206 - dense_4_acc_24: 0.0294 - dense_4_acc_25: 0.0324 - dense_4_acc_26: 0.0235 - dense_4_acc_27: 0.0176 - dense_4_acc_28: 0.0265 - dense_4_acc_29: 0.0294                              \n",
      "Epoch 46/100\n",
      "340/340 [==============================] - 1s 4ms/step - loss: 443.6053 - dense_4_loss: 3.9873 - dense_4_acc: 0.1206 - dense_4_acc_1: 0.0382 - dense_4_acc_2: 0.0088 - dense_4_acc_3: 0.0235 - dense_4_acc_4: 0.0206 - dense_4_acc_5: 0.0147 - dense_4_acc_6: 0.0324 - dense_4_acc_7: 0.0235 - dense_4_acc_8: 0.0059 - dense_4_acc_9: 0.0176 - dense_4_acc_10: 0.0235 - dense_4_acc_11: 0.0088 - dense_4_acc_12: 0.0265 - dense_4_acc_13: 0.0176 - dense_4_acc_14: 0.0088 - dense_4_acc_15: 0.0176 - dense_4_acc_16: 0.1382 - dense_4_acc_17: 0.0382 - dense_4_acc_18: 0.0206 - dense_4_acc_19: 0.0265 - dense_4_acc_20: 0.0147 - dense_4_acc_21: 0.0118 - dense_4_acc_22: 0.0324 - dense_4_acc_23: 0.0206 - dense_4_acc_24: 0.0294 - dense_4_acc_25: 0.0353 - dense_4_acc_26: 0.0235 - dense_4_acc_27: 0.0176 - dense_4_acc_28: 0.0265 - dense_4_acc_29: 0.0294                 - ETA: 0s - loss: 532.8395 - dense_4_loss: 4.0255 - dense_4_acc: 0.1367 - dense_4_acc_1: 0.0352 - dense_4_acc_2: 0.0078 - dense_4_acc_3: 0.0312 - dense_4_acc_4: 0.0234 - dense_4_acc_5: 0.0195 - dense_4_acc_6: 0.0391 - dense_4_acc_7: 0.0234 - dense_4_acc_8: 0.0078 - dense_4_acc_9: 0.0234 - dense_4_acc_10: 0.0312 - dense_4_acc_11: 0.0117 - dense_4_acc_12: 0.0312 - dense_4_acc_13: 0.0195 - dense_4_acc_14: 0.0117 - dense_4_acc_15: 0.0234 - dense_4_acc_16: 0.1562 - dense_4_acc_17: 0.0391 - dense_4_acc_18: 0.0273 - dense_4_acc_19: 0.0312 - dense_4_acc_20: 0.0156 - dense_4_acc_21: 0.0156 - dense_4_acc_22: 0.0391 - dense_4_acc_23: 0.0234 - dense_4_acc_24: 0.0312 - dense_4_acc_25: 0.0352 - dense_4_acc_26: 0.0273 - dense_4_acc_27: 0.0195 - dense_4_acc_28: 0.0273 - dense_4_acc_29: \n",
      "Epoch 47/100\n",
      "340/340 [==============================] - 1s 4ms/step - loss: 443.6048 - dense_4_loss: 3.9870 - dense_4_acc: 0.1206 - dense_4_acc_1: 0.0382 - dense_4_acc_2: 0.0088 - dense_4_acc_3: 0.0235 - dense_4_acc_4: 0.0206 - dense_4_acc_5: 0.0147 - dense_4_acc_6: 0.0324 - dense_4_acc_7: 0.0235 - dense_4_acc_8: 0.0059 - dense_4_acc_9: 0.0176 - dense_4_acc_10: 0.0206 - dense_4_acc_11: 0.0088 - dense_4_acc_12: 0.0235 - dense_4_acc_13: 0.0176 - dense_4_acc_14: 0.0088 - dense_4_acc_15: 0.0176 - dense_4_acc_16: 0.1353 - dense_4_acc_17: 0.0382 - dense_4_acc_18: 0.0206 - dense_4_acc_19: 0.0265 - dense_4_acc_20: 0.0147 - dense_4_acc_21: 0.0118 - dense_4_acc_22: 0.0324 - dense_4_acc_23: 0.0206 - dense_4_acc_24: 0.0294 - dense_4_acc_25: 0.0353 - dense_4_acc_26: 0.0235 - dense_4_acc_27: 0.0176 - dense_4_acc_28: 0.0265 - dense_4_acc_29: 0.0294                                              \n",
      "Epoch 48/100\n",
      "340/340 [==============================] - 1s 4ms/step - loss: 443.5940 - dense_4_loss: 3.9871 - dense_4_acc: 0.1206 - dense_4_acc_1: 0.0382 - dense_4_acc_2: 0.0088 - dense_4_acc_3: 0.0235 - dense_4_acc_4: 0.0206 - dense_4_acc_5: 0.0147 - dense_4_acc_6: 0.0324 - dense_4_acc_7: 0.0265 - dense_4_acc_8: 0.0059 - dense_4_acc_9: 0.0176 - dense_4_acc_10: 0.0265 - dense_4_acc_11: 0.0059 - dense_4_acc_12: 0.0294 - dense_4_acc_13: 0.0176 - dense_4_acc_14: 0.0088 - dense_4_acc_15: 0.0176 - dense_4_acc_16: 0.1382 - dense_4_acc_17: 0.0382 - dense_4_acc_18: 0.0206 - dense_4_acc_19: 0.0265 - dense_4_acc_20: 0.0147 - dense_4_acc_21: 0.0118 - dense_4_acc_22: 0.0324 - dense_4_acc_23: 0.0206 - dense_4_acc_24: 0.0294 - dense_4_acc_25: 0.0324 - dense_4_acc_26: 0.0235 - dense_4_acc_27: 0.0176 - dense_4_acc_28: 0.0265 - dense_4_acc_29: 0.0294                                  \n",
      "Epoch 49/100\n",
      "340/340 [==============================] - 1s 3ms/step - loss: 443.5961 - dense_4_loss: 3.9880 - dense_4_acc: 0.1206 - dense_4_acc_1: 0.0382 - dense_4_acc_2: 0.0088 - dense_4_acc_3: 0.0235 - dense_4_acc_4: 0.0206 - dense_4_acc_5: 0.0147 - dense_4_acc_6: 0.0324 - dense_4_acc_7: 0.0265 - dense_4_acc_8: 0.0059 - dense_4_acc_9: 0.0176 - dense_4_acc_10: 0.0235 - dense_4_acc_11: 0.0059 - dense_4_acc_12: 0.0265 - dense_4_acc_13: 0.0176 - dense_4_acc_14: 0.0088 - dense_4_acc_15: 0.0176 - dense_4_acc_16: 0.1324 - dense_4_acc_17: 0.0382 - dense_4_acc_18: 0.0206 - dense_4_acc_19: 0.0265 - dense_4_acc_20: 0.0147 - dense_4_acc_21: 0.0118 - dense_4_acc_22: 0.0324 - dense_4_acc_23: 0.0206 - dense_4_acc_24: 0.0294 - dense_4_acc_25: 0.0353 - dense_4_acc_26: 0.0265 - dense_4_acc_27: 0.0176 - dense_4_acc_28: 0.0265 - dense_4_acc_29: 0.0294                                                  \n",
      "Epoch 50/100\n",
      "340/340 [==============================] - 1s 4ms/step - loss: 443.5797 - dense_4_loss: 3.9867 - dense_4_acc: 0.1206 - dense_4_acc_1: 0.0382 - dense_4_acc_2: 0.0088 - dense_4_acc_3: 0.0235 - dense_4_acc_4: 0.0206 - dense_4_acc_5: 0.0147 - dense_4_acc_6: 0.0324 - dense_4_acc_7: 0.0265 - dense_4_acc_8: 0.0059 - dense_4_acc_9: 0.0176 - dense_4_acc_10: 0.0265 - dense_4_acc_11: 0.0059 - dense_4_acc_12: 0.0265 - dense_4_acc_13: 0.0176 - dense_4_acc_14: 0.0088 - dense_4_acc_15: 0.0176 - dense_4_acc_16: 0.1382 - dense_4_acc_17: 0.0412 - dense_4_acc_18: 0.0206 - dense_4_acc_19: 0.0265 - dense_4_acc_20: 0.0147 - dense_4_acc_21: 0.0118 - dense_4_acc_22: 0.0324 - dense_4_acc_23: 0.0206 - dense_4_acc_24: 0.0324 - dense_4_acc_25: 0.0353 - dense_4_acc_26: 0.0265 - dense_4_acc_27: 0.0176 - dense_4_acc_28: 0.0265 - dense_4_acc_29: 0.0294                            \n",
      "Epoch 51/100\n",
      "340/340 [==============================] - 1s 4ms/step - loss: 443.5733 - dense_4_loss: 3.9867 - dense_4_acc: 0.1206 - dense_4_acc_1: 0.0382 - dense_4_acc_2: 0.0088 - dense_4_acc_3: 0.0235 - dense_4_acc_4: 0.0206 - dense_4_acc_5: 0.0147 - dense_4_acc_6: 0.0324 - dense_4_acc_7: 0.0265 - dense_4_acc_8: 0.0088 - dense_4_acc_9: 0.0176 - dense_4_acc_10: 0.0265 - dense_4_acc_11: 0.0088 - dense_4_acc_12: 0.0294 - dense_4_acc_13: 0.0176 - dense_4_acc_14: 0.0088 - dense_4_acc_15: 0.0176 - dense_4_acc_16: 0.1353 - dense_4_acc_17: 0.0412 - dense_4_acc_18: 0.0206 - dense_4_acc_19: 0.0265 - dense_4_acc_20: 0.0176 - dense_4_acc_21: 0.0118 - dense_4_acc_22: 0.0324 - dense_4_acc_23: 0.0206 - dense_4_acc_24: 0.0324 - dense_4_acc_25: 0.0353 - dense_4_acc_26: 0.0265 - dense_4_acc_27: 0.0176 - dense_4_acc_28: 0.0265 - dense_4_acc_29: 0.0294                                                  \n",
      "Epoch 52/100\n",
      "340/340 [==============================] - 1s 4ms/step - loss: 443.5668 - dense_4_loss: 3.9866 - dense_4_acc: 0.1206 - dense_4_acc_1: 0.0382 - dense_4_acc_2: 0.0088 - dense_4_acc_3: 0.0235 - dense_4_acc_4: 0.0206 - dense_4_acc_5: 0.0147 - dense_4_acc_6: 0.0324 - dense_4_acc_7: 0.0265 - dense_4_acc_8: 0.0118 - dense_4_acc_9: 0.0176 - dense_4_acc_10: 0.0265 - dense_4_acc_11: 0.0118 - dense_4_acc_12: 0.0324 - dense_4_acc_13: 0.0176 - dense_4_acc_14: 0.0088 - dense_4_acc_15: 0.0176 - dense_4_acc_16: 0.1412 - dense_4_acc_17: 0.0412 - dense_4_acc_18: 0.0206 - dense_4_acc_19: 0.0265 - dense_4_acc_20: 0.0176 - dense_4_acc_21: 0.0118 - dense_4_acc_22: 0.0353 - dense_4_acc_23: 0.0206 - dense_4_acc_24: 0.0324 - dense_4_acc_25: 0.0353 - dense_4_acc_26: 0.0265 - dense_4_acc_27: 0.0206 - dense_4_acc_28: 0.0265 - dense_4_acc_29: 0.0294                                                  \n",
      "Epoch 53/100\n",
      "340/340 [==============================] - 1s 4ms/step - loss: 443.5616 - dense_4_loss: 3.9863 - dense_4_acc: 0.1206 - dense_4_acc_1: 0.0382 - dense_4_acc_2: 0.0088 - dense_4_acc_3: 0.0235 - dense_4_acc_4: 0.0206 - dense_4_acc_5: 0.0147 - dense_4_acc_6: 0.0353 - dense_4_acc_7: 0.0265 - dense_4_acc_8: 0.0147 - dense_4_acc_9: 0.0176 - dense_4_acc_10: 0.0265 - dense_4_acc_11: 0.0118 - dense_4_acc_12: 0.0324 - dense_4_acc_13: 0.0206 - dense_4_acc_14: 0.0088 - dense_4_acc_15: 0.0176 - dense_4_acc_16: 0.1412 - dense_4_acc_17: 0.0412 - dense_4_acc_18: 0.0235 - dense_4_acc_19: 0.0265 - dense_4_acc_20: 0.0176 - dense_4_acc_21: 0.0118 - dense_4_acc_22: 0.0353 - dense_4_acc_23: 0.0206 - dense_4_acc_24: 0.0324 - dense_4_acc_25: 0.0353 - dense_4_acc_26: 0.0265 - dense_4_acc_27: 0.0206 - dense_4_acc_28: 0.0265 - dense_4_acc_29: 0.0294              \n",
      "Epoch 54/100\n"
     ]
    },
    {
     "name": "stdout",
     "output_type": "stream",
     "text": [
      "340/340 [==============================] - 1s 4ms/step - loss: 443.5559 - dense_4_loss: 3.9859 - dense_4_acc: 0.1206 - dense_4_acc_1: 0.0382 - dense_4_acc_2: 0.0088 - dense_4_acc_3: 0.0235 - dense_4_acc_4: 0.0206 - dense_4_acc_5: 0.0147 - dense_4_acc_6: 0.0382 - dense_4_acc_7: 0.0265 - dense_4_acc_8: 0.0147 - dense_4_acc_9: 0.0176 - dense_4_acc_10: 0.0265 - dense_4_acc_11: 0.0088 - dense_4_acc_12: 0.0265 - dense_4_acc_13: 0.0176 - dense_4_acc_14: 0.0088 - dense_4_acc_15: 0.0176 - dense_4_acc_16: 0.1353 - dense_4_acc_17: 0.0412 - dense_4_acc_18: 0.0206 - dense_4_acc_19: 0.0265 - dense_4_acc_20: 0.0176 - dense_4_acc_21: 0.0118 - dense_4_acc_22: 0.0353 - dense_4_acc_23: 0.0235 - dense_4_acc_24: 0.0324 - dense_4_acc_25: 0.0353 - dense_4_acc_26: 0.0265 - dense_4_acc_27: 0.0206 - dense_4_acc_28: 0.0265 - dense_4_acc_29: 0.0294                                                          \n",
      "Epoch 55/100\n",
      "340/340 [==============================] - 1s 4ms/step - loss: 443.5533 - dense_4_loss: 3.9859 - dense_4_acc: 0.1206 - dense_4_acc_1: 0.0382 - dense_4_acc_2: 0.0088 - dense_4_acc_3: 0.0235 - dense_4_acc_4: 0.0235 - dense_4_acc_5: 0.0147 - dense_4_acc_6: 0.0382 - dense_4_acc_7: 0.0265 - dense_4_acc_8: 0.0147 - dense_4_acc_9: 0.0176 - dense_4_acc_10: 0.0265 - dense_4_acc_11: 0.0088 - dense_4_acc_12: 0.0294 - dense_4_acc_13: 0.0176 - dense_4_acc_14: 0.0088 - dense_4_acc_15: 0.0176 - dense_4_acc_16: 0.1412 - dense_4_acc_17: 0.0412 - dense_4_acc_18: 0.0206 - dense_4_acc_19: 0.0265 - dense_4_acc_20: 0.0176 - dense_4_acc_21: 0.0118 - dense_4_acc_22: 0.0382 - dense_4_acc_23: 0.0235 - dense_4_acc_24: 0.0324 - dense_4_acc_25: 0.0382 - dense_4_acc_26: 0.0265 - dense_4_acc_27: 0.0206 - dense_4_acc_28: 0.0265 - dense_4_acc_29: 0.0324                                      \n",
      "Epoch 56/100\n",
      "340/340 [==============================] - 1s 4ms/step - loss: 443.5420 - dense_4_loss: 3.9855 - dense_4_acc: 0.1235 - dense_4_acc_1: 0.0382 - dense_4_acc_2: 0.0088 - dense_4_acc_3: 0.0235 - dense_4_acc_4: 0.0235 - dense_4_acc_5: 0.0147 - dense_4_acc_6: 0.0382 - dense_4_acc_7: 0.0265 - dense_4_acc_8: 0.0147 - dense_4_acc_9: 0.0176 - dense_4_acc_10: 0.0265 - dense_4_acc_11: 0.0088 - dense_4_acc_12: 0.0294 - dense_4_acc_13: 0.0176 - dense_4_acc_14: 0.0088 - dense_4_acc_15: 0.0176 - dense_4_acc_16: 0.1353 - dense_4_acc_17: 0.0412 - dense_4_acc_18: 0.0235 - dense_4_acc_19: 0.0265 - dense_4_acc_20: 0.0176 - dense_4_acc_21: 0.0118 - dense_4_acc_22: 0.0412 - dense_4_acc_23: 0.0235 - dense_4_acc_24: 0.0324 - dense_4_acc_25: 0.0353 - dense_4_acc_26: 0.0265 - dense_4_acc_27: 0.0206 - dense_4_acc_28: 0.0265 - dense_4_acc_29: 0.0294                              \n",
      "Epoch 57/100\n",
      "340/340 [==============================] - 1s 4ms/step - loss: 443.5426 - dense_4_loss: 3.9852 - dense_4_acc: 0.1235 - dense_4_acc_1: 0.0382 - dense_4_acc_2: 0.0118 - dense_4_acc_3: 0.0235 - dense_4_acc_4: 0.0235 - dense_4_acc_5: 0.0147 - dense_4_acc_6: 0.0382 - dense_4_acc_7: 0.0265 - dense_4_acc_8: 0.0147 - dense_4_acc_9: 0.0176 - dense_4_acc_10: 0.0265 - dense_4_acc_11: 0.0118 - dense_4_acc_12: 0.0294 - dense_4_acc_13: 0.0176 - dense_4_acc_14: 0.0088 - dense_4_acc_15: 0.0176 - dense_4_acc_16: 0.1412 - dense_4_acc_17: 0.0412 - dense_4_acc_18: 0.0235 - dense_4_acc_19: 0.0265 - dense_4_acc_20: 0.0176 - dense_4_acc_21: 0.0118 - dense_4_acc_22: 0.0412 - dense_4_acc_23: 0.0265 - dense_4_acc_24: 0.0353 - dense_4_acc_25: 0.0382 - dense_4_acc_26: 0.0294 - dense_4_acc_27: 0.0206 - dense_4_acc_28: 0.0265 - dense_4_acc_29: 0.0324\n",
      "Epoch 58/100\n",
      "340/340 [==============================] - 1s 4ms/step - loss: 443.5305 - dense_4_loss: 3.9851 - dense_4_acc: 0.1235 - dense_4_acc_1: 0.0382 - dense_4_acc_2: 0.0118 - dense_4_acc_3: 0.0235 - dense_4_acc_4: 0.0235 - dense_4_acc_5: 0.0147 - dense_4_acc_6: 0.0382 - dense_4_acc_7: 0.0265 - dense_4_acc_8: 0.0176 - dense_4_acc_9: 0.0176 - dense_4_acc_10: 0.0265 - dense_4_acc_11: 0.0118 - dense_4_acc_12: 0.0324 - dense_4_acc_13: 0.0176 - dense_4_acc_14: 0.0088 - dense_4_acc_15: 0.0176 - dense_4_acc_16: 0.1412 - dense_4_acc_17: 0.0412 - dense_4_acc_18: 0.0235 - dense_4_acc_19: 0.0265 - dense_4_acc_20: 0.0176 - dense_4_acc_21: 0.0118 - dense_4_acc_22: 0.0412 - dense_4_acc_23: 0.0235 - dense_4_acc_24: 0.0324 - dense_4_acc_25: 0.0353 - dense_4_acc_26: 0.0265 - dense_4_acc_27: 0.0235 - dense_4_acc_28: 0.0265 - dense_4_acc_29: 0.0324              \n",
      "Epoch 59/100\n",
      "340/340 [==============================] - 1s 4ms/step - loss: 443.5239 - dense_4_loss: 3.9851 - dense_4_acc: 0.1235 - dense_4_acc_1: 0.0382 - dense_4_acc_2: 0.0118 - dense_4_acc_3: 0.0235 - dense_4_acc_4: 0.0235 - dense_4_acc_5: 0.0147 - dense_4_acc_6: 0.0382 - dense_4_acc_7: 0.0265 - dense_4_acc_8: 0.0176 - dense_4_acc_9: 0.0176 - dense_4_acc_10: 0.0265 - dense_4_acc_11: 0.0118 - dense_4_acc_12: 0.0353 - dense_4_acc_13: 0.0176 - dense_4_acc_14: 0.0088 - dense_4_acc_15: 0.0176 - dense_4_acc_16: 0.1441 - dense_4_acc_17: 0.0412 - dense_4_acc_18: 0.0235 - dense_4_acc_19: 0.0265 - dense_4_acc_20: 0.0176 - dense_4_acc_21: 0.0118 - dense_4_acc_22: 0.0412 - dense_4_acc_23: 0.0265 - dense_4_acc_24: 0.0353 - dense_4_acc_25: 0.0441 - dense_4_acc_26: 0.0265 - dense_4_acc_27: 0.0235 - dense_4_acc_28: 0.0294 - dense_4_acc_29: 0.0294                                              \n",
      "Epoch 60/100\n",
      "340/340 [==============================] - 1s 4ms/step - loss: 443.5238 - dense_4_loss: 3.9852 - dense_4_acc: 0.1235 - dense_4_acc_1: 0.0382 - dense_4_acc_2: 0.0118 - dense_4_acc_3: 0.0235 - dense_4_acc_4: 0.0235 - dense_4_acc_5: 0.0147 - dense_4_acc_6: 0.0382 - dense_4_acc_7: 0.0265 - dense_4_acc_8: 0.0176 - dense_4_acc_9: 0.0176 - dense_4_acc_10: 0.0265 - dense_4_acc_11: 0.0088 - dense_4_acc_12: 0.0412 - dense_4_acc_13: 0.0176 - dense_4_acc_14: 0.0118 - dense_4_acc_15: 0.0176 - dense_4_acc_16: 0.1412 - dense_4_acc_17: 0.0412 - dense_4_acc_18: 0.0235 - dense_4_acc_19: 0.0265 - dense_4_acc_20: 0.0176 - dense_4_acc_21: 0.0118 - dense_4_acc_22: 0.0412 - dense_4_acc_23: 0.0235 - dense_4_acc_24: 0.0353 - dense_4_acc_25: 0.0382 - dense_4_acc_26: 0.0265 - dense_4_acc_27: 0.0235 - dense_4_acc_28: 0.0324 - dense_4_acc_29: 0.0294                      \n",
      "Epoch 61/100\n",
      "340/340 [==============================] - 1s 4ms/step - loss: 443.5150 - dense_4_loss: 3.9850 - dense_4_acc: 0.1235 - dense_4_acc_1: 0.0382 - dense_4_acc_2: 0.0118 - dense_4_acc_3: 0.0235 - dense_4_acc_4: 0.0235 - dense_4_acc_5: 0.0147 - dense_4_acc_6: 0.0382 - dense_4_acc_7: 0.0265 - dense_4_acc_8: 0.0206 - dense_4_acc_9: 0.0206 - dense_4_acc_10: 0.0265 - dense_4_acc_11: 0.0059 - dense_4_acc_12: 0.0412 - dense_4_acc_13: 0.0176 - dense_4_acc_14: 0.0088 - dense_4_acc_15: 0.0176 - dense_4_acc_16: 0.1412 - dense_4_acc_17: 0.0412 - dense_4_acc_18: 0.0235 - dense_4_acc_19: 0.0265 - dense_4_acc_20: 0.0235 - dense_4_acc_21: 0.0147 - dense_4_acc_22: 0.0412 - dense_4_acc_23: 0.0265 - dense_4_acc_24: 0.0441 - dense_4_acc_25: 0.0441 - dense_4_acc_26: 0.0294 - dense_4_acc_27: 0.0235 - dense_4_acc_28: 0.0324 - dense_4_acc_29: 0.0324                                  \n",
      "Epoch 62/100\n",
      "340/340 [==============================] - 1s 4ms/step - loss: 443.5049 - dense_4_loss: 3.9847 - dense_4_acc: 0.1235 - dense_4_acc_1: 0.0382 - dense_4_acc_2: 0.0118 - dense_4_acc_3: 0.0235 - dense_4_acc_4: 0.0235 - dense_4_acc_5: 0.0147 - dense_4_acc_6: 0.0382 - dense_4_acc_7: 0.0265 - dense_4_acc_8: 0.0206 - dense_4_acc_9: 0.0206 - dense_4_acc_10: 0.0265 - dense_4_acc_11: 0.0118 - dense_4_acc_12: 0.0412 - dense_4_acc_13: 0.0176 - dense_4_acc_14: 0.0088 - dense_4_acc_15: 0.0176 - dense_4_acc_16: 0.1353 - dense_4_acc_17: 0.0412 - dense_4_acc_18: 0.0265 - dense_4_acc_19: 0.0265 - dense_4_acc_20: 0.0235 - dense_4_acc_21: 0.0147 - dense_4_acc_22: 0.0412 - dense_4_acc_23: 0.0294 - dense_4_acc_24: 0.0471 - dense_4_acc_25: 0.0471 - dense_4_acc_26: 0.0294 - dense_4_acc_27: 0.0235 - dense_4_acc_28: 0.0324 - dense_4_acc_29: 0.0324            \n",
      "Epoch 63/100\n",
      "340/340 [==============================] - 1s 4ms/step - loss: 443.4962 - dense_4_loss: 3.9847 - dense_4_acc: 0.1235 - dense_4_acc_1: 0.0382 - dense_4_acc_2: 0.0118 - dense_4_acc_3: 0.0235 - dense_4_acc_4: 0.0235 - dense_4_acc_5: 0.0147 - dense_4_acc_6: 0.0382 - dense_4_acc_7: 0.0265 - dense_4_acc_8: 0.0206 - dense_4_acc_9: 0.0206 - dense_4_acc_10: 0.0265 - dense_4_acc_11: 0.0118 - dense_4_acc_12: 0.0441 - dense_4_acc_13: 0.0176 - dense_4_acc_14: 0.0088 - dense_4_acc_15: 0.0176 - dense_4_acc_16: 0.1471 - dense_4_acc_17: 0.0412 - dense_4_acc_18: 0.0265 - dense_4_acc_19: 0.0265 - dense_4_acc_20: 0.0265 - dense_4_acc_21: 0.0147 - dense_4_acc_22: 0.0500 - dense_4_acc_23: 0.0294 - dense_4_acc_24: 0.0471 - dense_4_acc_25: 0.0471 - dense_4_acc_26: 0.0294 - dense_4_acc_27: 0.0235 - dense_4_acc_28: 0.0324 - dense_4_acc_29: 0.0324\n",
      "Epoch 64/100\n",
      "340/340 [==============================] - 1s 4ms/step - loss: 443.5066 - dense_4_loss: 3.9850 - dense_4_acc: 0.1235 - dense_4_acc_1: 0.0382 - dense_4_acc_2: 0.0118 - dense_4_acc_3: 0.0235 - dense_4_acc_4: 0.0235 - dense_4_acc_5: 0.0147 - dense_4_acc_6: 0.0382 - dense_4_acc_7: 0.0265 - dense_4_acc_8: 0.0206 - dense_4_acc_9: 0.0206 - dense_4_acc_10: 0.0265 - dense_4_acc_11: 0.0118 - dense_4_acc_12: 0.0412 - dense_4_acc_13: 0.0176 - dense_4_acc_14: 0.0118 - dense_4_acc_15: 0.0206 - dense_4_acc_16: 0.1412 - dense_4_acc_17: 0.0412 - dense_4_acc_18: 0.0265 - dense_4_acc_19: 0.0235 - dense_4_acc_20: 0.0265 - dense_4_acc_21: 0.0147 - dense_4_acc_22: 0.0441 - dense_4_acc_23: 0.0265 - dense_4_acc_24: 0.0441 - dense_4_acc_25: 0.0500 - dense_4_acc_26: 0.0294 - dense_4_acc_27: 0.0235 - dense_4_acc_28: 0.0382 - dense_4_acc_29: 0.0294                      \n",
      "Epoch 65/100\n",
      "340/340 [==============================] - 1s 4ms/step - loss: 443.4966 - dense_4_loss: 3.9847 - dense_4_acc: 0.1235 - dense_4_acc_1: 0.0382 - dense_4_acc_2: 0.0118 - dense_4_acc_3: 0.0235 - dense_4_acc_4: 0.0235 - dense_4_acc_5: 0.0147 - dense_4_acc_6: 0.0382 - dense_4_acc_7: 0.0265 - dense_4_acc_8: 0.0206 - dense_4_acc_9: 0.0206 - dense_4_acc_10: 0.0265 - dense_4_acc_11: 0.0088 - dense_4_acc_12: 0.0441 - dense_4_acc_13: 0.0176 - dense_4_acc_14: 0.0088 - dense_4_acc_15: 0.0206 - dense_4_acc_16: 0.1353 - dense_4_acc_17: 0.0412 - dense_4_acc_18: 0.0265 - dense_4_acc_19: 0.0265 - dense_4_acc_20: 0.0294 - dense_4_acc_21: 0.0147 - dense_4_acc_22: 0.0412 - dense_4_acc_23: 0.0324 - dense_4_acc_24: 0.0471 - dense_4_acc_25: 0.0500 - dense_4_acc_26: 0.0265 - dense_4_acc_27: 0.0235 - dense_4_acc_28: 0.0382 - dense_4_acc_29: 0.0324   \n",
      "Epoch 66/100\n",
      "340/340 [==============================] - 1s 4ms/step - loss: 443.4900 - dense_4_loss: 3.9845 - dense_4_acc: 0.1235 - dense_4_acc_1: 0.0382 - dense_4_acc_2: 0.0118 - dense_4_acc_3: 0.0235 - dense_4_acc_4: 0.0235 - dense_4_acc_5: 0.0147 - dense_4_acc_6: 0.0382 - dense_4_acc_7: 0.0265 - dense_4_acc_8: 0.0206 - dense_4_acc_9: 0.0206 - dense_4_acc_10: 0.0235 - dense_4_acc_11: 0.0059 - dense_4_acc_12: 0.0412 - dense_4_acc_13: 0.0176 - dense_4_acc_14: 0.0147 - dense_4_acc_15: 0.0206 - dense_4_acc_16: 0.1441 - dense_4_acc_17: 0.0412 - dense_4_acc_18: 0.0294 - dense_4_acc_19: 0.0265 - dense_4_acc_20: 0.0294 - dense_4_acc_21: 0.0147 - dense_4_acc_22: 0.0529 - dense_4_acc_23: 0.0324 - dense_4_acc_24: 0.0471 - dense_4_acc_25: 0.0529 - dense_4_acc_26: 0.0294 - dense_4_acc_27: 0.0235 - dense_4_acc_28: 0.0353 - dense_4_acc_29: 0.0324                          \n",
      "Epoch 67/100\n",
      "340/340 [==============================] - 1s 4ms/step - loss: 443.4777 - dense_4_loss: 3.9845 - dense_4_acc: 0.1235 - dense_4_acc_1: 0.0382 - dense_4_acc_2: 0.0118 - dense_4_acc_3: 0.0235 - dense_4_acc_4: 0.0235 - dense_4_acc_5: 0.0147 - dense_4_acc_6: 0.0382 - dense_4_acc_7: 0.0265 - dense_4_acc_8: 0.0206 - dense_4_acc_9: 0.0206 - dense_4_acc_10: 0.0265 - dense_4_acc_11: 0.0059 - dense_4_acc_12: 0.0441 - dense_4_acc_13: 0.0206 - dense_4_acc_14: 0.0147 - dense_4_acc_15: 0.0206 - dense_4_acc_16: 0.1588 - dense_4_acc_17: 0.0382 - dense_4_acc_18: 0.0294 - dense_4_acc_19: 0.0265 - dense_4_acc_20: 0.0294 - dense_4_acc_21: 0.0147 - dense_4_acc_22: 0.0471 - dense_4_acc_23: 0.0324 - dense_4_acc_24: 0.0500 - dense_4_acc_25: 0.0529 - dense_4_acc_26: 0.0294 - dense_4_acc_27: 0.0235 - dense_4_acc_28: 0.0382 - dense_4_acc_29: 0.0324                       \n",
      "Epoch 68/100\n",
      "340/340 [==============================] - 1s 3ms/step - loss: 443.4668 - dense_4_loss: 3.9842 - dense_4_acc: 0.1235 - dense_4_acc_1: 0.0382 - dense_4_acc_2: 0.0118 - dense_4_acc_3: 0.0235 - dense_4_acc_4: 0.0235 - dense_4_acc_5: 0.0147 - dense_4_acc_6: 0.0412 - dense_4_acc_7: 0.0265 - dense_4_acc_8: 0.0206 - dense_4_acc_9: 0.0206 - dense_4_acc_10: 0.0265 - dense_4_acc_11: 0.0118 - dense_4_acc_12: 0.0471 - dense_4_acc_13: 0.0206 - dense_4_acc_14: 0.0147 - dense_4_acc_15: 0.0206 - dense_4_acc_16: 0.1618 - dense_4_acc_17: 0.0382 - dense_4_acc_18: 0.0294 - dense_4_acc_19: 0.0265 - dense_4_acc_20: 0.0294 - dense_4_acc_21: 0.0147 - dense_4_acc_22: 0.0441 - dense_4_acc_23: 0.0353 - dense_4_acc_24: 0.0500 - dense_4_acc_25: 0.0529 - dense_4_acc_26: 0.0294 - dense_4_acc_27: 0.0235 - dense_4_acc_28: 0.0382 - dense_4_acc_29: 0.0324                          \n",
      "Epoch 69/100\n",
      "340/340 [==============================] - 1s 4ms/step - loss: 443.4578 - dense_4_loss: 3.9844 - dense_4_acc: 0.1235 - dense_4_acc_1: 0.0382 - dense_4_acc_2: 0.0118 - dense_4_acc_3: 0.0294 - dense_4_acc_4: 0.0265 - dense_4_acc_5: 0.0147 - dense_4_acc_6: 0.0412 - dense_4_acc_7: 0.0265 - dense_4_acc_8: 0.0265 - dense_4_acc_9: 0.0206 - dense_4_acc_10: 0.0265 - dense_4_acc_11: 0.0118 - dense_4_acc_12: 0.0471 - dense_4_acc_13: 0.0176 - dense_4_acc_14: 0.0147 - dense_4_acc_15: 0.0206 - dense_4_acc_16: 0.1618 - dense_4_acc_17: 0.0382 - dense_4_acc_18: 0.0294 - dense_4_acc_19: 0.0265 - dense_4_acc_20: 0.0294 - dense_4_acc_21: 0.0147 - dense_4_acc_22: 0.0471 - dense_4_acc_23: 0.0382 - dense_4_acc_24: 0.0500 - dense_4_acc_25: 0.0529 - dense_4_acc_26: 0.0324 - dense_4_acc_27: 0.0235 - dense_4_acc_28: 0.0412 - dense_4_acc_29: 0.0324                      \n",
      "Epoch 70/100\n",
      "340/340 [==============================] - 1s 4ms/step - loss: 443.4502 - dense_4_loss: 3.9844 - dense_4_acc: 0.1235 - dense_4_acc_1: 0.0382 - dense_4_acc_2: 0.0118 - dense_4_acc_3: 0.0294 - dense_4_acc_4: 0.0265 - dense_4_acc_5: 0.0147 - dense_4_acc_6: 0.0412 - dense_4_acc_7: 0.0265 - dense_4_acc_8: 0.0265 - dense_4_acc_9: 0.0206 - dense_4_acc_10: 0.0265 - dense_4_acc_11: 0.0118 - dense_4_acc_12: 0.0471 - dense_4_acc_13: 0.0235 - dense_4_acc_14: 0.0147 - dense_4_acc_15: 0.0206 - dense_4_acc_16: 0.1588 - dense_4_acc_17: 0.0382 - dense_4_acc_18: 0.0294 - dense_4_acc_19: 0.0265 - dense_4_acc_20: 0.0353 - dense_4_acc_21: 0.0147 - dense_4_acc_22: 0.0500 - dense_4_acc_23: 0.0382 - dense_4_acc_24: 0.0500 - dense_4_acc_25: 0.0529 - dense_4_acc_26: 0.0324 - dense_4_acc_27: 0.0265 - dense_4_acc_28: 0.0441 - dense_4_acc_29: 0.0324              \n",
      "Epoch 71/100\n",
      "340/340 [==============================] - 1s 3ms/step - loss: 443.4475 - dense_4_loss: 3.9847 - dense_4_acc: 0.1235 - dense_4_acc_1: 0.0382 - dense_4_acc_2: 0.0118 - dense_4_acc_3: 0.0294 - dense_4_acc_4: 0.0265 - dense_4_acc_5: 0.0147 - dense_4_acc_6: 0.0412 - dense_4_acc_7: 0.0265 - dense_4_acc_8: 0.0265 - dense_4_acc_9: 0.0206 - dense_4_acc_10: 0.0265 - dense_4_acc_11: 0.0118 - dense_4_acc_12: 0.0471 - dense_4_acc_13: 0.0235 - dense_4_acc_14: 0.0176 - dense_4_acc_15: 0.0206 - dense_4_acc_16: 0.1588 - dense_4_acc_17: 0.0382 - dense_4_acc_18: 0.0294 - dense_4_acc_19: 0.0265 - dense_4_acc_20: 0.0324 - dense_4_acc_21: 0.0147 - dense_4_acc_22: 0.0471 - dense_4_acc_23: 0.0324 - dense_4_acc_24: 0.0471 - dense_4_acc_25: 0.0471 - dense_4_acc_26: 0.0294 - dense_4_acc_27: 0.0265 - dense_4_acc_28: 0.0441 - dense_4_acc_29: 0.0324                              \n",
      "Epoch 72/100\n"
     ]
    },
    {
     "name": "stdout",
     "output_type": "stream",
     "text": [
      "340/340 [==============================] - 1s 4ms/step - loss: 443.4404 - dense_4_loss: 3.9846 - dense_4_acc: 0.1235 - dense_4_acc_1: 0.0382 - dense_4_acc_2: 0.0118 - dense_4_acc_3: 0.0294 - dense_4_acc_4: 0.0265 - dense_4_acc_5: 0.0147 - dense_4_acc_6: 0.0412 - dense_4_acc_7: 0.0265 - dense_4_acc_8: 0.0265 - dense_4_acc_9: 0.0206 - dense_4_acc_10: 0.0265 - dense_4_acc_11: 0.0059 - dense_4_acc_12: 0.0412 - dense_4_acc_13: 0.0206 - dense_4_acc_14: 0.0147 - dense_4_acc_15: 0.0206 - dense_4_acc_16: 0.1559 - dense_4_acc_17: 0.0382 - dense_4_acc_18: 0.0294 - dense_4_acc_19: 0.0265 - dense_4_acc_20: 0.0324 - dense_4_acc_21: 0.0147 - dense_4_acc_22: 0.0471 - dense_4_acc_23: 0.0382 - dense_4_acc_24: 0.0471 - dense_4_acc_25: 0.0559 - dense_4_acc_26: 0.0324 - dense_4_acc_27: 0.0265 - dense_4_acc_28: 0.0441 - dense_4_acc_29: 0.0324                                                  \n",
      "Epoch 73/100\n",
      "340/340 [==============================] - 1s 3ms/step - loss: 443.4294 - dense_4_loss: 3.9843 - dense_4_acc: 0.1235 - dense_4_acc_1: 0.0382 - dense_4_acc_2: 0.0118 - dense_4_acc_3: 0.0294 - dense_4_acc_4: 0.0265 - dense_4_acc_5: 0.0147 - dense_4_acc_6: 0.0412 - dense_4_acc_7: 0.0265 - dense_4_acc_8: 0.0265 - dense_4_acc_9: 0.0235 - dense_4_acc_10: 0.0265 - dense_4_acc_11: 0.0088 - dense_4_acc_12: 0.0441 - dense_4_acc_13: 0.0206 - dense_4_acc_14: 0.0147 - dense_4_acc_15: 0.0206 - dense_4_acc_16: 0.1618 - dense_4_acc_17: 0.0412 - dense_4_acc_18: 0.0294 - dense_4_acc_19: 0.0265 - dense_4_acc_20: 0.0353 - dense_4_acc_21: 0.0147 - dense_4_acc_22: 0.0529 - dense_4_acc_23: 0.0412 - dense_4_acc_24: 0.0559 - dense_4_acc_25: 0.0529 - dense_4_acc_26: 0.0324 - dense_4_acc_27: 0.0265 - dense_4_acc_28: 0.0471 - dense_4_acc_29: 0.0324    \n",
      "Epoch 74/100\n",
      "340/340 [==============================] - 1s 4ms/step - loss: 443.4173 - dense_4_loss: 3.9841 - dense_4_acc: 0.1235 - dense_4_acc_1: 0.0382 - dense_4_acc_2: 0.0118 - dense_4_acc_3: 0.0294 - dense_4_acc_4: 0.0265 - dense_4_acc_5: 0.0147 - dense_4_acc_6: 0.0412 - dense_4_acc_7: 0.0265 - dense_4_acc_8: 0.0265 - dense_4_acc_9: 0.0265 - dense_4_acc_10: 0.0265 - dense_4_acc_11: 0.0118 - dense_4_acc_12: 0.0500 - dense_4_acc_13: 0.0206 - dense_4_acc_14: 0.0147 - dense_4_acc_15: 0.0206 - dense_4_acc_16: 0.1618 - dense_4_acc_17: 0.0382 - dense_4_acc_18: 0.0294 - dense_4_acc_19: 0.0265 - dense_4_acc_20: 0.0324 - dense_4_acc_21: 0.0147 - dense_4_acc_22: 0.0529 - dense_4_acc_23: 0.0382 - dense_4_acc_24: 0.0529 - dense_4_acc_25: 0.0529 - dense_4_acc_26: 0.0324 - dense_4_acc_27: 0.0265 - dense_4_acc_28: 0.0471 - dense_4_acc_29: 0.0324                                  \n",
      "Epoch 75/100\n",
      "340/340 [==============================] - 1s 4ms/step - loss: 443.4099 - dense_4_loss: 3.9845 - dense_4_acc: 0.1235 - dense_4_acc_1: 0.0382 - dense_4_acc_2: 0.0118 - dense_4_acc_3: 0.0294 - dense_4_acc_4: 0.0265 - dense_4_acc_5: 0.0147 - dense_4_acc_6: 0.0441 - dense_4_acc_7: 0.0265 - dense_4_acc_8: 0.0265 - dense_4_acc_9: 0.0265 - dense_4_acc_10: 0.0265 - dense_4_acc_11: 0.0118 - dense_4_acc_12: 0.0500 - dense_4_acc_13: 0.0206 - dense_4_acc_14: 0.0147 - dense_4_acc_15: 0.0206 - dense_4_acc_16: 0.1647 - dense_4_acc_17: 0.0382 - dense_4_acc_18: 0.0294 - dense_4_acc_19: 0.0265 - dense_4_acc_20: 0.0353 - dense_4_acc_21: 0.0147 - dense_4_acc_22: 0.0529 - dense_4_acc_23: 0.0412 - dense_4_acc_24: 0.0559 - dense_4_acc_25: 0.0529 - dense_4_acc_26: 0.0324 - dense_4_acc_27: 0.0265 - dense_4_acc_28: 0.0471 - dense_4_acc_29: 0.0353          \n",
      "Epoch 76/100\n",
      "340/340 [==============================] - 1s 3ms/step - loss: 443.4030 - dense_4_loss: 3.9838 - dense_4_acc: 0.1235 - dense_4_acc_1: 0.0382 - dense_4_acc_2: 0.0118 - dense_4_acc_3: 0.0294 - dense_4_acc_4: 0.0265 - dense_4_acc_5: 0.0176 - dense_4_acc_6: 0.0471 - dense_4_acc_7: 0.0265 - dense_4_acc_8: 0.0265 - dense_4_acc_9: 0.0265 - dense_4_acc_10: 0.0265 - dense_4_acc_11: 0.0118 - dense_4_acc_12: 0.0500 - dense_4_acc_13: 0.0235 - dense_4_acc_14: 0.0176 - dense_4_acc_15: 0.0206 - dense_4_acc_16: 0.1647 - dense_4_acc_17: 0.0412 - dense_4_acc_18: 0.0294 - dense_4_acc_19: 0.0265 - dense_4_acc_20: 0.0412 - dense_4_acc_21: 0.0147 - dense_4_acc_22: 0.0529 - dense_4_acc_23: 0.0441 - dense_4_acc_24: 0.0588 - dense_4_acc_25: 0.0559 - dense_4_acc_26: 0.0324 - dense_4_acc_27: 0.0265 - dense_4_acc_28: 0.0471 - dense_4_acc_29: 0.0353               \n",
      "Epoch 77/100\n",
      "340/340 [==============================] - 1s 4ms/step - loss: 443.4113 - dense_4_loss: 3.9841 - dense_4_acc: 0.1235 - dense_4_acc_1: 0.0382 - dense_4_acc_2: 0.0118 - dense_4_acc_3: 0.0294 - dense_4_acc_4: 0.0265 - dense_4_acc_5: 0.0206 - dense_4_acc_6: 0.0471 - dense_4_acc_7: 0.0265 - dense_4_acc_8: 0.0265 - dense_4_acc_9: 0.0265 - dense_4_acc_10: 0.0265 - dense_4_acc_11: 0.0088 - dense_4_acc_12: 0.0471 - dense_4_acc_13: 0.0206 - dense_4_acc_14: 0.0147 - dense_4_acc_15: 0.0235 - dense_4_acc_16: 0.1618 - dense_4_acc_17: 0.0412 - dense_4_acc_18: 0.0294 - dense_4_acc_19: 0.0294 - dense_4_acc_20: 0.0353 - dense_4_acc_21: 0.0147 - dense_4_acc_22: 0.0471 - dense_4_acc_23: 0.0412 - dense_4_acc_24: 0.0588 - dense_4_acc_25: 0.0529 - dense_4_acc_26: 0.0353 - dense_4_acc_27: 0.0265 - dense_4_acc_28: 0.0471 - dense_4_acc_29: 0.0382\n",
      "Epoch 78/100\n",
      "340/340 [==============================] - 1s 4ms/step - loss: 443.3942 - dense_4_loss: 3.9840 - dense_4_acc: 0.1265 - dense_4_acc_1: 0.0382 - dense_4_acc_2: 0.0118 - dense_4_acc_3: 0.0324 - dense_4_acc_4: 0.0265 - dense_4_acc_5: 0.0206 - dense_4_acc_6: 0.0471 - dense_4_acc_7: 0.0265 - dense_4_acc_8: 0.0265 - dense_4_acc_9: 0.0265 - dense_4_acc_10: 0.0294 - dense_4_acc_11: 0.0147 - dense_4_acc_12: 0.0471 - dense_4_acc_13: 0.0176 - dense_4_acc_14: 0.0147 - dense_4_acc_15: 0.0235 - dense_4_acc_16: 0.1647 - dense_4_acc_17: 0.0441 - dense_4_acc_18: 0.0324 - dense_4_acc_19: 0.0294 - dense_4_acc_20: 0.0353 - dense_4_acc_21: 0.0147 - dense_4_acc_22: 0.0441 - dense_4_acc_23: 0.0412 - dense_4_acc_24: 0.0559 - dense_4_acc_25: 0.0559 - dense_4_acc_26: 0.0353 - dense_4_acc_27: 0.0265 - dense_4_acc_28: 0.0500 - dense_4_acc_29: 0.0382                      \n",
      "Epoch 79/100\n",
      "340/340 [==============================] - 1s 4ms/step - loss: 443.3891 - dense_4_loss: 3.9835 - dense_4_acc: 0.1265 - dense_4_acc_1: 0.0382 - dense_4_acc_2: 0.0118 - dense_4_acc_3: 0.0324 - dense_4_acc_4: 0.0265 - dense_4_acc_5: 0.0206 - dense_4_acc_6: 0.0471 - dense_4_acc_7: 0.0265 - dense_4_acc_8: 0.0265 - dense_4_acc_9: 0.0294 - dense_4_acc_10: 0.0294 - dense_4_acc_11: 0.0147 - dense_4_acc_12: 0.0500 - dense_4_acc_13: 0.0176 - dense_4_acc_14: 0.0147 - dense_4_acc_15: 0.0235 - dense_4_acc_16: 0.1676 - dense_4_acc_17: 0.0441 - dense_4_acc_18: 0.0294 - dense_4_acc_19: 0.0235 - dense_4_acc_20: 0.0382 - dense_4_acc_21: 0.0147 - dense_4_acc_22: 0.0559 - dense_4_acc_23: 0.0441 - dense_4_acc_24: 0.0559 - dense_4_acc_25: 0.0588 - dense_4_acc_26: 0.0353 - dense_4_acc_27: 0.0235 - dense_4_acc_28: 0.0500 - dense_4_acc_29: 0.0412\n",
      "Epoch 80/100\n",
      "340/340 [==============================] - 1s 4ms/step - loss: 443.3795 - dense_4_loss: 3.9831 - dense_4_acc: 0.1294 - dense_4_acc_1: 0.0382 - dense_4_acc_2: 0.0118 - dense_4_acc_3: 0.0324 - dense_4_acc_4: 0.0265 - dense_4_acc_5: 0.0206 - dense_4_acc_6: 0.0471 - dense_4_acc_7: 0.0265 - dense_4_acc_8: 0.0265 - dense_4_acc_9: 0.0265 - dense_4_acc_10: 0.0294 - dense_4_acc_11: 0.0147 - dense_4_acc_12: 0.0500 - dense_4_acc_13: 0.0206 - dense_4_acc_14: 0.0176 - dense_4_acc_15: 0.0235 - dense_4_acc_16: 0.1676 - dense_4_acc_17: 0.0441 - dense_4_acc_18: 0.0353 - dense_4_acc_19: 0.0265 - dense_4_acc_20: 0.0353 - dense_4_acc_21: 0.0147 - dense_4_acc_22: 0.0559 - dense_4_acc_23: 0.0441 - dense_4_acc_24: 0.0618 - dense_4_acc_25: 0.0559 - dense_4_acc_26: 0.0353 - dense_4_acc_27: 0.0265 - dense_4_acc_28: 0.0500 - dense_4_acc_29: 0.0382                          \n",
      "Epoch 81/100\n",
      "340/340 [==============================] - 1s 4ms/step - loss: 443.3871 - dense_4_loss: 3.9827 - dense_4_acc: 0.1294 - dense_4_acc_1: 0.0382 - dense_4_acc_2: 0.0147 - dense_4_acc_3: 0.0324 - dense_4_acc_4: 0.0265 - dense_4_acc_5: 0.0206 - dense_4_acc_6: 0.0471 - dense_4_acc_7: 0.0265 - dense_4_acc_8: 0.0265 - dense_4_acc_9: 0.0265 - dense_4_acc_10: 0.0294 - dense_4_acc_11: 0.0147 - dense_4_acc_12: 0.0441 - dense_4_acc_13: 0.0235 - dense_4_acc_14: 0.0147 - dense_4_acc_15: 0.0235 - dense_4_acc_16: 0.1618 - dense_4_acc_17: 0.0441 - dense_4_acc_18: 0.0324 - dense_4_acc_19: 0.0265 - dense_4_acc_20: 0.0353 - dense_4_acc_21: 0.0147 - dense_4_acc_22: 0.0559 - dense_4_acc_23: 0.0441 - dense_4_acc_24: 0.0588 - dense_4_acc_25: 0.0588 - dense_4_acc_26: 0.0353 - dense_4_acc_27: 0.0265 - dense_4_acc_28: 0.0500 - dense_4_acc_29: 0.0382                        \n",
      "Epoch 82/100\n",
      "340/340 [==============================] - 1s 4ms/step - loss: 443.3834 - dense_4_loss: 3.9827 - dense_4_acc: 0.1294 - dense_4_acc_1: 0.0382 - dense_4_acc_2: 0.0147 - dense_4_acc_3: 0.0324 - dense_4_acc_4: 0.0265 - dense_4_acc_5: 0.0206 - dense_4_acc_6: 0.0471 - dense_4_acc_7: 0.0265 - dense_4_acc_8: 0.0265 - dense_4_acc_9: 0.0265 - dense_4_acc_10: 0.0294 - dense_4_acc_11: 0.0147 - dense_4_acc_12: 0.0471 - dense_4_acc_13: 0.0206 - dense_4_acc_14: 0.0176 - dense_4_acc_15: 0.0235 - dense_4_acc_16: 0.1676 - dense_4_acc_17: 0.0441 - dense_4_acc_18: 0.0353 - dense_4_acc_19: 0.0294 - dense_4_acc_20: 0.0353 - dense_4_acc_21: 0.0147 - dense_4_acc_22: 0.0471 - dense_4_acc_23: 0.0412 - dense_4_acc_24: 0.0618 - dense_4_acc_25: 0.0588 - dense_4_acc_26: 0.0324 - dense_4_acc_27: 0.0265 - dense_4_acc_28: 0.0500 - dense_4_acc_29: 0.0412                                  \n",
      "Epoch 83/100\n",
      "340/340 [==============================] - 1s 4ms/step - loss: 443.3919 - dense_4_loss: 3.9836 - dense_4_acc: 0.1294 - dense_4_acc_1: 0.0382 - dense_4_acc_2: 0.0147 - dense_4_acc_3: 0.0324 - dense_4_acc_4: 0.0265 - dense_4_acc_5: 0.0206 - dense_4_acc_6: 0.0500 - dense_4_acc_7: 0.0265 - dense_4_acc_8: 0.0265 - dense_4_acc_9: 0.0294 - dense_4_acc_10: 0.0265 - dense_4_acc_11: 0.0088 - dense_4_acc_12: 0.0441 - dense_4_acc_13: 0.0206 - dense_4_acc_14: 0.0176 - dense_4_acc_15: 0.0235 - dense_4_acc_16: 0.1647 - dense_4_acc_17: 0.0412 - dense_4_acc_18: 0.0353 - dense_4_acc_19: 0.0324 - dense_4_acc_20: 0.0382 - dense_4_acc_21: 0.0147 - dense_4_acc_22: 0.0529 - dense_4_acc_23: 0.0441 - dense_4_acc_24: 0.0588 - dense_4_acc_25: 0.0588 - dense_4_acc_26: 0.0353 - dense_4_acc_27: 0.0235 - dense_4_acc_28: 0.0500 - dense_4_acc_29: 0.0412                               \n",
      "Epoch 84/100\n",
      "340/340 [==============================] - 1s 3ms/step - loss: 443.3899 - dense_4_loss: 3.9857 - dense_4_acc: 0.1294 - dense_4_acc_1: 0.0382 - dense_4_acc_2: 0.0147 - dense_4_acc_3: 0.0324 - dense_4_acc_4: 0.0265 - dense_4_acc_5: 0.0206 - dense_4_acc_6: 0.0500 - dense_4_acc_7: 0.0265 - dense_4_acc_8: 0.0265 - dense_4_acc_9: 0.0294 - dense_4_acc_10: 0.0265 - dense_4_acc_11: 0.0088 - dense_4_acc_12: 0.0471 - dense_4_acc_13: 0.0206 - dense_4_acc_14: 0.0176 - dense_4_acc_15: 0.0235 - dense_4_acc_16: 0.1647 - dense_4_acc_17: 0.0441 - dense_4_acc_18: 0.0353 - dense_4_acc_19: 0.0294 - dense_4_acc_20: 0.0353 - dense_4_acc_21: 0.0147 - dense_4_acc_22: 0.0471 - dense_4_acc_23: 0.0412 - dense_4_acc_24: 0.0588 - dense_4_acc_25: 0.0588 - dense_4_acc_26: 0.0353 - dense_4_acc_27: 0.0235 - dense_4_acc_28: 0.0500 - dense_4_acc_29: 0.0382                                           \n",
      "Epoch 85/100\n",
      "340/340 [==============================] - 1s 4ms/step - loss: 443.3774 - dense_4_loss: 3.9827 - dense_4_acc: 0.1294 - dense_4_acc_1: 0.0382 - dense_4_acc_2: 0.0147 - dense_4_acc_3: 0.0324 - dense_4_acc_4: 0.0265 - dense_4_acc_5: 0.0206 - dense_4_acc_6: 0.0500 - dense_4_acc_7: 0.0265 - dense_4_acc_8: 0.0265 - dense_4_acc_9: 0.0294 - dense_4_acc_10: 0.0265 - dense_4_acc_11: 0.0088 - dense_4_acc_12: 0.0471 - dense_4_acc_13: 0.0206 - dense_4_acc_14: 0.0176 - dense_4_acc_15: 0.0235 - dense_4_acc_16: 0.1676 - dense_4_acc_17: 0.0441 - dense_4_acc_18: 0.0324 - dense_4_acc_19: 0.0294 - dense_4_acc_20: 0.0353 - dense_4_acc_21: 0.0147 - dense_4_acc_22: 0.0500 - dense_4_acc_23: 0.0441 - dense_4_acc_24: 0.0559 - dense_4_acc_25: 0.0559 - dense_4_acc_26: 0.0353 - dense_4_acc_27: 0.0265 - dense_4_acc_28: 0.0500 - dense_4_acc_29: 0.0412                                              \n",
      "Epoch 86/100\n",
      "340/340 [==============================] - 1s 4ms/step - loss: 443.3690 - dense_4_loss: 3.9823 - dense_4_acc: 0.1294 - dense_4_acc_1: 0.0382 - dense_4_acc_2: 0.0147 - dense_4_acc_3: 0.0324 - dense_4_acc_4: 0.0265 - dense_4_acc_5: 0.0206 - dense_4_acc_6: 0.0500 - dense_4_acc_7: 0.0265 - dense_4_acc_8: 0.0294 - dense_4_acc_9: 0.0294 - dense_4_acc_10: 0.0265 - dense_4_acc_11: 0.0088 - dense_4_acc_12: 0.0471 - dense_4_acc_13: 0.0206 - dense_4_acc_14: 0.0176 - dense_4_acc_15: 0.0235 - dense_4_acc_16: 0.1676 - dense_4_acc_17: 0.0441 - dense_4_acc_18: 0.0353 - dense_4_acc_19: 0.0294 - dense_4_acc_20: 0.0412 - dense_4_acc_21: 0.0147 - dense_4_acc_22: 0.0529 - dense_4_acc_23: 0.0441 - dense_4_acc_24: 0.0647 - dense_4_acc_25: 0.0588 - dense_4_acc_26: 0.0353 - dense_4_acc_27: 0.0265 - dense_4_acc_28: 0.0500 - dense_4_acc_29: 0.0412                                   - ETA: 0s - loss: 417.0067 - dense_4_loss: 4.3632 - dense_4_acc: 0.1161 - dense_4_acc_1: 0.0402 - dense_4_acc_2: 0.0179 - dense_4_acc_3: 0.0312 - dense_4_acc_4: 0.0223 - dense_4_acc_5: 0.0223 - dense_4_acc_6: 0.0536 - dense_4_acc_7: 0.0268 - dense_4_acc_8: 0.0357 - dense_4_acc_9: 0.0268 - dense_4_acc_10: 0.0312 - dense_4_acc_11: 0.0134 - dense_4_acc_12: 0.0491 - dense_4_acc_13: 0.0134 - dense_4_acc_14: 0.0179 - dense_4_acc_15: 0.0268 - dense_4_acc_16: 0.1696 - dense_4_acc_17: 0.0402 - dense_4_acc_18: 0.0446 - dense_4_acc_19: 0.0357 - dense_4_acc_20: 0.0402 - dense_4_acc_21: 0.0179 - dense_4_acc_22: 0.0625 - dense_4_acc_23: 0.0402 - dense_4_acc_24: 0.0759 - dense_4_acc_25: 0.0580 - dense_4_acc_26: 0.0223 - dense_4_acc_27: 0.0312 - dense_4_acc_28: 0.0625 - dense_4_acc_29\n",
      "Epoch 87/100\n",
      "340/340 [==============================] - 1s 4ms/step - loss: 443.3574 - dense_4_loss: 3.9818 - dense_4_acc: 0.1294 - dense_4_acc_1: 0.0382 - dense_4_acc_2: 0.0147 - dense_4_acc_3: 0.0324 - dense_4_acc_4: 0.0265 - dense_4_acc_5: 0.0206 - dense_4_acc_6: 0.0500 - dense_4_acc_7: 0.0265 - dense_4_acc_8: 0.0294 - dense_4_acc_9: 0.0294 - dense_4_acc_10: 0.0265 - dense_4_acc_11: 0.0088 - dense_4_acc_12: 0.0471 - dense_4_acc_13: 0.0206 - dense_4_acc_14: 0.0176 - dense_4_acc_15: 0.0235 - dense_4_acc_16: 0.1647 - dense_4_acc_17: 0.0441 - dense_4_acc_18: 0.0353 - dense_4_acc_19: 0.0353 - dense_4_acc_20: 0.0353 - dense_4_acc_21: 0.0147 - dense_4_acc_22: 0.0559 - dense_4_acc_23: 0.0441 - dense_4_acc_24: 0.0647 - dense_4_acc_25: 0.0588 - dense_4_acc_26: 0.0353 - dense_4_acc_27: 0.0265 - dense_4_acc_28: 0.0500 - dense_4_acc_29: 0.0412                              \n",
      "Epoch 88/100\n",
      "340/340 [==============================] - 1s 4ms/step - loss: 443.3498 - dense_4_loss: 3.9813 - dense_4_acc: 0.1324 - dense_4_acc_1: 0.0382 - dense_4_acc_2: 0.0147 - dense_4_acc_3: 0.0324 - dense_4_acc_4: 0.0265 - dense_4_acc_5: 0.0206 - dense_4_acc_6: 0.0500 - dense_4_acc_7: 0.0265 - dense_4_acc_8: 0.0294 - dense_4_acc_9: 0.0294 - dense_4_acc_10: 0.0294 - dense_4_acc_11: 0.0088 - dense_4_acc_12: 0.0471 - dense_4_acc_13: 0.0206 - dense_4_acc_14: 0.0176 - dense_4_acc_15: 0.0235 - dense_4_acc_16: 0.1676 - dense_4_acc_17: 0.0441 - dense_4_acc_18: 0.0353 - dense_4_acc_19: 0.0353 - dense_4_acc_20: 0.0353 - dense_4_acc_21: 0.0147 - dense_4_acc_22: 0.0500 - dense_4_acc_23: 0.0441 - dense_4_acc_24: 0.0647 - dense_4_acc_25: 0.0588 - dense_4_acc_26: 0.0353 - dense_4_acc_27: 0.0265 - dense_4_acc_28: 0.0500 - dense_4_acc_29: 0.0412\n",
      "Epoch 89/100\n"
     ]
    },
    {
     "name": "stdout",
     "output_type": "stream",
     "text": [
      "340/340 [==============================] - 1s 4ms/step - loss: 443.3457 - dense_4_loss: 3.9808 - dense_4_acc: 0.1324 - dense_4_acc_1: 0.0382 - dense_4_acc_2: 0.0147 - dense_4_acc_3: 0.0324 - dense_4_acc_4: 0.0265 - dense_4_acc_5: 0.0206 - dense_4_acc_6: 0.0500 - dense_4_acc_7: 0.0265 - dense_4_acc_8: 0.0294 - dense_4_acc_9: 0.0294 - dense_4_acc_10: 0.0294 - dense_4_acc_11: 0.0088 - dense_4_acc_12: 0.0471 - dense_4_acc_13: 0.0206 - dense_4_acc_14: 0.0176 - dense_4_acc_15: 0.0235 - dense_4_acc_16: 0.1676 - dense_4_acc_17: 0.0441 - dense_4_acc_18: 0.0353 - dense_4_acc_19: 0.0353 - dense_4_acc_20: 0.0382 - dense_4_acc_21: 0.0147 - dense_4_acc_22: 0.0559 - dense_4_acc_23: 0.0441 - dense_4_acc_24: 0.0647 - dense_4_acc_25: 0.0588 - dense_4_acc_26: 0.0353 - dense_4_acc_27: 0.0265 - dense_4_acc_28: 0.0500 - dense_4_acc_29: 0.0412                                                  \n",
      "Epoch 90/100\n",
      "340/340 [==============================] - 1s 4ms/step - loss: 443.3486 - dense_4_loss: 3.9810 - dense_4_acc: 0.1324 - dense_4_acc_1: 0.0382 - dense_4_acc_2: 0.0147 - dense_4_acc_3: 0.0324 - dense_4_acc_4: 0.0265 - dense_4_acc_5: 0.0206 - dense_4_acc_6: 0.0500 - dense_4_acc_7: 0.0265 - dense_4_acc_8: 0.0294 - dense_4_acc_9: 0.0294 - dense_4_acc_10: 0.0294 - dense_4_acc_11: 0.0147 - dense_4_acc_12: 0.0529 - dense_4_acc_13: 0.0235 - dense_4_acc_14: 0.0176 - dense_4_acc_15: 0.0235 - dense_4_acc_16: 0.1735 - dense_4_acc_17: 0.0441 - dense_4_acc_18: 0.0353 - dense_4_acc_19: 0.0353 - dense_4_acc_20: 0.0353 - dense_4_acc_21: 0.0147 - dense_4_acc_22: 0.0441 - dense_4_acc_23: 0.0412 - dense_4_acc_24: 0.0618 - dense_4_acc_25: 0.0559 - dense_4_acc_26: 0.0324 - dense_4_acc_27: 0.0265 - dense_4_acc_28: 0.0500 - dense_4_acc_29: 0.0412                                          \n",
      "Epoch 91/100\n",
      "340/340 [==============================] - 1s 4ms/step - loss: 443.3431 - dense_4_loss: 3.9808 - dense_4_acc: 0.1324 - dense_4_acc_1: 0.0382 - dense_4_acc_2: 0.0147 - dense_4_acc_3: 0.0324 - dense_4_acc_4: 0.0294 - dense_4_acc_5: 0.0206 - dense_4_acc_6: 0.0500 - dense_4_acc_7: 0.0265 - dense_4_acc_8: 0.0294 - dense_4_acc_9: 0.0294 - dense_4_acc_10: 0.0294 - dense_4_acc_11: 0.0147 - dense_4_acc_12: 0.0529 - dense_4_acc_13: 0.0206 - dense_4_acc_14: 0.0176 - dense_4_acc_15: 0.0265 - dense_4_acc_16: 0.1676 - dense_4_acc_17: 0.0441 - dense_4_acc_18: 0.0353 - dense_4_acc_19: 0.0353 - dense_4_acc_20: 0.0353 - dense_4_acc_21: 0.0147 - dense_4_acc_22: 0.0471 - dense_4_acc_23: 0.0412 - dense_4_acc_24: 0.0618 - dense_4_acc_25: 0.0529 - dense_4_acc_26: 0.0324 - dense_4_acc_27: 0.0265 - dense_4_acc_28: 0.0500 - dense_4_acc_29: 0.0412              \n",
      "Epoch 92/100\n",
      "340/340 [==============================] - 1s 4ms/step - loss: 443.3295 - dense_4_loss: 3.9800 - dense_4_acc: 0.1324 - dense_4_acc_1: 0.0382 - dense_4_acc_2: 0.0147 - dense_4_acc_3: 0.0324 - dense_4_acc_4: 0.0294 - dense_4_acc_5: 0.0206 - dense_4_acc_6: 0.0529 - dense_4_acc_7: 0.0265 - dense_4_acc_8: 0.0294 - dense_4_acc_9: 0.0294 - dense_4_acc_10: 0.0294 - dense_4_acc_11: 0.0118 - dense_4_acc_12: 0.0500 - dense_4_acc_13: 0.0206 - dense_4_acc_14: 0.0176 - dense_4_acc_15: 0.0265 - dense_4_acc_16: 0.1676 - dense_4_acc_17: 0.0441 - dense_4_acc_18: 0.0353 - dense_4_acc_19: 0.0353 - dense_4_acc_20: 0.0353 - dense_4_acc_21: 0.0147 - dense_4_acc_22: 0.0500 - dense_4_acc_23: 0.0441 - dense_4_acc_24: 0.0647 - dense_4_acc_25: 0.0559 - dense_4_acc_26: 0.0353 - dense_4_acc_27: 0.0265 - dense_4_acc_28: 0.0500 - dense_4_acc_29: 0.0412\n",
      "Epoch 93/100\n",
      "340/340 [==============================] - 1s 4ms/step - loss: 443.3227 - dense_4_loss: 3.9798 - dense_4_acc: 0.1324 - dense_4_acc_1: 0.0382 - dense_4_acc_2: 0.0147 - dense_4_acc_3: 0.0324 - dense_4_acc_4: 0.0294 - dense_4_acc_5: 0.0206 - dense_4_acc_6: 0.0529 - dense_4_acc_7: 0.0265 - dense_4_acc_8: 0.0294 - dense_4_acc_9: 0.0324 - dense_4_acc_10: 0.0294 - dense_4_acc_11: 0.0147 - dense_4_acc_12: 0.0529 - dense_4_acc_13: 0.0206 - dense_4_acc_14: 0.0176 - dense_4_acc_15: 0.0235 - dense_4_acc_16: 0.1706 - dense_4_acc_17: 0.0441 - dense_4_acc_18: 0.0353 - dense_4_acc_19: 0.0294 - dense_4_acc_20: 0.0412 - dense_4_acc_21: 0.0147 - dense_4_acc_22: 0.0559 - dense_4_acc_23: 0.0441 - dense_4_acc_24: 0.0647 - dense_4_acc_25: 0.0588 - dense_4_acc_26: 0.0353 - dense_4_acc_27: 0.0265 - dense_4_acc_28: 0.0500 - dense_4_acc_29: 0.0471          \n",
      "Epoch 94/100\n",
      "340/340 [==============================] - 1s 4ms/step - loss: 443.3277 - dense_4_loss: 3.9794 - dense_4_acc: 0.1324 - dense_4_acc_1: 0.0382 - dense_4_acc_2: 0.0147 - dense_4_acc_3: 0.0324 - dense_4_acc_4: 0.0324 - dense_4_acc_5: 0.0235 - dense_4_acc_6: 0.0529 - dense_4_acc_7: 0.0265 - dense_4_acc_8: 0.0294 - dense_4_acc_9: 0.0324 - dense_4_acc_10: 0.0294 - dense_4_acc_11: 0.0147 - dense_4_acc_12: 0.0500 - dense_4_acc_13: 0.0206 - dense_4_acc_14: 0.0176 - dense_4_acc_15: 0.0265 - dense_4_acc_16: 0.1676 - dense_4_acc_17: 0.0441 - dense_4_acc_18: 0.0353 - dense_4_acc_19: 0.0324 - dense_4_acc_20: 0.0382 - dense_4_acc_21: 0.0147 - dense_4_acc_22: 0.0529 - dense_4_acc_23: 0.0441 - dense_4_acc_24: 0.0647 - dense_4_acc_25: 0.0588 - dense_4_acc_26: 0.0353 - dense_4_acc_27: 0.0265 - dense_4_acc_28: 0.0500 - dense_4_acc_29: 0.0471                              \n",
      "Epoch 95/100\n",
      "340/340 [==============================] - 1s 4ms/step - loss: 443.3162 - dense_4_loss: 3.9790 - dense_4_acc: 0.1324 - dense_4_acc_1: 0.0382 - dense_4_acc_2: 0.0147 - dense_4_acc_3: 0.0324 - dense_4_acc_4: 0.0353 - dense_4_acc_5: 0.0235 - dense_4_acc_6: 0.0529 - dense_4_acc_7: 0.0265 - dense_4_acc_8: 0.0294 - dense_4_acc_9: 0.0324 - dense_4_acc_10: 0.0294 - dense_4_acc_11: 0.0147 - dense_4_acc_12: 0.0529 - dense_4_acc_13: 0.0235 - dense_4_acc_14: 0.0206 - dense_4_acc_15: 0.0265 - dense_4_acc_16: 0.1706 - dense_4_acc_17: 0.0441 - dense_4_acc_18: 0.0353 - dense_4_acc_19: 0.0353 - dense_4_acc_20: 0.0353 - dense_4_acc_21: 0.0147 - dense_4_acc_22: 0.0471 - dense_4_acc_23: 0.0441 - dense_4_acc_24: 0.0647 - dense_4_acc_25: 0.0618 - dense_4_acc_26: 0.0353 - dense_4_acc_27: 0.0294 - dense_4_acc_28: 0.0500 - dense_4_acc_29: 0.0471                      \n",
      "Epoch 96/100\n",
      "340/340 [==============================] - 1s 4ms/step - loss: 443.3136 - dense_4_loss: 3.9792 - dense_4_acc: 0.1324 - dense_4_acc_1: 0.0382 - dense_4_acc_2: 0.0147 - dense_4_acc_3: 0.0324 - dense_4_acc_4: 0.0353 - dense_4_acc_5: 0.0235 - dense_4_acc_6: 0.0529 - dense_4_acc_7: 0.0265 - dense_4_acc_8: 0.0294 - dense_4_acc_9: 0.0324 - dense_4_acc_10: 0.0294 - dense_4_acc_11: 0.0147 - dense_4_acc_12: 0.0500 - dense_4_acc_13: 0.0206 - dense_4_acc_14: 0.0176 - dense_4_acc_15: 0.0265 - dense_4_acc_16: 0.1676 - dense_4_acc_17: 0.0441 - dense_4_acc_18: 0.0353 - dense_4_acc_19: 0.0353 - dense_4_acc_20: 0.0382 - dense_4_acc_21: 0.0147 - dense_4_acc_22: 0.0559 - dense_4_acc_23: 0.0441 - dense_4_acc_24: 0.0647 - dense_4_acc_25: 0.0618 - dense_4_acc_26: 0.0353 - dense_4_acc_27: 0.0294 - dense_4_acc_28: 0.0500 - dense_4_acc_29: 0.0471                  \n",
      "Epoch 97/100\n",
      "340/340 [==============================] - 1s 4ms/step - loss: 443.3063 - dense_4_loss: 3.9784 - dense_4_acc: 0.1324 - dense_4_acc_1: 0.0382 - dense_4_acc_2: 0.0147 - dense_4_acc_3: 0.0324 - dense_4_acc_4: 0.0324 - dense_4_acc_5: 0.0235 - dense_4_acc_6: 0.0529 - dense_4_acc_7: 0.0265 - dense_4_acc_8: 0.0324 - dense_4_acc_9: 0.0324 - dense_4_acc_10: 0.0294 - dense_4_acc_11: 0.0147 - dense_4_acc_12: 0.0529 - dense_4_acc_13: 0.0206 - dense_4_acc_14: 0.0176 - dense_4_acc_15: 0.0265 - dense_4_acc_16: 0.1706 - dense_4_acc_17: 0.0441 - dense_4_acc_18: 0.0324 - dense_4_acc_19: 0.0353 - dense_4_acc_20: 0.0412 - dense_4_acc_21: 0.0147 - dense_4_acc_22: 0.0559 - dense_4_acc_23: 0.0441 - dense_4_acc_24: 0.0618 - dense_4_acc_25: 0.0618 - dense_4_acc_26: 0.0353 - dense_4_acc_27: 0.0294 - dense_4_acc_28: 0.0500 - dense_4_acc_29: 0.0471  \n",
      "Epoch 98/100\n",
      "340/340 [==============================] - 1s 4ms/step - loss: 443.3020 - dense_4_loss: 3.9782 - dense_4_acc: 0.1324 - dense_4_acc_1: 0.0382 - dense_4_acc_2: 0.0147 - dense_4_acc_3: 0.0324 - dense_4_acc_4: 0.0324 - dense_4_acc_5: 0.0235 - dense_4_acc_6: 0.0529 - dense_4_acc_7: 0.0265 - dense_4_acc_8: 0.0324 - dense_4_acc_9: 0.0324 - dense_4_acc_10: 0.0294 - dense_4_acc_11: 0.0147 - dense_4_acc_12: 0.0529 - dense_4_acc_13: 0.0235 - dense_4_acc_14: 0.0176 - dense_4_acc_15: 0.0265 - dense_4_acc_16: 0.1735 - dense_4_acc_17: 0.0441 - dense_4_acc_18: 0.0353 - dense_4_acc_19: 0.0353 - dense_4_acc_20: 0.0471 - dense_4_acc_21: 0.0176 - dense_4_acc_22: 0.0559 - dense_4_acc_23: 0.0441 - dense_4_acc_24: 0.0647 - dense_4_acc_25: 0.0618 - dense_4_acc_26: 0.0353 - dense_4_acc_27: 0.0294 - dense_4_acc_28: 0.0500 - dense_4_acc_29: 0.0471              \n",
      "Epoch 99/100\n",
      "340/340 [==============================] - 1s 4ms/step - loss: 443.2984 - dense_4_loss: 3.9781 - dense_4_acc: 0.1324 - dense_4_acc_1: 0.0382 - dense_4_acc_2: 0.0147 - dense_4_acc_3: 0.0324 - dense_4_acc_4: 0.0324 - dense_4_acc_5: 0.0235 - dense_4_acc_6: 0.0529 - dense_4_acc_7: 0.0265 - dense_4_acc_8: 0.0324 - dense_4_acc_9: 0.0324 - dense_4_acc_10: 0.0294 - dense_4_acc_11: 0.0147 - dense_4_acc_12: 0.0529 - dense_4_acc_13: 0.0294 - dense_4_acc_14: 0.0176 - dense_4_acc_15: 0.0265 - dense_4_acc_16: 0.1706 - dense_4_acc_17: 0.0441 - dense_4_acc_18: 0.0353 - dense_4_acc_19: 0.0324 - dense_4_acc_20: 0.0471 - dense_4_acc_21: 0.0147 - dense_4_acc_22: 0.0559 - dense_4_acc_23: 0.0441 - dense_4_acc_24: 0.0647 - dense_4_acc_25: 0.0618 - dense_4_acc_26: 0.0353 - dense_4_acc_27: 0.0294 - dense_4_acc_28: 0.0500 - dense_4_acc_29: 0.0471      \n",
      "Epoch 100/100\n",
      "340/340 [==============================] - 1s 4ms/step - loss: 443.2966 - dense_4_loss: 3.9781 - dense_4_acc: 0.1353 - dense_4_acc_1: 0.0382 - dense_4_acc_2: 0.0147 - dense_4_acc_3: 0.0324 - dense_4_acc_4: 0.0324 - dense_4_acc_5: 0.0235 - dense_4_acc_6: 0.0529 - dense_4_acc_7: 0.0265 - dense_4_acc_8: 0.0324 - dense_4_acc_9: 0.0324 - dense_4_acc_10: 0.0294 - dense_4_acc_11: 0.0147 - dense_4_acc_12: 0.0559 - dense_4_acc_13: 0.0294 - dense_4_acc_14: 0.0206 - dense_4_acc_15: 0.0265 - dense_4_acc_16: 0.1735 - dense_4_acc_17: 0.0441 - dense_4_acc_18: 0.0353 - dense_4_acc_19: 0.0353 - dense_4_acc_20: 0.0441 - dense_4_acc_21: 0.0147 - dense_4_acc_22: 0.0529 - dense_4_acc_23: 0.0441 - dense_4_acc_24: 0.0647 - dense_4_acc_25: 0.0618 - dense_4_acc_26: 0.0353 - dense_4_acc_27: 0.0294 - dense_4_acc_28: 0.0500 - dense_4_acc_29: 0.0471               \n"
     ]
    },
    {
     "data": {
      "text/plain": [
       "<keras.callbacks.History at 0x21094d81f28>"
      ]
     },
     "execution_count": 25,
     "metadata": {},
     "output_type": "execute_result"
    }
   ],
   "source": [
    "a0 = np.zeros((m_examples, n_a))\n",
    "lstm_model.fit([classical_features[1], X2_classical, a0], list(Y2_classical.transpose((1, 0, 2))), epochs=100)"
   ]
  },
  {
   "cell_type": "code",
   "execution_count": null,
   "metadata": {},
   "outputs": [],
   "source": []
  }
 ],
 "metadata": {
  "kernelspec": {
   "display_name": "Python 3",
   "language": "python",
   "name": "python3"
  },
  "language_info": {
   "codemirror_mode": {
    "name": "ipython",
    "version": 3
   },
   "file_extension": ".py",
   "mimetype": "text/x-python",
   "name": "python",
   "nbconvert_exporter": "python",
   "pygments_lexer": "ipython3",
   "version": "3.6.5"
  }
 },
 "nbformat": 4,
 "nbformat_minor": 2
}
